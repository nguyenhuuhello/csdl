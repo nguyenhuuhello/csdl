{
 "cells": [
  {
   "cell_type": "markdown",
   "id": "3f0905bc",
   "metadata": {},
   "source": [
    "CHAPTER 11\n",
    "\n",
    "Financial and Economic Data\n",
    "Applications"
   ]
  },
  {
   "cell_type": "code",
   "execution_count": 1,
   "id": "468d05bf",
   "metadata": {},
   "outputs": [],
   "source": [
    "import numpy as np\n",
    "import pandas as pd\n",
    "np.random.seed(12345)\n",
    "import matplotlib.pyplot as plt\n",
    "PREVIOUS_MAX_ROWS = pd.options.display.max_rows\n",
    "pd.options.display.max_rows = 20\n",
    "\n",
    "from IPython.core.interactiveshell import InteractiveShell\n",
    "InteractiveShell.ast_node_interactivity = \"all\"\n",
    "plt.rc('figure', figsize=(10, 6))\n",
    "np.set_printoptions(precision=4, suppress=True)\n",
    "from datetime import datetime"
   ]
  },
  {
   "cell_type": "markdown",
   "id": "46edce3a",
   "metadata": {},
   "source": [
    "\n",
    "Alias    Description\n",
    "\n",
    "B        business day frequency\n",
    "\n",
    "C        custom business day frequency\n",
    "\n",
    "D        calendar day frequency\n",
    "\n",
    "W        weekly frequency\n",
    "\n",
    "M        month end frequency\n",
    "\n",
    "SM       semi-month end frequency (15th and end of month)\n",
    "\n",
    "BM       business month end frequency\n",
    "\n",
    "CBM      custom business month end frequency\n",
    "\n",
    "MS       month start frequency\n",
    "\n",
    "SMS      semi-month start frequency (1st and 15th)\n",
    "\n",
    "BMS      business month start frequency\n",
    "\n",
    "CBMS     custom business month start frequency\n",
    "\n",
    "Q        quarter end frequency\n",
    "\n",
    "BQ       business quarter end frequency\n",
    "\n",
    "QS       quarter start frequency\n",
    "\n",
    "BQS      business quarter start frequency\n",
    "\n",
    "A, Y     year end frequency\n",
    "\n",
    "BA, BY   business year end frequency\n",
    "\n",
    "AS, YS   year start frequency\n",
    "\n",
    "BAS, BYS business year start frequency\n",
    "\n",
    "BH       business hour frequency\n",
    "\n",
    "H        hourly frequency\n",
    "\n",
    "T, min   minutely frequency\n",
    "\n",
    "S        secondly frequency\n",
    "\n",
    "L, ms    milliseconds\n",
    "\n",
    "U, us    microseconds\n",
    "\n",
    "N        nanoseconds"
   ]
  },
  {
   "cell_type": "markdown",
   "id": "999947d2",
   "metadata": {},
   "source": [
    "Sử dụng Python trong ngành tài chính tăng nhanh một cách đáng kể từ năm 2005, chủ\n",
    "yếu là do sự lớn mạnh của các thư viện (như Numpy và Pandas) và kĩ năng sẵn có của\n",
    "các lập trình viên Python chuyên nghiệp. Các tổ chức, cơ quan đã nhận thấy rằng Python\n",
    "rất phù hợp với cả vai trò là một môi trường phân tích tương tác cũng như cho phép các\n",
    "hệ thống mạnh mẽ được phát triển thường xuyên trong một khoảng thời gian ngắn so với\n",
    "Java hoặc C++. Python cũng là một ngôn ngữ lý tưởng để xây dựng giao diện Python\n",
    "cho các thư viện kế thừa được xây dựng trong C hoặc C++.\n",
    "\n",
    "Trong những ví dụ này, tôi sẽ sử dụng thuật ngữ cross-section để chỉ dữ liệu tại một thời\n",
    "điểm cố định. Ví dụ, giá đóng cửa của toàn bộ cổ phiếu của chỉ số S&P 500 vào một\n",
    "ngày cụ thể tạo thành một cross-section. Dữ liệu cross-sectional tại nhiều thời điểm trên\n",
    "nhiều mục dữ liệu (ví dụ như giá cả với khối lượng ) tạo thành một bảng điều khiển. Dữ\n",
    "liệu bảng điều khiển có thành tạo thành bảng ở dưới dạng DataFrame hoặc sử dụng đối\n",
    "tượng pandas Panel ba chiều"
   ]
  },
  {
   "cell_type": "markdown",
   "id": "f048b860",
   "metadata": {},
   "source": [
    "Data Munging Topics"
   ]
  },
  {
   "cell_type": "markdown",
   "id": "94ecb31c",
   "metadata": {},
   "source": [
    "Nhiều công cụ tổng hợp dữ liệu hữu ích cho các ứng dụng tài chính được trải rộng trong\n",
    "các chương trước. Ở đây tôi sẽ nêu nổi bật một số chủ đề vì chúng liên quan đến đề này."
   ]
  },
  {
   "cell_type": "markdown",
   "id": "a2bc388c",
   "metadata": {},
   "source": [
    "1.1 Time Series and Cross-Section Alignment"
   ]
  },
  {
   "cell_type": "markdown",
   "id": "014a6234",
   "metadata": {},
   "source": [
    "Một trong những vấn đề tốn nhiều thời gian nhất khi làm việc với dữ liệu tài chính là\n",
    "vấn đề liên kết dữ liệu .Hai chuỗi thời gian liên quan có thể có các chỉ số không phù hợp\n",
    "với nhau, hoặc hai đối tượng DataFrame có thể có các cột hoặc nhãn hàng không khớp.\n",
    "Người dùng MATLAB, R và các ngôn ngữ lập trình ma trận khác thường đầu tư công\n",
    "sức nỗ lực một cách đáng kể vào việc gói dữ liệu thành các dạng được căn chỉnh hoàn\n",
    "hảo. Với kinh nghiệm, phải căn chỉnh dữ liệu bằng tay và tệ hơn là phải xác minh rằng\n",
    "dữ liệu được căn chỉnh) là một cách cứng nhắc và nhàm chán . Nó cũng tiềm ẩn rất nhiều\n",
    "lỗi do kết hợp dữ liệu bị lệch không đồng nhất với nhau.\n",
    "\n",
    "Pandas thực hiện một cách tiếp cận thay thế bằng cách tự động căn chỉnh dữ liệu trong\n",
    "các phép toán số học. Trên thực tế, điều này mang lại sự tự do to lớn và nâng cao năng\n",
    "suất của bạn. Ví dụ: hãy xem xét một vài DataFrames chứa chuỗi thời gian về giá và khối\n",
    "lượng cổ phiếu"
   ]
  },
  {
   "cell_type": "code",
   "execution_count": 2,
   "id": "3d17f504",
   "metadata": {},
   "outputs": [
    {
     "data": {
      "text/plain": [
       "array([[18173500, 15848300, 25416300],\n",
       "       [12492000, 10759700, 23108400],\n",
       "       [14839800, 15551500, 22434800],\n",
       "       [20171900, 17008200, 27969100],\n",
       "       [16697300, 13448200, 26205800]])"
      ]
     },
     "execution_count": 2,
     "metadata": {},
     "output_type": "execute_result"
    }
   ],
   "source": [
    "b = [[379.74,  64.64  , 1165.24,  71.15 ],\n",
    "       [383.93,  65.43, 1198.62 , 73.65],\n",
    "       [384.14,  64.95, 1185.90, 72.82],\n",
    "       [377.48,  63.64,  1154.23,  71.01],\n",
    "       [379.94 ,  63.59 , 1162.27 , 71.84],\n",
    "       [384.62,  63.61 , 1172.87 , 71.65],\n",
    "       [389.30,  63.73,  1188.68,  72.64]]\n",
    "b = np.array(b)\n",
    "c = [[18173500,  15848300 , 25416300],\n",
    "       [12492000, 10759700, 23108400],\n",
    "       [14839800 , 15551500, 22434800],\n",
    "       [20171900, 17008200,  27969100],\n",
    "       [16697300, 13448200 , 26205800 ]]\n",
    "c = np.array(c)\n",
    "c"
   ]
  },
  {
   "cell_type": "code",
   "execution_count": 3,
   "id": "d1b7a4a5",
   "metadata": {},
   "outputs": [],
   "source": [
    "#c =pd.date_range('9/6/2011', periods=7) \n",
    "d = ['2011-09-06','2011-09-07','2011-09-08','2011-09-09','2011-09-12','2011-09-13','2011-09-14']\n",
    "e = ['2011-09-06','2011-09-07','2011-09-08','2011-09-09','2011-09-12']"
   ]
  },
  {
   "cell_type": "code",
   "execution_count": 4,
   "id": "0e013813",
   "metadata": {},
   "outputs": [],
   "source": [
    "prices = pd.DataFrame(b,\n",
    "                     index=d,\n",
    "                     columns=['AAPL', 'JNJ', 'SPX', 'XOM'])\n",
    "volume = pd.DataFrame(c,\n",
    "                     index=e,\n",
    "                     columns=['AAPL', 'JNJ', 'XOM'])"
   ]
  },
  {
   "cell_type": "code",
   "execution_count": 5,
   "id": "a4cc0d46",
   "metadata": {},
   "outputs": [
    {
     "data": {
      "text/html": [
       "<div>\n",
       "<style scoped>\n",
       "    .dataframe tbody tr th:only-of-type {\n",
       "        vertical-align: middle;\n",
       "    }\n",
       "\n",
       "    .dataframe tbody tr th {\n",
       "        vertical-align: top;\n",
       "    }\n",
       "\n",
       "    .dataframe thead th {\n",
       "        text-align: right;\n",
       "    }\n",
       "</style>\n",
       "<table border=\"1\" class=\"dataframe\">\n",
       "  <thead>\n",
       "    <tr style=\"text-align: right;\">\n",
       "      <th></th>\n",
       "      <th>AAPL</th>\n",
       "      <th>JNJ</th>\n",
       "      <th>SPX</th>\n",
       "      <th>XOM</th>\n",
       "    </tr>\n",
       "  </thead>\n",
       "  <tbody>\n",
       "    <tr>\n",
       "      <th>2011-09-06</th>\n",
       "      <td>379.74</td>\n",
       "      <td>64.64</td>\n",
       "      <td>1165.24</td>\n",
       "      <td>71.15</td>\n",
       "    </tr>\n",
       "    <tr>\n",
       "      <th>2011-09-07</th>\n",
       "      <td>383.93</td>\n",
       "      <td>65.43</td>\n",
       "      <td>1198.62</td>\n",
       "      <td>73.65</td>\n",
       "    </tr>\n",
       "    <tr>\n",
       "      <th>2011-09-08</th>\n",
       "      <td>384.14</td>\n",
       "      <td>64.95</td>\n",
       "      <td>1185.90</td>\n",
       "      <td>72.82</td>\n",
       "    </tr>\n",
       "    <tr>\n",
       "      <th>2011-09-09</th>\n",
       "      <td>377.48</td>\n",
       "      <td>63.64</td>\n",
       "      <td>1154.23</td>\n",
       "      <td>71.01</td>\n",
       "    </tr>\n",
       "    <tr>\n",
       "      <th>2011-09-12</th>\n",
       "      <td>379.94</td>\n",
       "      <td>63.59</td>\n",
       "      <td>1162.27</td>\n",
       "      <td>71.84</td>\n",
       "    </tr>\n",
       "    <tr>\n",
       "      <th>2011-09-13</th>\n",
       "      <td>384.62</td>\n",
       "      <td>63.61</td>\n",
       "      <td>1172.87</td>\n",
       "      <td>71.65</td>\n",
       "    </tr>\n",
       "    <tr>\n",
       "      <th>2011-09-14</th>\n",
       "      <td>389.30</td>\n",
       "      <td>63.73</td>\n",
       "      <td>1188.68</td>\n",
       "      <td>72.64</td>\n",
       "    </tr>\n",
       "  </tbody>\n",
       "</table>\n",
       "</div>"
      ],
      "text/plain": [
       "              AAPL    JNJ      SPX    XOM\n",
       "2011-09-06  379.74  64.64  1165.24  71.15\n",
       "2011-09-07  383.93  65.43  1198.62  73.65\n",
       "2011-09-08  384.14  64.95  1185.90  72.82\n",
       "2011-09-09  377.48  63.64  1154.23  71.01\n",
       "2011-09-12  379.94  63.59  1162.27  71.84\n",
       "2011-09-13  384.62  63.61  1172.87  71.65\n",
       "2011-09-14  389.30  63.73  1188.68  72.64"
      ]
     },
     "execution_count": 5,
     "metadata": {},
     "output_type": "execute_result"
    }
   ],
   "source": [
    "prices"
   ]
  },
  {
   "cell_type": "code",
   "execution_count": 6,
   "id": "1e446560",
   "metadata": {},
   "outputs": [
    {
     "data": {
      "text/html": [
       "<div>\n",
       "<style scoped>\n",
       "    .dataframe tbody tr th:only-of-type {\n",
       "        vertical-align: middle;\n",
       "    }\n",
       "\n",
       "    .dataframe tbody tr th {\n",
       "        vertical-align: top;\n",
       "    }\n",
       "\n",
       "    .dataframe thead th {\n",
       "        text-align: right;\n",
       "    }\n",
       "</style>\n",
       "<table border=\"1\" class=\"dataframe\">\n",
       "  <thead>\n",
       "    <tr style=\"text-align: right;\">\n",
       "      <th></th>\n",
       "      <th>AAPL</th>\n",
       "      <th>JNJ</th>\n",
       "      <th>XOM</th>\n",
       "    </tr>\n",
       "  </thead>\n",
       "  <tbody>\n",
       "    <tr>\n",
       "      <th>2011-09-06</th>\n",
       "      <td>18173500</td>\n",
       "      <td>15848300</td>\n",
       "      <td>25416300</td>\n",
       "    </tr>\n",
       "    <tr>\n",
       "      <th>2011-09-07</th>\n",
       "      <td>12492000</td>\n",
       "      <td>10759700</td>\n",
       "      <td>23108400</td>\n",
       "    </tr>\n",
       "    <tr>\n",
       "      <th>2011-09-08</th>\n",
       "      <td>14839800</td>\n",
       "      <td>15551500</td>\n",
       "      <td>22434800</td>\n",
       "    </tr>\n",
       "    <tr>\n",
       "      <th>2011-09-09</th>\n",
       "      <td>20171900</td>\n",
       "      <td>17008200</td>\n",
       "      <td>27969100</td>\n",
       "    </tr>\n",
       "    <tr>\n",
       "      <th>2011-09-12</th>\n",
       "      <td>16697300</td>\n",
       "      <td>13448200</td>\n",
       "      <td>26205800</td>\n",
       "    </tr>\n",
       "  </tbody>\n",
       "</table>\n",
       "</div>"
      ],
      "text/plain": [
       "                AAPL       JNJ       XOM\n",
       "2011-09-06  18173500  15848300  25416300\n",
       "2011-09-07  12492000  10759700  23108400\n",
       "2011-09-08  14839800  15551500  22434800\n",
       "2011-09-09  20171900  17008200  27969100\n",
       "2011-09-12  16697300  13448200  26205800"
      ]
     },
     "execution_count": 6,
     "metadata": {},
     "output_type": "execute_result"
    }
   ],
   "source": [
    "volume"
   ]
  },
  {
   "cell_type": "markdown",
   "id": "c3d12524",
   "metadata": {},
   "source": [
    "Giả sử bạn muốn tính giá trung bình theo khối lượng bằng cách sử dụng tất cả\n",
    "dữ liệu (và đưa ra giả định đơn giản hóa rằng dữ liệu khối lượng là một tập hợp con của\n",
    "dữ liệu giá). Vì pandas căn chỉnh dữ liệu tự động theo số học và loại trừ\n",
    "thiếu dữ liệu trong các hàm như sum, chúng ta có thể diễn đạt điều này một cách ngắn gọn như sau:"
   ]
  },
  {
   "cell_type": "code",
   "execution_count": 7,
   "id": "d9275086",
   "metadata": {},
   "outputs": [
    {
     "data": {
      "text/html": [
       "<div>\n",
       "<style scoped>\n",
       "    .dataframe tbody tr th:only-of-type {\n",
       "        vertical-align: middle;\n",
       "    }\n",
       "\n",
       "    .dataframe tbody tr th {\n",
       "        vertical-align: top;\n",
       "    }\n",
       "\n",
       "    .dataframe thead th {\n",
       "        text-align: right;\n",
       "    }\n",
       "</style>\n",
       "<table border=\"1\" class=\"dataframe\">\n",
       "  <thead>\n",
       "    <tr style=\"text-align: right;\">\n",
       "      <th></th>\n",
       "      <th>AAPL</th>\n",
       "      <th>JNJ</th>\n",
       "      <th>SPX</th>\n",
       "      <th>XOM</th>\n",
       "    </tr>\n",
       "  </thead>\n",
       "  <tbody>\n",
       "    <tr>\n",
       "      <th>2011-09-06</th>\n",
       "      <td>6.901205e+09</td>\n",
       "      <td>1.024434e+09</td>\n",
       "      <td>NaN</td>\n",
       "      <td>1.808370e+09</td>\n",
       "    </tr>\n",
       "    <tr>\n",
       "      <th>2011-09-07</th>\n",
       "      <td>4.796054e+09</td>\n",
       "      <td>7.040072e+08</td>\n",
       "      <td>NaN</td>\n",
       "      <td>1.701934e+09</td>\n",
       "    </tr>\n",
       "    <tr>\n",
       "      <th>2011-09-08</th>\n",
       "      <td>5.700561e+09</td>\n",
       "      <td>1.010070e+09</td>\n",
       "      <td>NaN</td>\n",
       "      <td>1.633702e+09</td>\n",
       "    </tr>\n",
       "    <tr>\n",
       "      <th>2011-09-09</th>\n",
       "      <td>7.614489e+09</td>\n",
       "      <td>1.082402e+09</td>\n",
       "      <td>NaN</td>\n",
       "      <td>1.986086e+09</td>\n",
       "    </tr>\n",
       "    <tr>\n",
       "      <th>2011-09-12</th>\n",
       "      <td>6.343972e+09</td>\n",
       "      <td>8.551710e+08</td>\n",
       "      <td>NaN</td>\n",
       "      <td>1.882625e+09</td>\n",
       "    </tr>\n",
       "    <tr>\n",
       "      <th>2011-09-13</th>\n",
       "      <td>NaN</td>\n",
       "      <td>NaN</td>\n",
       "      <td>NaN</td>\n",
       "      <td>NaN</td>\n",
       "    </tr>\n",
       "    <tr>\n",
       "      <th>2011-09-14</th>\n",
       "      <td>NaN</td>\n",
       "      <td>NaN</td>\n",
       "      <td>NaN</td>\n",
       "      <td>NaN</td>\n",
       "    </tr>\n",
       "  </tbody>\n",
       "</table>\n",
       "</div>"
      ],
      "text/plain": [
       "                    AAPL           JNJ  SPX           XOM\n",
       "2011-09-06  6.901205e+09  1.024434e+09  NaN  1.808370e+09\n",
       "2011-09-07  4.796054e+09  7.040072e+08  NaN  1.701934e+09\n",
       "2011-09-08  5.700561e+09  1.010070e+09  NaN  1.633702e+09\n",
       "2011-09-09  7.614489e+09  1.082402e+09  NaN  1.986086e+09\n",
       "2011-09-12  6.343972e+09  8.551710e+08  NaN  1.882625e+09\n",
       "2011-09-13           NaN           NaN  NaN           NaN\n",
       "2011-09-14           NaN           NaN  NaN           NaN"
      ]
     },
     "execution_count": 7,
     "metadata": {},
     "output_type": "execute_result"
    }
   ],
   "source": [
    "prices*volume"
   ]
  },
  {
   "cell_type": "code",
   "execution_count": 8,
   "id": "9de26ce3",
   "metadata": {},
   "outputs": [
    {
     "data": {
      "text/plain": [
       "AAPL    3.135628e+10\n",
       "JNJ     4.676084e+09\n",
       "SPX     0.000000e+00\n",
       "XOM     9.012716e+09\n",
       "dtype: float64"
      ]
     },
     "execution_count": 8,
     "metadata": {},
     "output_type": "execute_result"
    }
   ],
   "source": [
    "(prices*volume).sum()#Tính tổng theo từng cột"
   ]
  },
  {
   "cell_type": "code",
   "execution_count": 9,
   "id": "b8a93d4a",
   "metadata": {},
   "outputs": [
    {
     "data": {
      "text/plain": [
       "AAPL     82374500\n",
       "JNJ      72615900\n",
       "XOM     125134400\n",
       "dtype: int64"
      ]
     },
     "execution_count": 9,
     "metadata": {},
     "output_type": "execute_result"
    }
   ],
   "source": [
    "volume.sum()"
   ]
  },
  {
   "cell_type": "code",
   "execution_count": 10,
   "id": "38765575",
   "metadata": {},
   "outputs": [],
   "source": [
    "vwap = (prices * volume).sum() / volume.sum()\n"
   ]
  },
  {
   "cell_type": "code",
   "execution_count": 11,
   "id": "ac903f74",
   "metadata": {},
   "outputs": [
    {
     "data": {
      "text/plain": [
       "AAPL    380.655181\n",
       "JNJ      64.394769\n",
       "SPX            NaN\n",
       "XOM      72.024288\n",
       "dtype: float64"
      ]
     },
     "execution_count": 11,
     "metadata": {},
     "output_type": "execute_result"
    }
   ],
   "source": [
    "vwap"
   ]
  },
  {
   "cell_type": "code",
   "execution_count": 12,
   "id": "4d25e92e",
   "metadata": {},
   "outputs": [
    {
     "data": {
      "text/plain": [
       "AAPL    380.655181\n",
       "JNJ      64.394769\n",
       "XOM      72.024288\n",
       "dtype: float64"
      ]
     },
     "execution_count": 12,
     "metadata": {},
     "output_type": "execute_result"
    }
   ],
   "source": [
    "vwap.dropna()   #Xóa phần từ NaN"
   ]
  },
  {
   "cell_type": "markdown",
   "id": "19c2651e",
   "metadata": {},
   "source": [
    "Vì không tìm thấy SPX trong số lượng, bạn có thể chọn loại bỏ nó bất kỳ lúc nào. Nếu\n",
    "bạn muốn căn chỉnh bằng tay, bạn có thể sử dụng phương pháp căn chỉnh của DataFrame,\n",
    "trả về một loạt các phiên bản được lập chỉ mục lại của hai đối tượng:\n"
   ]
  },
  {
   "cell_type": "code",
   "execution_count": 13,
   "id": "fd14ab3c",
   "metadata": {},
   "outputs": [
    {
     "data": {
      "text/html": [
       "<div>\n",
       "<style scoped>\n",
       "    .dataframe tbody tr th:only-of-type {\n",
       "        vertical-align: middle;\n",
       "    }\n",
       "\n",
       "    .dataframe tbody tr th {\n",
       "        vertical-align: top;\n",
       "    }\n",
       "\n",
       "    .dataframe thead th {\n",
       "        text-align: right;\n",
       "    }\n",
       "</style>\n",
       "<table border=\"1\" class=\"dataframe\">\n",
       "  <thead>\n",
       "    <tr style=\"text-align: right;\">\n",
       "      <th></th>\n",
       "      <th>AAPL</th>\n",
       "      <th>JNJ</th>\n",
       "      <th>SPX</th>\n",
       "      <th>XOM</th>\n",
       "    </tr>\n",
       "  </thead>\n",
       "  <tbody>\n",
       "    <tr>\n",
       "      <th>2011-09-06</th>\n",
       "      <td>379.74</td>\n",
       "      <td>64.64</td>\n",
       "      <td>1165.24</td>\n",
       "      <td>71.15</td>\n",
       "    </tr>\n",
       "    <tr>\n",
       "      <th>2011-09-07</th>\n",
       "      <td>383.93</td>\n",
       "      <td>65.43</td>\n",
       "      <td>1198.62</td>\n",
       "      <td>73.65</td>\n",
       "    </tr>\n",
       "    <tr>\n",
       "      <th>2011-09-08</th>\n",
       "      <td>384.14</td>\n",
       "      <td>64.95</td>\n",
       "      <td>1185.90</td>\n",
       "      <td>72.82</td>\n",
       "    </tr>\n",
       "    <tr>\n",
       "      <th>2011-09-09</th>\n",
       "      <td>377.48</td>\n",
       "      <td>63.64</td>\n",
       "      <td>1154.23</td>\n",
       "      <td>71.01</td>\n",
       "    </tr>\n",
       "    <tr>\n",
       "      <th>2011-09-12</th>\n",
       "      <td>379.94</td>\n",
       "      <td>63.59</td>\n",
       "      <td>1162.27</td>\n",
       "      <td>71.84</td>\n",
       "    </tr>\n",
       "    <tr>\n",
       "      <th>2011-09-13</th>\n",
       "      <td>384.62</td>\n",
       "      <td>63.61</td>\n",
       "      <td>1172.87</td>\n",
       "      <td>71.65</td>\n",
       "    </tr>\n",
       "    <tr>\n",
       "      <th>2011-09-14</th>\n",
       "      <td>389.30</td>\n",
       "      <td>63.73</td>\n",
       "      <td>1188.68</td>\n",
       "      <td>72.64</td>\n",
       "    </tr>\n",
       "  </tbody>\n",
       "</table>\n",
       "</div>"
      ],
      "text/plain": [
       "              AAPL    JNJ      SPX    XOM\n",
       "2011-09-06  379.74  64.64  1165.24  71.15\n",
       "2011-09-07  383.93  65.43  1198.62  73.65\n",
       "2011-09-08  384.14  64.95  1185.90  72.82\n",
       "2011-09-09  377.48  63.64  1154.23  71.01\n",
       "2011-09-12  379.94  63.59  1162.27  71.84\n",
       "2011-09-13  384.62  63.61  1172.87  71.65\n",
       "2011-09-14  389.30  63.73  1188.68  72.64"
      ]
     },
     "execution_count": 13,
     "metadata": {},
     "output_type": "execute_result"
    }
   ],
   "source": [
    "prices"
   ]
  },
  {
   "cell_type": "code",
   "execution_count": 14,
   "id": "233ce8ce",
   "metadata": {},
   "outputs": [
    {
     "data": {
      "text/html": [
       "<div>\n",
       "<style scoped>\n",
       "    .dataframe tbody tr th:only-of-type {\n",
       "        vertical-align: middle;\n",
       "    }\n",
       "\n",
       "    .dataframe tbody tr th {\n",
       "        vertical-align: top;\n",
       "    }\n",
       "\n",
       "    .dataframe thead th {\n",
       "        text-align: right;\n",
       "    }\n",
       "</style>\n",
       "<table border=\"1\" class=\"dataframe\">\n",
       "  <thead>\n",
       "    <tr style=\"text-align: right;\">\n",
       "      <th></th>\n",
       "      <th>AAPL</th>\n",
       "      <th>JNJ</th>\n",
       "      <th>XOM</th>\n",
       "    </tr>\n",
       "  </thead>\n",
       "  <tbody>\n",
       "    <tr>\n",
       "      <th>2011-09-06</th>\n",
       "      <td>18173500</td>\n",
       "      <td>15848300</td>\n",
       "      <td>25416300</td>\n",
       "    </tr>\n",
       "    <tr>\n",
       "      <th>2011-09-07</th>\n",
       "      <td>12492000</td>\n",
       "      <td>10759700</td>\n",
       "      <td>23108400</td>\n",
       "    </tr>\n",
       "    <tr>\n",
       "      <th>2011-09-08</th>\n",
       "      <td>14839800</td>\n",
       "      <td>15551500</td>\n",
       "      <td>22434800</td>\n",
       "    </tr>\n",
       "    <tr>\n",
       "      <th>2011-09-09</th>\n",
       "      <td>20171900</td>\n",
       "      <td>17008200</td>\n",
       "      <td>27969100</td>\n",
       "    </tr>\n",
       "    <tr>\n",
       "      <th>2011-09-12</th>\n",
       "      <td>16697300</td>\n",
       "      <td>13448200</td>\n",
       "      <td>26205800</td>\n",
       "    </tr>\n",
       "  </tbody>\n",
       "</table>\n",
       "</div>"
      ],
      "text/plain": [
       "                AAPL       JNJ       XOM\n",
       "2011-09-06  18173500  15848300  25416300\n",
       "2011-09-07  12492000  10759700  23108400\n",
       "2011-09-08  14839800  15551500  22434800\n",
       "2011-09-09  20171900  17008200  27969100\n",
       "2011-09-12  16697300  13448200  26205800"
      ]
     },
     "execution_count": 14,
     "metadata": {},
     "output_type": "execute_result"
    }
   ],
   "source": [
    "volume"
   ]
  },
  {
   "cell_type": "code",
   "execution_count": 15,
   "id": "4d4b8c43",
   "metadata": {},
   "outputs": [
    {
     "data": {
      "text/plain": [
       "(              AAPL    JNJ    XOM\n",
       " 2011-09-06  379.74  64.64  71.15\n",
       " 2011-09-07  383.93  65.43  73.65\n",
       " 2011-09-08  384.14  64.95  72.82\n",
       " 2011-09-09  377.48  63.64  71.01\n",
       " 2011-09-12  379.94  63.59  71.84,\n",
       "                 AAPL       JNJ       XOM\n",
       " 2011-09-06  18173500  15848300  25416300\n",
       " 2011-09-07  12492000  10759700  23108400\n",
       " 2011-09-08  14839800  15551500  22434800\n",
       " 2011-09-09  20171900  17008200  27969100\n",
       " 2011-09-12  16697300  13448200  26205800)"
      ]
     },
     "execution_count": 15,
     "metadata": {},
     "output_type": "execute_result"
    }
   ],
   "source": [
    "#Căn chỉnh hai đối tượng trên trục của chúng bằng phương thức nối được chỉ định\n",
    "#Bỏ các mục riêng, giữ lại các mục chung của cả 2\n",
    "prices.align(volume, join='inner')  \n"
   ]
  },
  {
   "cell_type": "markdown",
   "id": "f4e8c60c",
   "metadata": {},
   "source": [
    "Một tính năng không thể thiếu khác là xây dựng DataFrame từ một tập hợp các Series\n",
    "được lập chỉ mục khác nhau:"
   ]
  },
  {
   "cell_type": "code",
   "execution_count": 16,
   "id": "b03b33b3",
   "metadata": {},
   "outputs": [
    {
     "data": {
      "text/plain": [
       "a    0\n",
       "b    1\n",
       "c    2\n",
       "dtype: int64"
      ]
     },
     "execution_count": 16,
     "metadata": {},
     "output_type": "execute_result"
    }
   ],
   "source": [
    "s1 = pd.Series(range(3), index=['a', 'b', 'c'])\n",
    "s1"
   ]
  },
  {
   "cell_type": "code",
   "execution_count": 17,
   "id": "35d87976",
   "metadata": {},
   "outputs": [
    {
     "data": {
      "text/plain": [
       "d    0\n",
       "b    1\n",
       "c    2\n",
       "e    3\n",
       "dtype: int64"
      ]
     },
     "execution_count": 17,
     "metadata": {},
     "output_type": "execute_result"
    }
   ],
   "source": [
    "s2 = pd.Series(range(4), index=['d', 'b', 'c', 'e'])\n",
    "s2"
   ]
  },
  {
   "cell_type": "code",
   "execution_count": 18,
   "id": "86617cc4",
   "metadata": {},
   "outputs": [
    {
     "data": {
      "text/plain": [
       "f    0\n",
       "a    1\n",
       "c    2\n",
       "dtype: int64"
      ]
     },
     "execution_count": 18,
     "metadata": {},
     "output_type": "execute_result"
    }
   ],
   "source": [
    "s3 = pd.Series(range(3), index=['f', 'a', 'c'])\n",
    "s3"
   ]
  },
  {
   "cell_type": "code",
   "execution_count": 19,
   "id": "fada8cb2",
   "metadata": {},
   "outputs": [
    {
     "data": {
      "text/html": [
       "<div>\n",
       "<style scoped>\n",
       "    .dataframe tbody tr th:only-of-type {\n",
       "        vertical-align: middle;\n",
       "    }\n",
       "\n",
       "    .dataframe tbody tr th {\n",
       "        vertical-align: top;\n",
       "    }\n",
       "\n",
       "    .dataframe thead th {\n",
       "        text-align: right;\n",
       "    }\n",
       "</style>\n",
       "<table border=\"1\" class=\"dataframe\">\n",
       "  <thead>\n",
       "    <tr style=\"text-align: right;\">\n",
       "      <th></th>\n",
       "      <th>one</th>\n",
       "      <th>two</th>\n",
       "      <th>three</th>\n",
       "    </tr>\n",
       "  </thead>\n",
       "  <tbody>\n",
       "    <tr>\n",
       "      <th>a</th>\n",
       "      <td>0.0</td>\n",
       "      <td>NaN</td>\n",
       "      <td>1.0</td>\n",
       "    </tr>\n",
       "    <tr>\n",
       "      <th>b</th>\n",
       "      <td>1.0</td>\n",
       "      <td>1.0</td>\n",
       "      <td>NaN</td>\n",
       "    </tr>\n",
       "    <tr>\n",
       "      <th>c</th>\n",
       "      <td>2.0</td>\n",
       "      <td>2.0</td>\n",
       "      <td>2.0</td>\n",
       "    </tr>\n",
       "    <tr>\n",
       "      <th>d</th>\n",
       "      <td>NaN</td>\n",
       "      <td>0.0</td>\n",
       "      <td>NaN</td>\n",
       "    </tr>\n",
       "    <tr>\n",
       "      <th>e</th>\n",
       "      <td>NaN</td>\n",
       "      <td>3.0</td>\n",
       "      <td>NaN</td>\n",
       "    </tr>\n",
       "    <tr>\n",
       "      <th>f</th>\n",
       "      <td>NaN</td>\n",
       "      <td>NaN</td>\n",
       "      <td>0.0</td>\n",
       "    </tr>\n",
       "  </tbody>\n",
       "</table>\n",
       "</div>"
      ],
      "text/plain": [
       "   one  two  three\n",
       "a  0.0  NaN    1.0\n",
       "b  1.0  1.0    NaN\n",
       "c  2.0  2.0    2.0\n",
       "d  NaN  0.0    NaN\n",
       "e  NaN  3.0    NaN\n",
       "f  NaN  NaN    0.0"
      ]
     },
     "execution_count": 19,
     "metadata": {},
     "output_type": "execute_result"
    }
   ],
   "source": [
    "pd.DataFrame({'one': s1, 'two': s2, 'three': s3})"
   ]
  },
  {
   "cell_type": "markdown",
   "id": "46cdb2ac",
   "metadata": {},
   "source": [
    "Như bạn đã thấy trước đó, tất nhiên bạn có thể chỉ định rõ ràng chỉ mục của kết quả, loại\n",
    "bỏ phần còn lại của dữ liệu:\n"
   ]
  },
  {
   "cell_type": "code",
   "execution_count": 20,
   "id": "ee3c5f07",
   "metadata": {},
   "outputs": [
    {
     "data": {
      "text/html": [
       "<div>\n",
       "<style scoped>\n",
       "    .dataframe tbody tr th:only-of-type {\n",
       "        vertical-align: middle;\n",
       "    }\n",
       "\n",
       "    .dataframe tbody tr th {\n",
       "        vertical-align: top;\n",
       "    }\n",
       "\n",
       "    .dataframe thead th {\n",
       "        text-align: right;\n",
       "    }\n",
       "</style>\n",
       "<table border=\"1\" class=\"dataframe\">\n",
       "  <thead>\n",
       "    <tr style=\"text-align: right;\">\n",
       "      <th></th>\n",
       "      <th>one</th>\n",
       "      <th>two</th>\n",
       "      <th>three</th>\n",
       "    </tr>\n",
       "  </thead>\n",
       "  <tbody>\n",
       "    <tr>\n",
       "      <th>f</th>\n",
       "      <td>NaN</td>\n",
       "      <td>NaN</td>\n",
       "      <td>0.0</td>\n",
       "    </tr>\n",
       "    <tr>\n",
       "      <th>a</th>\n",
       "      <td>0.0</td>\n",
       "      <td>NaN</td>\n",
       "      <td>1.0</td>\n",
       "    </tr>\n",
       "    <tr>\n",
       "      <th>c</th>\n",
       "      <td>2.0</td>\n",
       "      <td>2.0</td>\n",
       "      <td>2.0</td>\n",
       "    </tr>\n",
       "    <tr>\n",
       "      <th>e</th>\n",
       "      <td>NaN</td>\n",
       "      <td>3.0</td>\n",
       "      <td>NaN</td>\n",
       "    </tr>\n",
       "  </tbody>\n",
       "</table>\n",
       "</div>"
      ],
      "text/plain": [
       "   one  two  three\n",
       "f  NaN  NaN    0.0\n",
       "a  0.0  NaN    1.0\n",
       "c  2.0  2.0    2.0\n",
       "e  NaN  3.0    NaN"
      ]
     },
     "execution_count": 20,
     "metadata": {},
     "output_type": "execute_result"
    }
   ],
   "source": [
    "pd.DataFrame({'one': s1, 'two': s2, 'three': s3}, index=list('face'))\n",
    "# in dex f, a, c, e"
   ]
  },
  {
   "cell_type": "markdown",
   "id": "1dc46160",
   "metadata": {},
   "source": [
    "1.2 Operations with Time Series of Different Frequencies\n",
    "\n",
    "(Hoạt động với chuỗi thời gian có tần suất khác nhau)"
   ]
  },
  {
   "cell_type": "markdown",
   "id": "5f6bcc77",
   "metadata": {},
   "source": [
    "Chuỗi thời gian kinh tế thường có tần suất hàng năm, hàng quý, hàng tháng, hàng ngày\n",
    "hoặc một số tần suất chuyên biệt hơn. Một số là hoàn toàn không đều; ví dụ, các bản sửa\n",
    "đổi thu nhập cho một cổ phiếu có thể đến bất kỳ lúc nào. Hai công cụ chính để chuyển\n",
    "đổi tần số và sắp xếp lại là các phương pháp resample và reindex. Với resample giúp\n",
    "chuyển đổi dữ liệu thành tần suất cố định trong khi reindex phù hợp dữ liệu với một chỉ\n",
    "số mới. Cả hai đều hỗ trợ logic nội suy tùy chọn (chẳng hạn như điền chuyển tiếp).\n",
    "\n",
    "Hãy xem xét một chuỗi thời gian nhỏ hàng tuần:"
   ]
  },
  {
   "cell_type": "code",
   "execution_count": 21,
   "id": "49f58aa6",
   "metadata": {},
   "outputs": [
    {
     "data": {
      "text/plain": [
       "2012-06-13   -0.204708\n",
       "2012-06-20    0.478943\n",
       "2012-06-27   -0.519439\n",
       "Freq: W-WED, dtype: float64"
      ]
     },
     "execution_count": 21,
     "metadata": {},
     "output_type": "execute_result"
    }
   ],
   "source": [
    "ts1 = pd.Series(np.random.randn(3),\n",
    "index=pd.date_range('2012-6-13', periods=3, freq='W-WED'))\n",
    "\n",
    "#start: Bị ràng buộc trái để tạo ngày tháng, tạo bắt đầu từ mốc này\n",
    "#Period: Số khoảng thời gian cần tạo.\n",
    "#freq: Chuỗi tần số có thể có bội số, ví dụ: ‘5H’. Xem tại đây để biết danh. ở đây là W-WED bắt tạo bắt đầu từ thứ tư, sau mốc ngày đã có ở trện\n",
    "#  sách các bí danh tần suất\n",
    "ts1"
   ]
  },
  {
   "cell_type": "markdown",
   "id": "7d73a358",
   "metadata": {},
   "source": [
    "Nếu bạn lấy lại mẫu cho tần suất làm việc hàng ngày (Thứ Hai-Thứ Sáu), bạn sẽ gặp vấn\n",
    "đề vào những ngày không có dữ liệu"
   ]
  },
  {
   "cell_type": "code",
   "execution_count": 22,
   "id": "26180414",
   "metadata": {},
   "outputs": [
    {
     "data": {
      "text/plain": [
       "2012-06-13   -0.204708\n",
       "2012-06-14         NaN\n",
       "2012-06-15         NaN\n",
       "2012-06-18         NaN\n",
       "2012-06-19         NaN\n",
       "2012-06-20    0.478943\n",
       "2012-06-21         NaN\n",
       "2012-06-22         NaN\n",
       "2012-06-25         NaN\n",
       "2012-06-26         NaN\n",
       "2012-06-27   -0.519439\n",
       "Freq: B, dtype: float64"
      ]
     },
     "execution_count": 22,
     "metadata": {},
     "output_type": "execute_result"
    }
   ],
   "source": [
    "ts1.resample('B').mean() # lấy theo ngày bỏ thứ 7 chủ nhật"
   ]
  },
  {
   "cell_type": "code",
   "execution_count": null,
   "id": "e505477e",
   "metadata": {},
   "outputs": [],
   "source": []
  },
  {
   "cell_type": "markdown",
   "id": "4fff3d17",
   "metadata": {},
   "source": [
    "Tất nhiên, việc sử dụng ’ffill’ như phương thức fillna sẽ điền các giá trị vào những\n",
    "khoảng trống đó. Đây là một thực tế phổ biến với dữ liệu tần suất thấp hơn khi bạn tính\n",
    "toán một chuỗi thời gian của các giá trị trên mỗi dấu thời gian có giá trị hợp lệ hoặc \"tính\n",
    "đến thời điểm\" mới nhất.\n"
   ]
  },
  {
   "cell_type": "code",
   "execution_count": 23,
   "id": "db1305d2",
   "metadata": {},
   "outputs": [
    {
     "data": {
      "text/plain": [
       "2012-06-13   -0.204708\n",
       "2012-06-14   -0.204708\n",
       "2012-06-15   -0.204708\n",
       "2012-06-18   -0.204708\n",
       "2012-06-19   -0.204708\n",
       "2012-06-20    0.478943\n",
       "2012-06-21    0.478943\n",
       "2012-06-22    0.478943\n",
       "2012-06-25    0.478943\n",
       "2012-06-26    0.478943\n",
       "2012-06-27   -0.519439\n",
       "Freq: B, dtype: float64"
      ]
     },
     "execution_count": 23,
     "metadata": {},
     "output_type": "execute_result"
    }
   ],
   "source": [
    "ts1.resample('B').mean().fillna(method='ffill')  \n",
    "#Sử dụng fillna với method=ffill => Lấy phần tử hợp lệ phía trên đó để điền vào NaN"
   ]
  },
  {
   "cell_type": "markdown",
   "id": "e8cb8217",
   "metadata": {},
   "source": [
    "Trên thực tế, việc lấy mẫu dữ liệu tần số thấp hơn lên một tần số cao hơn, thường xuyên\n",
    "là một giải pháp tốt, nhưng trong trường hợp chuỗi thời gian không thường xuyên nói\n",
    "chung, nó có thể không phù hợp. Hãy xem xét một chuỗi thời gian được lấy mẫu bất\n",
    "thường từ cùng một khoảng thời gian chung"
   ]
  },
  {
   "cell_type": "code",
   "execution_count": 24,
   "id": "8101287e",
   "metadata": {},
   "outputs": [
    {
     "data": {
      "text/plain": [
       "DatetimeIndex(['2012-06-12', '2012-06-17', '2012-06-18', '2012-06-21',\n",
       "               '2012-06-22', '2012-06-29'],\n",
       "              dtype='datetime64[ns]', freq=None)"
      ]
     },
     "execution_count": 24,
     "metadata": {},
     "output_type": "execute_result"
    }
   ],
   "source": [
    "dates = pd.DatetimeIndex(['2012-6-12', '2012-6-17', '2012-6-18',\n",
    "'2012-6-21', '2012-6-22', '2012-6-29'])\n",
    "dates"
   ]
  },
  {
   "cell_type": "code",
   "execution_count": 25,
   "id": "1aa43991",
   "metadata": {},
   "outputs": [
    {
     "data": {
      "text/plain": [
       "2012-06-12   -0.555730\n",
       "2012-06-17    1.965781\n",
       "2012-06-18    1.393406\n",
       "2012-06-21    0.092908\n",
       "2012-06-22    0.281746\n",
       "2012-06-29    0.769023\n",
       "dtype: float64"
      ]
     },
     "execution_count": 25,
     "metadata": {},
     "output_type": "execute_result"
    }
   ],
   "source": [
    "ts2 = pd.Series(np.random.randn(6), index=dates)\n",
    "ts2"
   ]
  },
  {
   "cell_type": "markdown",
   "id": "d29649d3",
   "metadata": {},
   "source": [
    "Nếu bạn muốn thêm các giá trị \"tính đến thời điểm\" trong ts1 forward filling) vào ts2.\n",
    "Một tùy chọn sẽ là lấy mẫu lại cả hai thành tần suất thông thường sau đó thêm vào, nhưng\n",
    "nếu bạn muốn duy trì chỉ số ngày trong ts2, sử dụng reindex là một giải pháp chính xác hơn:\n"
   ]
  },
  {
   "cell_type": "code",
   "execution_count": 26,
   "id": "bb294045",
   "metadata": {},
   "outputs": [
    {
     "data": {
      "text/plain": [
       "2012-06-12         NaN\n",
       "2012-06-17   -0.204708\n",
       "2012-06-18   -0.204708\n",
       "2012-06-21    0.478943\n",
       "2012-06-22    0.478943\n",
       "2012-06-29   -0.519439\n",
       "dtype: float64"
      ]
     },
     "execution_count": 26,
     "metadata": {},
     "output_type": "execute_result"
    }
   ],
   "source": [
    "ts1.reindex(ts2.index, method='ffill')\n",
    "#Đổi index của ts1 bằng index của ts2, đồng thời các phần tử NaN \n",
    "#thì điền vào bằng phương thức ffill - giống ở trên\n",
    "# 12/6/2012 phía trên ko có giá trị nên nó vẫn để NaN\n"
   ]
  },
  {
   "cell_type": "code",
   "execution_count": null,
   "id": "91ee87e1",
   "metadata": {},
   "outputs": [],
   "source": []
  },
  {
   "cell_type": "code",
   "execution_count": 27,
   "id": "82283f2f",
   "metadata": {},
   "outputs": [
    {
     "data": {
      "text/plain": [
       "2012-06-12         NaN\n",
       "2012-06-17    1.761073\n",
       "2012-06-18    1.188698\n",
       "2012-06-21    0.571851\n",
       "2012-06-22    0.760689\n",
       "2012-06-29    0.249584\n",
       "dtype: float64"
      ]
     },
     "execution_count": 27,
     "metadata": {},
     "output_type": "execute_result"
    }
   ],
   "source": [
    "ts2 + ts1.reindex(ts2.index, method='ffill')\n",
    "# cộng 2 giá trị ts2 và ts1"
   ]
  },
  {
   "cell_type": "markdown",
   "id": "94bfcbe8",
   "metadata": {},
   "source": [
    "Using periods instead of timestamps\n",
    "\n",
    "(Sử dụng khoảng thời gian thay vì dấu thời gian)\n"
   ]
  },
  {
   "cell_type": "markdown",
   "id": "d1cd07ea",
   "metadata": {},
   "source": [
    "Các khoảng thời gian (đại diện cho các khoảng thời gian) cung cấp một phương tiện\n",
    "thay thế để làm việc với các chuỗi thời gian tần suất khác nhau, đặc biệt là các chuỗi thời\n",
    "gian tài chính hoặc kinh tế với tần suất hàng năm hoặc hàng quý có quy ước báo cáo cụ\n",
    "thể. Ví dụ: một công ty có thể công bố thu nhập hàng quý của mình với năm tài chính\n",
    "kết thúc vào tháng 6, do đó có thời hạn miễn phí Q-JUN. Xem xét một cặp chuỗi thời\n",
    "gian kinh tế vĩ mô liên quan đến GDP và lạm phát:"
   ]
  },
  {
   "cell_type": "code",
   "execution_count": 28,
   "id": "23d44e5e",
   "metadata": {},
   "outputs": [
    {
     "data": {
      "text/plain": [
       "1984Q2    1.78\n",
       "1984Q3    1.94\n",
       "1984Q4    2.08\n",
       "1985Q1    2.01\n",
       "1985Q2    2.15\n",
       "1985Q3    2.31\n",
       "1985Q4    2.46\n",
       "Freq: Q-SEP, dtype: float64"
      ]
     },
     "execution_count": 28,
     "metadata": {},
     "output_type": "execute_result"
    }
   ],
   "source": [
    "gdp = pd.Series([1.78, 1.94, 2.08, 2.01, 2.15, 2.31, 2.46],\n",
    " index=pd.period_range('1984Q2', periods=7, freq='Q-SEP'))\n",
    "#Như dòng dưới, Q-SEP ở đây xếp theo từng Quý\n",
    "gdp"
   ]
  },
  {
   "cell_type": "code",
   "execution_count": 29,
   "id": "f7bb76c2",
   "metadata": {},
   "outputs": [
    {
     "data": {
      "text/plain": [
       "1982    0.025\n",
       "1983    0.045\n",
       "1984    0.037\n",
       "1985    0.040\n",
       "Freq: A-DEC, dtype: float64"
      ]
     },
     "execution_count": 29,
     "metadata": {},
     "output_type": "execute_result"
    }
   ],
   "source": [
    "infl = pd.Series([0.025, 0.045, 0.037, 0.04],\n",
    "  index=pd.period_range('1982', periods=4, freq='A-DEC'))\n",
    "# 1982 là mốc thời gia bắt đầu, period là số mốc thời gian\n",
    "# freq hình như là từ khóa chỉ tần suất, A-DEC từ đầu năm đến chốt vào tháng 12\n",
    "infl"
   ]
  },
  {
   "cell_type": "markdown",
   "id": "46a89ee2",
   "metadata": {},
   "source": [
    "Không giống như chuỗi thời gian có dấu thời gian, các hoạt động giữa các chuỗi thời\n",
    "gian có tần suất khác nhau được lập chỉ số theo các khoảng thời gian không thể thực hiện\n",
    "được nếu không có các chuyển đổi rõ ràng. Trong trường hợp này, nếu chúng ta biết rằng\n",
    "các giá trị lạm phát đã được quan sát vào cuối mỗi năm, thì chúng ta có thể chuyển đổi\n",
    "sang Q-SEP để có được các khoảng thời gian phù hợp với tần suất đó:\n"
   ]
  },
  {
   "cell_type": "code",
   "execution_count": 30,
   "id": "6495eef2",
   "metadata": {},
   "outputs": [
    {
     "data": {
      "text/plain": [
       "1983Q1    0.025\n",
       "1984Q1    0.045\n",
       "1985Q1    0.037\n",
       "1986Q1    0.040\n",
       "Freq: Q-SEP, dtype: float64"
      ]
     },
     "execution_count": 30,
     "metadata": {},
     "output_type": "execute_result"
    }
   ],
   "source": [
    "infl_q = infl.asfreq('Q-SEP', how='end')\n",
    "#chuyển đổi với từ khóa chỉ tần suất ở đây là chuyển thành các quý với Q-SEP\n",
    "infl_q"
   ]
  },
  {
   "cell_type": "markdown",
   "id": "2e972eba",
   "metadata": {},
   "source": [
    "Chuỗi thời gian đó sau đó có thể được lập chỉ mục lại với tính năng điền chuyển tiếp để\n",
    "khớp với gdp:"
   ]
  },
  {
   "cell_type": "code",
   "execution_count": 31,
   "id": "01923ddd",
   "metadata": {},
   "outputs": [
    {
     "data": {
      "text/plain": [
       "1984Q2    0.045\n",
       "1984Q3    0.045\n",
       "1984Q4    0.045\n",
       "1985Q1    0.037\n",
       "1985Q2    0.037\n",
       "1985Q3    0.037\n",
       "1985Q4    0.037\n",
       "Freq: Q-SEP, dtype: float64"
      ]
     },
     "execution_count": 31,
     "metadata": {},
     "output_type": "execute_result"
    }
   ],
   "source": [
    "infl_q.reindex(gdp.index, method='ffill')\n",
    "#Đối index"
   ]
  },
  {
   "cell_type": "markdown",
   "id": "fefc24f9",
   "metadata": {},
   "source": [
    "1.3 Time of Day and “as of” Data Selection\n",
    "\n",
    "(Thời gian trong ngày và “tính đến thời điểm” Lựa chọn dữ liệu)"
   ]
  },
  {
   "cell_type": "markdown",
   "id": "779f1071",
   "metadata": {},
   "source": [
    "Giả sử bạn có một chuỗi thời gian dài chứa dữ liệu thị trường trong ngày và bạn muốn\n",
    "trích xuất giá tại một thời điểm cụ thể trong ngày vào mỗi ngày của dữ liệu. Điều gì sẽ\n",
    "xảy ra nếu dữ liệu không đều đặn đến mức các quan sát không rơi vào đúng thời gian\n",
    "mong muốn thì sao? Trong thực tế, tác vụ này có thể khiến dữ liệu dễ bị lỗi nếu bạn\n",
    "không cẩn thận. Đây là một ví dụ cho mục đích minh họa:"
   ]
  },
  {
   "cell_type": "code",
   "execution_count": 32,
   "id": "8cdbe156",
   "metadata": {},
   "outputs": [
    {
     "data": {
      "text/plain": [
       "DatetimeIndex(['2012-06-01 09:30:00', '2012-06-01 09:31:00',\n",
       "               '2012-06-01 09:32:00', '2012-06-01 09:33:00',\n",
       "               '2012-06-01 09:34:00', '2012-06-01 09:35:00',\n",
       "               '2012-06-01 09:36:00', '2012-06-01 09:37:00',\n",
       "               '2012-06-01 09:38:00', '2012-06-01 09:39:00',\n",
       "               ...\n",
       "               '2012-06-01 15:50:00', '2012-06-01 15:51:00',\n",
       "               '2012-06-01 15:52:00', '2012-06-01 15:53:00',\n",
       "               '2012-06-01 15:54:00', '2012-06-01 15:55:00',\n",
       "               '2012-06-01 15:56:00', '2012-06-01 15:57:00',\n",
       "               '2012-06-01 15:58:00', '2012-06-01 15:59:00'],\n",
       "              dtype='datetime64[ns]', length=390, freq='T')"
      ]
     },
     "execution_count": 32,
     "metadata": {},
     "output_type": "execute_result"
    }
   ],
   "source": [
    "rng = pd.date_range('2012-06-01 09:30', '2012-06-01 15:59', freq='T')\n",
    "#Khoảng thời gian các bước cách nhau 1 phút\n",
    "rng"
   ]
  },
  {
   "cell_type": "code",
   "execution_count": 33,
   "id": "264af55e",
   "metadata": {},
   "outputs": [
    {
     "data": {
      "text/plain": [
       "2012-06-01 09:30:00      0.0\n",
       "2012-06-01 09:31:00      1.0\n",
       "2012-06-01 09:32:00      2.0\n",
       "2012-06-01 09:33:00      3.0\n",
       "2012-06-01 09:34:00      4.0\n",
       "                       ...  \n",
       "2012-06-01 15:55:00    385.0\n",
       "2012-06-01 15:56:00    386.0\n",
       "2012-06-01 15:57:00    387.0\n",
       "2012-06-01 15:58:00    388.0\n",
       "2012-06-01 15:59:00    389.0\n",
       "Freq: T, Length: 390, dtype: float64"
      ]
     },
     "execution_count": 33,
     "metadata": {},
     "output_type": "execute_result"
    }
   ],
   "source": [
    "ts = pd.Series(np.arange(len(rng), dtype=float), index=rng)\n",
    "ts"
   ]
  },
  {
   "cell_type": "code",
   "execution_count": 34,
   "id": "c26fa9d3",
   "metadata": {},
   "outputs": [
    {
     "data": {
      "text/plain": [
       "DatetimeIndex(['2012-06-01 09:30:00', '2012-06-01 09:31:00',\n",
       "               '2012-06-01 09:32:00', '2012-06-01 09:33:00',\n",
       "               '2012-06-01 09:34:00', '2012-06-01 09:35:00',\n",
       "               '2012-06-01 09:36:00', '2012-06-01 09:37:00',\n",
       "               '2012-06-01 09:38:00', '2012-06-01 09:39:00',\n",
       "               ...\n",
       "               '2012-06-06 15:50:00', '2012-06-06 15:51:00',\n",
       "               '2012-06-06 15:52:00', '2012-06-06 15:53:00',\n",
       "               '2012-06-06 15:54:00', '2012-06-06 15:55:00',\n",
       "               '2012-06-06 15:56:00', '2012-06-06 15:57:00',\n",
       "               '2012-06-06 15:58:00', '2012-06-06 15:59:00'],\n",
       "              dtype='datetime64[ns]', length=1560, freq=None)"
      ]
     },
     "execution_count": 34,
     "metadata": {},
     "output_type": "execute_result"
    }
   ],
   "source": [
    "rng = rng.append([rng + pd.offsets.BDay(i) for i in range(1, 4)])\n",
    "rng\n",
    "#BDay( tạo business day theo i  vì vậy tạo thêm 3 phần + 1 phần ban đầu nữa là 4 ) và ko lấy thứ 7 cn nên tạo ra 3 giá trị thứ\n",
    "# 2 3 4 nên ngày 4 5 6 "
   ]
  },
  {
   "cell_type": "code",
   "execution_count": null,
   "id": "31286e99",
   "metadata": {},
   "outputs": [],
   "source": []
  },
  {
   "cell_type": "code",
   "execution_count": 35,
   "id": "3222b2c7",
   "metadata": {},
   "outputs": [
    {
     "name": "stdout",
     "output_type": "stream",
     "text": [
      "1560\n"
     ]
    }
   ],
   "source": [
    "print(len(rng))"
   ]
  },
  {
   "cell_type": "code",
   "execution_count": 36,
   "id": "8dca0654",
   "metadata": {},
   "outputs": [
    {
     "data": {
      "text/plain": [
       "2012-06-01 09:30:00       0.0\n",
       "2012-06-01 09:31:00       1.0\n",
       "2012-06-01 09:32:00       2.0\n",
       "2012-06-01 09:33:00       3.0\n",
       "2012-06-01 09:34:00       4.0\n",
       "                        ...  \n",
       "2012-06-06 15:55:00    1555.0\n",
       "2012-06-06 15:56:00    1556.0\n",
       "2012-06-06 15:57:00    1557.0\n",
       "2012-06-06 15:58:00    1558.0\n",
       "2012-06-06 15:59:00    1559.0\n",
       "Length: 1560, dtype: float64"
      ]
     },
     "execution_count": 36,
     "metadata": {},
     "output_type": "execute_result"
    }
   ],
   "source": [
    "ts = pd.Series(np.arange(len(rng), dtype=float), index=rng)\n",
    "ts"
   ]
  },
  {
   "cell_type": "markdown",
   "id": "2d530141",
   "metadata": {},
   "source": [
    "Lập chỉ mục với một đối tượng datetime.time trong Python sẽ trích xuất các giá trị tại những thời điểm đó:"
   ]
  },
  {
   "cell_type": "code",
   "execution_count": 37,
   "id": "0c8ca3a4",
   "metadata": {},
   "outputs": [],
   "source": [
    "from datetime import time"
   ]
  },
  {
   "cell_type": "code",
   "execution_count": 38,
   "id": "25758d50",
   "metadata": {},
   "outputs": [
    {
     "data": {
      "text/plain": [
       "2012-06-01 10:00:00      30.0\n",
       "2012-06-04 10:00:00     420.0\n",
       "2012-06-05 10:00:00     810.0\n",
       "2012-06-06 10:00:00    1200.0\n",
       "dtype: float64"
      ]
     },
     "execution_count": 38,
     "metadata": {},
     "output_type": "execute_result"
    }
   ],
   "source": [
    "ts[time(10, 0)] #lấy ts lúc 10h00\n"
   ]
  },
  {
   "cell_type": "markdown",
   "id": "d78e8dff",
   "metadata": {},
   "source": [
    "Bên dưới, điều này sử dụng một phương thức cá thể at time (khả dụng trên các chuỗi\n",
    "thời gian riêng lẻ và các đối tượng DataFrame như nhau):"
   ]
  },
  {
   "cell_type": "code",
   "execution_count": 39,
   "id": "04c63e26",
   "metadata": {},
   "outputs": [
    {
     "data": {
      "text/plain": [
       "2012-06-01 10:00:00      30.0\n",
       "2012-06-04 10:00:00     420.0\n",
       "2012-06-05 10:00:00     810.0\n",
       "2012-06-06 10:00:00    1200.0\n",
       "dtype: float64"
      ]
     },
     "execution_count": 39,
     "metadata": {},
     "output_type": "execute_result"
    }
   ],
   "source": [
    "ts.at_time(time(10, 0))"
   ]
  },
  {
   "cell_type": "markdown",
   "id": "69a99d4d",
   "metadata": {},
   "source": [
    "Bạn có thể chọn các giá trị giữa hai thời điểm bằng cách sử dụng phương thức betwee_time có liên quan:"
   ]
  },
  {
   "cell_type": "code",
   "execution_count": 40,
   "id": "54b38e6c",
   "metadata": {},
   "outputs": [
    {
     "data": {
      "text/plain": [
       "2012-06-01 10:00:00      30.0\n",
       "2012-06-01 10:01:00      31.0\n",
       "2012-06-04 10:00:00     420.0\n",
       "2012-06-04 10:01:00     421.0\n",
       "2012-06-05 10:00:00     810.0\n",
       "2012-06-05 10:01:00     811.0\n",
       "2012-06-06 10:00:00    1200.0\n",
       "2012-06-06 10:01:00    1201.0\n",
       "dtype: float64"
      ]
     },
     "execution_count": 40,
     "metadata": {},
     "output_type": "execute_result"
    }
   ],
   "source": [
    "ts.between_time(time(10, 0), time(10, 1)) #Lấy giữa 2 khoảng thời gian trong các ngày"
   ]
  },
  {
   "cell_type": "markdown",
   "id": "42d55d92",
   "metadata": {},
   "source": [
    "Như đã đề cập ở trên, có thể xảy ra trường hợp không có dữ liệu nào thực sự rơi chính\n",
    "xác vào một thời điểm như 10 giờ sáng, nhưng bạn có thể muốn biết giá trị được biết\n",
    "cuối cùng vào lúc 10 giờ sáng:"
   ]
  },
  {
   "cell_type": "code",
   "execution_count": 41,
   "id": "6245c439",
   "metadata": {},
   "outputs": [
    {
     "data": {
      "text/plain": [
       "1560"
      ]
     },
     "execution_count": 41,
     "metadata": {},
     "output_type": "execute_result"
    }
   ],
   "source": [
    "len(ts)"
   ]
  },
  {
   "cell_type": "code",
   "execution_count": 42,
   "id": "75cace1e",
   "metadata": {},
   "outputs": [
    {
     "data": {
      "text/plain": [
       "array([4, 3, 1, 2, 0])"
      ]
     },
     "execution_count": 42,
     "metadata": {},
     "output_type": "execute_result"
    }
   ],
   "source": [
    "a = np.random.permutation(5)\n",
    "a"
   ]
  },
  {
   "cell_type": "code",
   "execution_count": 43,
   "id": "0529392a",
   "metadata": {},
   "outputs": [
    {
     "data": {
      "text/plain": [
       "array([2, 4, 0, 3, 1])"
      ]
     },
     "execution_count": 43,
     "metadata": {},
     "output_type": "execute_result"
    }
   ],
   "source": [
    "np.random.permutation(a)"
   ]
  },
  {
   "cell_type": "code",
   "execution_count": 44,
   "id": "4ae911d8",
   "metadata": {},
   "outputs": [
    {
     "data": {
      "text/plain": [
       "860"
      ]
     },
     "execution_count": 44,
     "metadata": {},
     "output_type": "execute_result"
    },
    {
     "data": {
      "text/plain": [
       "array([   1,    5,   11,   12,   13,   16,   18,   21,   23,   27,   28,\n",
       "         31,   34,   35,   36,   37,   38,   39,   42,   43,   44,   45,\n",
       "         46,   48,   49,   51,   53,   60,   62,   66,   69,   71,   74,\n",
       "         75,   77,   78,   79,   80,   83,   84,   85,   86,   88,   93,\n",
       "         94,   95,   96,   99,  100,  102,  103,  105,  107,  108,  109,\n",
       "        110,  112,  113,  114,  116,  117,  119,  120,  121,  122,  124,\n",
       "        125,  126,  129,  132,  139,  140,  141,  142,  145,  146,  155,\n",
       "        156,  157,  158,  159,  160,  161,  165,  168,  170,  171,  172,\n",
       "        174,  176,  181,  182,  183,  184,  189,  191,  192,  194,  195,\n",
       "        196,  197,  199,  200,  202,  203,  205,  209,  210,  211,  212,\n",
       "        213,  214,  217,  218,  222,  224,  225,  226,  228,  230,  231,\n",
       "        232,  233,  235,  237,  240,  241,  244,  247,  248,  249,  251,\n",
       "        252,  254,  255,  257,  259,  261,  263,  269,  270,  271,  272,\n",
       "        273,  274,  275,  276,  278,  279,  285,  286,  287,  288,  289,\n",
       "        290,  291,  292,  293,  295,  296,  297,  299,  301,  305,  306,\n",
       "        310,  312,  315,  316,  318,  319,  320,  321,  323,  325,  327,\n",
       "        329,  330,  332,  333,  334,  336,  337,  340,  341,  342,  344,\n",
       "        345,  346,  348,  350,  351,  352,  353,  354,  355,  356,  364,\n",
       "        365,  366,  367,  370,  371,  373,  374,  375,  376,  377,  378,\n",
       "        379,  382,  384,  385,  386,  387,  389,  393,  396,  397,  398,\n",
       "        401,  402,  404,  405,  406,  409,  410,  415,  416,  417,  421,\n",
       "        425,  429,  433,  434,  435,  437,  438,  439,  440,  441,  442,\n",
       "        443,  444,  445,  446,  449,  450,  451,  457,  458,  459,  460,\n",
       "        461,  464,  469,  470,  472,  473,  474,  475,  477,  478,  479,\n",
       "        480,  481,  483,  485,  490,  491,  492,  494,  495,  496,  497,\n",
       "        498,  500,  502,  503,  504,  505,  506,  507,  508,  512,  514,\n",
       "        515,  517,  518,  519,  524,  525,  527,  530,  531,  532,  533,\n",
       "        534,  535,  537,  538,  542,  543,  547,  548,  553,  554,  556,\n",
       "        559,  560,  561,  562,  564,  566,  567,  569,  572,  573,  574,\n",
       "        575,  576,  577,  578,  580,  582,  583,  585,  587,  591,  592,\n",
       "        594,  597,  599,  600,  601,  605,  607,  609,  610,  613,  614,\n",
       "        615,  616,  619,  620,  623,  626,  628,  629,  630,  631,  632,\n",
       "        633,  637,  639,  640,  642,  643,  644,  645,  646,  649,  651,\n",
       "        654,  657,  660,  661,  669,  671,  678,  679,  681,  683,  684,\n",
       "        688,  690,  691,  693,  695,  697,  699,  700,  701,  703,  704,\n",
       "        706,  712,  713,  716,  717,  719,  722,  723,  725,  726,  727,\n",
       "        729,  730,  731,  737,  739,  741,  742,  743,  744,  745,  747,\n",
       "        748,  749,  751,  752,  754,  755,  758,  760,  762,  764,  769,\n",
       "        771,  773,  774,  776,  778,  779,  780,  781,  783,  784,  788,\n",
       "        789,  791,  794,  796,  797,  800,  801,  802,  803,  804,  805,\n",
       "        807,  808,  810,  811,  813,  817,  818,  819,  824,  825,  828,\n",
       "        831,  832,  833,  834,  835,  836,  839,  843,  844,  845,  846,\n",
       "        848,  850,  851,  853,  855,  856,  858,  859,  861,  862,  864,\n",
       "        868,  872,  873,  875,  876,  879,  880,  882,  883,  884,  885,\n",
       "        886,  888,  890,  891,  892,  893,  894,  898,  902,  904,  905,\n",
       "        906,  907,  908,  909,  910,  913,  916,  918,  920,  921,  923,\n",
       "        924,  926,  927,  930,  931,  933,  934,  936,  937,  940,  941,\n",
       "        943,  944,  946,  948,  949,  952,  956,  958,  960,  961,  962,\n",
       "        963,  964,  969,  973,  974,  978,  982,  983,  984,  986,  989,\n",
       "        992,  993,  998, 1004, 1005, 1006, 1007, 1008, 1009, 1011, 1012,\n",
       "       1013, 1014, 1015, 1016, 1018, 1020, 1021, 1023, 1025, 1026, 1027,\n",
       "       1029, 1030, 1031, 1033, 1036, 1037, 1038, 1039, 1043, 1044, 1045,\n",
       "       1048, 1050, 1051, 1052, 1053, 1055, 1056, 1058, 1059, 1060, 1061,\n",
       "       1062, 1064, 1066, 1067, 1072, 1074, 1075, 1076, 1078, 1079, 1080,\n",
       "       1082, 1083, 1087, 1088, 1089, 1091, 1092, 1093, 1096, 1098, 1100,\n",
       "       1102, 1106, 1107, 1108, 1110, 1112, 1114, 1115, 1116, 1120, 1122,\n",
       "       1124, 1125, 1127, 1128, 1129, 1131, 1132, 1135, 1136, 1137, 1138,\n",
       "       1140, 1141, 1144, 1146, 1148, 1149, 1150, 1151, 1152, 1153, 1155,\n",
       "       1157, 1160, 1161, 1163, 1166, 1167, 1170, 1173, 1175, 1176, 1177,\n",
       "       1180, 1181, 1182, 1184, 1189, 1190, 1191, 1193, 1194, 1198, 1201,\n",
       "       1202, 1205, 1206, 1209, 1214, 1216, 1217, 1219, 1223, 1224, 1227,\n",
       "       1229, 1231, 1233, 1234, 1236, 1239, 1241, 1242, 1243, 1251, 1255,\n",
       "       1256, 1257, 1260, 1263, 1265, 1266, 1267, 1268, 1269, 1270, 1271,\n",
       "       1272, 1273, 1274, 1275, 1276, 1278, 1280, 1283, 1284, 1285, 1286,\n",
       "       1287, 1288, 1289, 1290, 1291, 1292, 1293, 1294, 1295, 1296, 1298,\n",
       "       1302, 1304, 1305, 1310, 1311, 1312, 1314, 1316, 1317, 1318, 1320,\n",
       "       1321, 1322, 1323, 1326, 1327, 1328, 1331, 1332, 1333, 1334, 1335,\n",
       "       1336, 1337, 1338, 1339, 1340, 1341, 1342, 1344, 1345, 1346, 1348,\n",
       "       1350, 1351, 1354, 1358, 1360, 1361, 1363, 1364, 1365, 1366, 1367,\n",
       "       1370, 1371, 1373, 1374, 1378, 1381, 1384, 1387, 1388, 1389, 1390,\n",
       "       1391, 1392, 1393, 1395, 1399, 1400, 1402, 1403, 1404, 1405, 1406,\n",
       "       1407, 1413, 1414, 1416, 1420, 1422, 1427, 1429, 1431, 1432, 1433,\n",
       "       1435, 1437, 1442, 1444, 1447, 1448, 1451, 1455, 1456, 1459, 1460,\n",
       "       1463, 1465, 1472, 1473, 1474, 1477, 1478, 1479, 1480, 1482, 1483,\n",
       "       1484, 1485, 1486, 1487, 1492, 1495, 1496, 1498, 1499, 1500, 1501,\n",
       "       1502, 1505, 1507, 1509, 1513, 1514, 1515, 1516, 1517, 1519, 1522,\n",
       "       1523, 1524, 1525, 1526, 1527, 1528, 1529, 1530, 1531, 1533, 1535,\n",
       "       1536, 1537, 1538, 1539, 1541, 1546, 1547, 1551, 1552, 1554, 1556,\n",
       "       1558, 1559])"
      ]
     },
     "execution_count": 44,
     "metadata": {},
     "output_type": "execute_result"
    }
   ],
   "source": [
    "indexer = np.sort(np.random.permutation(len(ts))[700:])\n",
    "#np.random.permutation(): hoán vị ngẫu nhiên\n",
    "#[700:] ở đây ts có 1560 phần tử, lấy random và cắt từ vị trí 700 rồi sắp xếp lại\n",
    "len(indexer)\n",
    "indexer"
   ]
  },
  {
   "cell_type": "code",
   "execution_count": 45,
   "id": "82993a60",
   "metadata": {},
   "outputs": [],
   "source": [
    "irr_ts = ts.copy()"
   ]
  },
  {
   "cell_type": "code",
   "execution_count": 46,
   "id": "0bff0995",
   "metadata": {},
   "outputs": [],
   "source": [
    "irr_ts[indexer] = np.nan\n",
    "#Gán cho các phần tử có chỉ số thuộc indexer thành NaN"
   ]
  },
  {
   "cell_type": "code",
   "execution_count": 47,
   "id": "3676ac71",
   "metadata": {
    "scrolled": true
   },
   "outputs": [
    {
     "data": {
      "text/plain": [
       "2012-06-01 09:50:00    20.0\n",
       "2012-06-01 09:51:00     NaN\n",
       "2012-06-01 09:52:00    22.0\n",
       "2012-06-01 09:53:00     NaN\n",
       "2012-06-01 09:54:00    24.0\n",
       "2012-06-01 09:55:00    25.0\n",
       "2012-06-01 09:56:00    26.0\n",
       "2012-06-01 09:57:00     NaN\n",
       "2012-06-01 09:58:00     NaN\n",
       "2012-06-01 09:59:00    29.0\n",
       "2012-06-01 10:00:00    30.0\n",
       "dtype: float64"
      ]
     },
     "execution_count": 47,
     "metadata": {},
     "output_type": "execute_result"
    }
   ],
   "source": [
    "irr_ts['2012-06-01 09:50':'2012-06-01 10:00']"
   ]
  },
  {
   "cell_type": "markdown",
   "id": "95b6df64",
   "metadata": {},
   "source": [
    "\n"
   ]
  },
  {
   "cell_type": "code",
   "execution_count": null,
   "id": "57556a69",
   "metadata": {},
   "outputs": [],
   "source": []
  },
  {
   "cell_type": "code",
   "execution_count": null,
   "id": "114e6ad0",
   "metadata": {},
   "outputs": [],
   "source": []
  },
  {
   "cell_type": "code",
   "execution_count": null,
   "id": "6f3ebb21",
   "metadata": {},
   "outputs": [],
   "source": []
  },
  {
   "cell_type": "markdown",
   "id": "4df26fc4",
   "metadata": {},
   "source": [
    "1.4 Splicing Together Data Sources\n",
    "\n",
    "Nối các nguồn dữ liệu với nhau\n"
   ]
  },
  {
   "cell_type": "markdown",
   "id": "5cd233be",
   "metadata": {},
   "source": [
    "Trong trường hợp đầu tiên, chuyển từ tập hợp chuỗi thời gian này sang tập hợp chuỗi\n",
    "thời gian khác tại một thời điểm cụ thể, vấn đề là nối hai đối tượng TimeSeries hoặc\n",
    "DataFrame lại với nhau bằng cách sử dụng pandas.concat:"
   ]
  },
  {
   "cell_type": "code",
   "execution_count": 48,
   "id": "65ac5774",
   "metadata": {},
   "outputs": [
    {
     "data": {
      "text/html": [
       "<div>\n",
       "<style scoped>\n",
       "    .dataframe tbody tr th:only-of-type {\n",
       "        vertical-align: middle;\n",
       "    }\n",
       "\n",
       "    .dataframe tbody tr th {\n",
       "        vertical-align: top;\n",
       "    }\n",
       "\n",
       "    .dataframe thead th {\n",
       "        text-align: right;\n",
       "    }\n",
       "</style>\n",
       "<table border=\"1\" class=\"dataframe\">\n",
       "  <thead>\n",
       "    <tr style=\"text-align: right;\">\n",
       "      <th></th>\n",
       "      <th>a</th>\n",
       "      <th>b</th>\n",
       "      <th>c</th>\n",
       "    </tr>\n",
       "  </thead>\n",
       "  <tbody>\n",
       "    <tr>\n",
       "      <th>2012-06-12</th>\n",
       "      <td>1.0</td>\n",
       "      <td>1.0</td>\n",
       "      <td>1.0</td>\n",
       "    </tr>\n",
       "    <tr>\n",
       "      <th>2012-06-13</th>\n",
       "      <td>1.0</td>\n",
       "      <td>1.0</td>\n",
       "      <td>1.0</td>\n",
       "    </tr>\n",
       "    <tr>\n",
       "      <th>2012-06-14</th>\n",
       "      <td>1.0</td>\n",
       "      <td>1.0</td>\n",
       "      <td>1.0</td>\n",
       "    </tr>\n",
       "    <tr>\n",
       "      <th>2012-06-15</th>\n",
       "      <td>1.0</td>\n",
       "      <td>1.0</td>\n",
       "      <td>1.0</td>\n",
       "    </tr>\n",
       "    <tr>\n",
       "      <th>2012-06-16</th>\n",
       "      <td>1.0</td>\n",
       "      <td>1.0</td>\n",
       "      <td>1.0</td>\n",
       "    </tr>\n",
       "    <tr>\n",
       "      <th>2012-06-17</th>\n",
       "      <td>1.0</td>\n",
       "      <td>1.0</td>\n",
       "      <td>1.0</td>\n",
       "    </tr>\n",
       "  </tbody>\n",
       "</table>\n",
       "</div>"
      ],
      "text/plain": [
       "              a    b    c\n",
       "2012-06-12  1.0  1.0  1.0\n",
       "2012-06-13  1.0  1.0  1.0\n",
       "2012-06-14  1.0  1.0  1.0\n",
       "2012-06-15  1.0  1.0  1.0\n",
       "2012-06-16  1.0  1.0  1.0\n",
       "2012-06-17  1.0  1.0  1.0"
      ]
     },
     "execution_count": 48,
     "metadata": {},
     "output_type": "execute_result"
    }
   ],
   "source": [
    "data1 = pd.DataFrame(np.ones((6, 3), dtype=float),\n",
    "  columns=['a', 'b', 'c'],\n",
    "  index=pd.date_range('6/12/2012', periods=6))\n",
    "data1"
   ]
  },
  {
   "cell_type": "code",
   "execution_count": 49,
   "id": "af099319",
   "metadata": {},
   "outputs": [
    {
     "data": {
      "text/html": [
       "<div>\n",
       "<style scoped>\n",
       "    .dataframe tbody tr th:only-of-type {\n",
       "        vertical-align: middle;\n",
       "    }\n",
       "\n",
       "    .dataframe tbody tr th {\n",
       "        vertical-align: top;\n",
       "    }\n",
       "\n",
       "    .dataframe thead th {\n",
       "        text-align: right;\n",
       "    }\n",
       "</style>\n",
       "<table border=\"1\" class=\"dataframe\">\n",
       "  <thead>\n",
       "    <tr style=\"text-align: right;\">\n",
       "      <th></th>\n",
       "      <th>a</th>\n",
       "      <th>b</th>\n",
       "      <th>c</th>\n",
       "    </tr>\n",
       "  </thead>\n",
       "  <tbody>\n",
       "    <tr>\n",
       "      <th>2012-06-13</th>\n",
       "      <td>2.0</td>\n",
       "      <td>2.0</td>\n",
       "      <td>2.0</td>\n",
       "    </tr>\n",
       "    <tr>\n",
       "      <th>2012-06-14</th>\n",
       "      <td>2.0</td>\n",
       "      <td>2.0</td>\n",
       "      <td>2.0</td>\n",
       "    </tr>\n",
       "    <tr>\n",
       "      <th>2012-06-15</th>\n",
       "      <td>2.0</td>\n",
       "      <td>2.0</td>\n",
       "      <td>2.0</td>\n",
       "    </tr>\n",
       "    <tr>\n",
       "      <th>2012-06-16</th>\n",
       "      <td>2.0</td>\n",
       "      <td>2.0</td>\n",
       "      <td>2.0</td>\n",
       "    </tr>\n",
       "    <tr>\n",
       "      <th>2012-06-17</th>\n",
       "      <td>2.0</td>\n",
       "      <td>2.0</td>\n",
       "      <td>2.0</td>\n",
       "    </tr>\n",
       "    <tr>\n",
       "      <th>2012-06-18</th>\n",
       "      <td>2.0</td>\n",
       "      <td>2.0</td>\n",
       "      <td>2.0</td>\n",
       "    </tr>\n",
       "  </tbody>\n",
       "</table>\n",
       "</div>"
      ],
      "text/plain": [
       "              a    b    c\n",
       "2012-06-13  2.0  2.0  2.0\n",
       "2012-06-14  2.0  2.0  2.0\n",
       "2012-06-15  2.0  2.0  2.0\n",
       "2012-06-16  2.0  2.0  2.0\n",
       "2012-06-17  2.0  2.0  2.0\n",
       "2012-06-18  2.0  2.0  2.0"
      ]
     },
     "execution_count": 49,
     "metadata": {},
     "output_type": "execute_result"
    }
   ],
   "source": [
    "data2 = pd.DataFrame(np.ones((6, 3), dtype=float)* 2 ,\n",
    "  columns=['a', 'b', 'c'],\n",
    "  index=pd.date_range('6/13/2012', periods=6))\n",
    "data2"
   ]
  },
  {
   "cell_type": "code",
   "execution_count": 50,
   "id": "a395668e",
   "metadata": {},
   "outputs": [
    {
     "data": {
      "text/html": [
       "<div>\n",
       "<style scoped>\n",
       "    .dataframe tbody tr th:only-of-type {\n",
       "        vertical-align: middle;\n",
       "    }\n",
       "\n",
       "    .dataframe tbody tr th {\n",
       "        vertical-align: top;\n",
       "    }\n",
       "\n",
       "    .dataframe thead th {\n",
       "        text-align: right;\n",
       "    }\n",
       "</style>\n",
       "<table border=\"1\" class=\"dataframe\">\n",
       "  <thead>\n",
       "    <tr style=\"text-align: right;\">\n",
       "      <th></th>\n",
       "      <th>a</th>\n",
       "      <th>b</th>\n",
       "      <th>c</th>\n",
       "    </tr>\n",
       "  </thead>\n",
       "  <tbody>\n",
       "    <tr>\n",
       "      <th>2012-06-12</th>\n",
       "      <td>1.0</td>\n",
       "      <td>1.0</td>\n",
       "      <td>1.0</td>\n",
       "    </tr>\n",
       "    <tr>\n",
       "      <th>2012-06-13</th>\n",
       "      <td>1.0</td>\n",
       "      <td>1.0</td>\n",
       "      <td>1.0</td>\n",
       "    </tr>\n",
       "    <tr>\n",
       "      <th>2012-06-14</th>\n",
       "      <td>1.0</td>\n",
       "      <td>1.0</td>\n",
       "      <td>1.0</td>\n",
       "    </tr>\n",
       "    <tr>\n",
       "      <th>2012-06-15</th>\n",
       "      <td>2.0</td>\n",
       "      <td>2.0</td>\n",
       "      <td>2.0</td>\n",
       "    </tr>\n",
       "    <tr>\n",
       "      <th>2012-06-16</th>\n",
       "      <td>2.0</td>\n",
       "      <td>2.0</td>\n",
       "      <td>2.0</td>\n",
       "    </tr>\n",
       "    <tr>\n",
       "      <th>2012-06-17</th>\n",
       "      <td>2.0</td>\n",
       "      <td>2.0</td>\n",
       "      <td>2.0</td>\n",
       "    </tr>\n",
       "    <tr>\n",
       "      <th>2012-06-18</th>\n",
       "      <td>2.0</td>\n",
       "      <td>2.0</td>\n",
       "      <td>2.0</td>\n",
       "    </tr>\n",
       "  </tbody>\n",
       "</table>\n",
       "</div>"
      ],
      "text/plain": [
       "              a    b    c\n",
       "2012-06-12  1.0  1.0  1.0\n",
       "2012-06-13  1.0  1.0  1.0\n",
       "2012-06-14  1.0  1.0  1.0\n",
       "2012-06-15  2.0  2.0  2.0\n",
       "2012-06-16  2.0  2.0  2.0\n",
       "2012-06-17  2.0  2.0  2.0\n",
       "2012-06-18  2.0  2.0  2.0"
      ]
     },
     "execution_count": 50,
     "metadata": {},
     "output_type": "execute_result"
    }
   ],
   "source": [
    "spliced = pd.concat([data1[:'2012-06-14'], data2['2012-06-15':]])\n",
    "spliced"
   ]
  },
  {
   "cell_type": "markdown",
   "id": "f7610c0f",
   "metadata": {},
   "source": [
    "Giả sử trong một ví dụ tương tự rằng data1 thiếu chuỗi thời gian có trong data2:\n"
   ]
  },
  {
   "cell_type": "code",
   "execution_count": 51,
   "id": "88d5ad35",
   "metadata": {},
   "outputs": [
    {
     "data": {
      "text/html": [
       "<div>\n",
       "<style scoped>\n",
       "    .dataframe tbody tr th:only-of-type {\n",
       "        vertical-align: middle;\n",
       "    }\n",
       "\n",
       "    .dataframe tbody tr th {\n",
       "        vertical-align: top;\n",
       "    }\n",
       "\n",
       "    .dataframe thead th {\n",
       "        text-align: right;\n",
       "    }\n",
       "</style>\n",
       "<table border=\"1\" class=\"dataframe\">\n",
       "  <thead>\n",
       "    <tr style=\"text-align: right;\">\n",
       "      <th></th>\n",
       "      <th>a</th>\n",
       "      <th>b</th>\n",
       "      <th>c</th>\n",
       "      <th>d</th>\n",
       "    </tr>\n",
       "  </thead>\n",
       "  <tbody>\n",
       "    <tr>\n",
       "      <th>2012-06-13</th>\n",
       "      <td>2.0</td>\n",
       "      <td>2.0</td>\n",
       "      <td>2.0</td>\n",
       "      <td>2.0</td>\n",
       "    </tr>\n",
       "    <tr>\n",
       "      <th>2012-06-14</th>\n",
       "      <td>2.0</td>\n",
       "      <td>2.0</td>\n",
       "      <td>2.0</td>\n",
       "      <td>2.0</td>\n",
       "    </tr>\n",
       "    <tr>\n",
       "      <th>2012-06-15</th>\n",
       "      <td>2.0</td>\n",
       "      <td>2.0</td>\n",
       "      <td>2.0</td>\n",
       "      <td>2.0</td>\n",
       "    </tr>\n",
       "    <tr>\n",
       "      <th>2012-06-16</th>\n",
       "      <td>2.0</td>\n",
       "      <td>2.0</td>\n",
       "      <td>2.0</td>\n",
       "      <td>2.0</td>\n",
       "    </tr>\n",
       "    <tr>\n",
       "      <th>2012-06-17</th>\n",
       "      <td>2.0</td>\n",
       "      <td>2.0</td>\n",
       "      <td>2.0</td>\n",
       "      <td>2.0</td>\n",
       "    </tr>\n",
       "    <tr>\n",
       "      <th>2012-06-18</th>\n",
       "      <td>2.0</td>\n",
       "      <td>2.0</td>\n",
       "      <td>2.0</td>\n",
       "      <td>2.0</td>\n",
       "    </tr>\n",
       "  </tbody>\n",
       "</table>\n",
       "</div>"
      ],
      "text/plain": [
       "              a    b    c    d\n",
       "2012-06-13  2.0  2.0  2.0  2.0\n",
       "2012-06-14  2.0  2.0  2.0  2.0\n",
       "2012-06-15  2.0  2.0  2.0  2.0\n",
       "2012-06-16  2.0  2.0  2.0  2.0\n",
       "2012-06-17  2.0  2.0  2.0  2.0\n",
       "2012-06-18  2.0  2.0  2.0  2.0"
      ]
     },
     "execution_count": 51,
     "metadata": {},
     "output_type": "execute_result"
    }
   ],
   "source": [
    "data2 = pd.DataFrame(np.ones((6, 4), dtype=float) * 2,\n",
    "columns=['a', 'b', 'c', 'd'],\n",
    "index=pd.date_range('6/13/2012', periods=6))\n",
    "data2"
   ]
  },
  {
   "cell_type": "code",
   "execution_count": 52,
   "id": "a4f8bc37",
   "metadata": {},
   "outputs": [
    {
     "data": {
      "text/html": [
       "<div>\n",
       "<style scoped>\n",
       "    .dataframe tbody tr th:only-of-type {\n",
       "        vertical-align: middle;\n",
       "    }\n",
       "\n",
       "    .dataframe tbody tr th {\n",
       "        vertical-align: top;\n",
       "    }\n",
       "\n",
       "    .dataframe thead th {\n",
       "        text-align: right;\n",
       "    }\n",
       "</style>\n",
       "<table border=\"1\" class=\"dataframe\">\n",
       "  <thead>\n",
       "    <tr style=\"text-align: right;\">\n",
       "      <th></th>\n",
       "      <th>a</th>\n",
       "      <th>b</th>\n",
       "      <th>c</th>\n",
       "      <th>d</th>\n",
       "    </tr>\n",
       "  </thead>\n",
       "  <tbody>\n",
       "    <tr>\n",
       "      <th>2012-06-12</th>\n",
       "      <td>1.0</td>\n",
       "      <td>1.0</td>\n",
       "      <td>1.0</td>\n",
       "      <td>NaN</td>\n",
       "    </tr>\n",
       "    <tr>\n",
       "      <th>2012-06-13</th>\n",
       "      <td>1.0</td>\n",
       "      <td>1.0</td>\n",
       "      <td>1.0</td>\n",
       "      <td>NaN</td>\n",
       "    </tr>\n",
       "    <tr>\n",
       "      <th>2012-06-14</th>\n",
       "      <td>1.0</td>\n",
       "      <td>1.0</td>\n",
       "      <td>1.0</td>\n",
       "      <td>NaN</td>\n",
       "    </tr>\n",
       "    <tr>\n",
       "      <th>2012-06-15</th>\n",
       "      <td>2.0</td>\n",
       "      <td>2.0</td>\n",
       "      <td>2.0</td>\n",
       "      <td>2.0</td>\n",
       "    </tr>\n",
       "    <tr>\n",
       "      <th>2012-06-16</th>\n",
       "      <td>2.0</td>\n",
       "      <td>2.0</td>\n",
       "      <td>2.0</td>\n",
       "      <td>2.0</td>\n",
       "    </tr>\n",
       "    <tr>\n",
       "      <th>2012-06-17</th>\n",
       "      <td>2.0</td>\n",
       "      <td>2.0</td>\n",
       "      <td>2.0</td>\n",
       "      <td>2.0</td>\n",
       "    </tr>\n",
       "    <tr>\n",
       "      <th>2012-06-18</th>\n",
       "      <td>2.0</td>\n",
       "      <td>2.0</td>\n",
       "      <td>2.0</td>\n",
       "      <td>2.0</td>\n",
       "    </tr>\n",
       "  </tbody>\n",
       "</table>\n",
       "</div>"
      ],
      "text/plain": [
       "              a    b    c    d\n",
       "2012-06-12  1.0  1.0  1.0  NaN\n",
       "2012-06-13  1.0  1.0  1.0  NaN\n",
       "2012-06-14  1.0  1.0  1.0  NaN\n",
       "2012-06-15  2.0  2.0  2.0  2.0\n",
       "2012-06-16  2.0  2.0  2.0  2.0\n",
       "2012-06-17  2.0  2.0  2.0  2.0\n",
       "2012-06-18  2.0  2.0  2.0  2.0"
      ]
     },
     "execution_count": 52,
     "metadata": {},
     "output_type": "execute_result"
    }
   ],
   "source": [
    "spliced = pd.concat([data1[:'2012-06-14'], data2['2012-06-15':]])\n",
    "spliced"
   ]
  },
  {
   "cell_type": "markdown",
   "id": "88545fd8",
   "metadata": {},
   "source": [
    "Sử dụng combine_first, bạn có thể nhập dữ liệu từ trước điểm nối để mở rộng cho mục\n",
    "’d’:"
   ]
  },
  {
   "cell_type": "code",
   "execution_count": 53,
   "id": "7235843a",
   "metadata": {},
   "outputs": [
    {
     "data": {
      "text/html": [
       "<div>\n",
       "<style scoped>\n",
       "    .dataframe tbody tr th:only-of-type {\n",
       "        vertical-align: middle;\n",
       "    }\n",
       "\n",
       "    .dataframe tbody tr th {\n",
       "        vertical-align: top;\n",
       "    }\n",
       "\n",
       "    .dataframe thead th {\n",
       "        text-align: right;\n",
       "    }\n",
       "</style>\n",
       "<table border=\"1\" class=\"dataframe\">\n",
       "  <thead>\n",
       "    <tr style=\"text-align: right;\">\n",
       "      <th></th>\n",
       "      <th>a</th>\n",
       "      <th>b</th>\n",
       "      <th>c</th>\n",
       "      <th>d</th>\n",
       "    </tr>\n",
       "  </thead>\n",
       "  <tbody>\n",
       "    <tr>\n",
       "      <th>2012-06-12</th>\n",
       "      <td>1.0</td>\n",
       "      <td>1.0</td>\n",
       "      <td>1.0</td>\n",
       "      <td>NaN</td>\n",
       "    </tr>\n",
       "    <tr>\n",
       "      <th>2012-06-13</th>\n",
       "      <td>1.0</td>\n",
       "      <td>1.0</td>\n",
       "      <td>1.0</td>\n",
       "      <td>2.0</td>\n",
       "    </tr>\n",
       "    <tr>\n",
       "      <th>2012-06-14</th>\n",
       "      <td>1.0</td>\n",
       "      <td>1.0</td>\n",
       "      <td>1.0</td>\n",
       "      <td>2.0</td>\n",
       "    </tr>\n",
       "    <tr>\n",
       "      <th>2012-06-15</th>\n",
       "      <td>2.0</td>\n",
       "      <td>2.0</td>\n",
       "      <td>2.0</td>\n",
       "      <td>2.0</td>\n",
       "    </tr>\n",
       "    <tr>\n",
       "      <th>2012-06-16</th>\n",
       "      <td>2.0</td>\n",
       "      <td>2.0</td>\n",
       "      <td>2.0</td>\n",
       "      <td>2.0</td>\n",
       "    </tr>\n",
       "    <tr>\n",
       "      <th>2012-06-17</th>\n",
       "      <td>2.0</td>\n",
       "      <td>2.0</td>\n",
       "      <td>2.0</td>\n",
       "      <td>2.0</td>\n",
       "    </tr>\n",
       "    <tr>\n",
       "      <th>2012-06-18</th>\n",
       "      <td>2.0</td>\n",
       "      <td>2.0</td>\n",
       "      <td>2.0</td>\n",
       "      <td>2.0</td>\n",
       "    </tr>\n",
       "  </tbody>\n",
       "</table>\n",
       "</div>"
      ],
      "text/plain": [
       "              a    b    c    d\n",
       "2012-06-12  1.0  1.0  1.0  NaN\n",
       "2012-06-13  1.0  1.0  1.0  2.0\n",
       "2012-06-14  1.0  1.0  1.0  2.0\n",
       "2012-06-15  2.0  2.0  2.0  2.0\n",
       "2012-06-16  2.0  2.0  2.0  2.0\n",
       "2012-06-17  2.0  2.0  2.0  2.0\n",
       "2012-06-18  2.0  2.0  2.0  2.0"
      ]
     },
     "execution_count": 53,
     "metadata": {},
     "output_type": "execute_result"
    }
   ],
   "source": [
    "spliced_filled = spliced.combine_first(data2)\n",
    "spliced_filled\n",
    "#nhìn lên data2 rồi quan sát ta thấy, đối với các vị trị là null ở spliced_filled sẽ được điền bởi các phần tử ở \n",
    "# cùng vị trí với data2, còn vị trị đầu cột d do ở data2 không có nên nó vẫn là giá trị null"
   ]
  },
  {
   "cell_type": "markdown",
   "id": "6b8e4684",
   "metadata": {},
   "source": [
    "Vì data2 không có bất kỳ giá trị nào cho 2012-06-12, nên không có giá trị nào được\n",
    "điền vào ngày đó.\n",
    "\n",
    "DataFrame có bản cập nhật phương pháp liên quan để thực hiện cập nhật tại chỗ. Bạn\n",
    "phải vượt qua overwrite = False để làm cho nó chỉ lấp đầy các lỗ:"
   ]
  },
  {
   "cell_type": "code",
   "execution_count": 54,
   "id": "f8478257",
   "metadata": {},
   "outputs": [
    {
     "data": {
      "text/html": [
       "<div>\n",
       "<style scoped>\n",
       "    .dataframe tbody tr th:only-of-type {\n",
       "        vertical-align: middle;\n",
       "    }\n",
       "\n",
       "    .dataframe tbody tr th {\n",
       "        vertical-align: top;\n",
       "    }\n",
       "\n",
       "    .dataframe thead th {\n",
       "        text-align: right;\n",
       "    }\n",
       "</style>\n",
       "<table border=\"1\" class=\"dataframe\">\n",
       "  <thead>\n",
       "    <tr style=\"text-align: right;\">\n",
       "      <th></th>\n",
       "      <th>a</th>\n",
       "      <th>b</th>\n",
       "      <th>c</th>\n",
       "      <th>d</th>\n",
       "    </tr>\n",
       "  </thead>\n",
       "  <tbody>\n",
       "    <tr>\n",
       "      <th>2012-06-12</th>\n",
       "      <td>1.0</td>\n",
       "      <td>1.0</td>\n",
       "      <td>1.0</td>\n",
       "      <td>NaN</td>\n",
       "    </tr>\n",
       "    <tr>\n",
       "      <th>2012-06-13</th>\n",
       "      <td>2.0</td>\n",
       "      <td>2.0</td>\n",
       "      <td>2.0</td>\n",
       "      <td>2.0</td>\n",
       "    </tr>\n",
       "    <tr>\n",
       "      <th>2012-06-14</th>\n",
       "      <td>2.0</td>\n",
       "      <td>2.0</td>\n",
       "      <td>2.0</td>\n",
       "      <td>2.0</td>\n",
       "    </tr>\n",
       "    <tr>\n",
       "      <th>2012-06-15</th>\n",
       "      <td>2.0</td>\n",
       "      <td>2.0</td>\n",
       "      <td>2.0</td>\n",
       "      <td>2.0</td>\n",
       "    </tr>\n",
       "    <tr>\n",
       "      <th>2012-06-16</th>\n",
       "      <td>2.0</td>\n",
       "      <td>2.0</td>\n",
       "      <td>2.0</td>\n",
       "      <td>2.0</td>\n",
       "    </tr>\n",
       "    <tr>\n",
       "      <th>2012-06-17</th>\n",
       "      <td>2.0</td>\n",
       "      <td>2.0</td>\n",
       "      <td>2.0</td>\n",
       "      <td>2.0</td>\n",
       "    </tr>\n",
       "    <tr>\n",
       "      <th>2012-06-18</th>\n",
       "      <td>2.0</td>\n",
       "      <td>2.0</td>\n",
       "      <td>2.0</td>\n",
       "      <td>2.0</td>\n",
       "    </tr>\n",
       "  </tbody>\n",
       "</table>\n",
       "</div>"
      ],
      "text/plain": [
       "              a    b    c    d\n",
       "2012-06-12  1.0  1.0  1.0  NaN\n",
       "2012-06-13  2.0  2.0  2.0  2.0\n",
       "2012-06-14  2.0  2.0  2.0  2.0\n",
       "2012-06-15  2.0  2.0  2.0  2.0\n",
       "2012-06-16  2.0  2.0  2.0  2.0\n",
       "2012-06-17  2.0  2.0  2.0  2.0\n",
       "2012-06-18  2.0  2.0  2.0  2.0"
      ]
     },
     "execution_count": 54,
     "metadata": {},
     "output_type": "execute_result"
    }
   ],
   "source": [
    "spliced.update(data2, overwrite=True)\n",
    "#Cập nhật các vị trí null bởi data2 như ở trên\n",
    "spliced"
   ]
  },
  {
   "cell_type": "markdown",
   "id": "b5ab00c7",
   "metadata": {},
   "source": [
    "Để thay thế dữ liệu cho một tập hợp con các ký hiệu, bạn có thể sử dụng bất kỳ kỹ thuật\n",
    "nào ở trên, nhưng đôi khi đơn giản hơn chỉ cần đặt các cột trực tiếp bằng lập chỉ mục\n",
    "DataFrame:\n"
   ]
  },
  {
   "cell_type": "code",
   "execution_count": 55,
   "id": "c503b033",
   "metadata": {},
   "outputs": [
    {
     "data": {
      "text/html": [
       "<div>\n",
       "<style scoped>\n",
       "    .dataframe tbody tr th:only-of-type {\n",
       "        vertical-align: middle;\n",
       "    }\n",
       "\n",
       "    .dataframe tbody tr th {\n",
       "        vertical-align: top;\n",
       "    }\n",
       "\n",
       "    .dataframe thead th {\n",
       "        text-align: right;\n",
       "    }\n",
       "</style>\n",
       "<table border=\"1\" class=\"dataframe\">\n",
       "  <thead>\n",
       "    <tr style=\"text-align: right;\">\n",
       "      <th></th>\n",
       "      <th>a</th>\n",
       "      <th>b</th>\n",
       "      <th>c</th>\n",
       "      <th>d</th>\n",
       "    </tr>\n",
       "  </thead>\n",
       "  <tbody>\n",
       "    <tr>\n",
       "      <th>2012-06-12</th>\n",
       "      <td>1.0</td>\n",
       "      <td>1.0</td>\n",
       "      <td>1.0</td>\n",
       "      <td>NaN</td>\n",
       "    </tr>\n",
       "    <tr>\n",
       "      <th>2012-06-13</th>\n",
       "      <td>2.0</td>\n",
       "      <td>2.0</td>\n",
       "      <td>2.0</td>\n",
       "      <td>2.0</td>\n",
       "    </tr>\n",
       "    <tr>\n",
       "      <th>2012-06-14</th>\n",
       "      <td>2.0</td>\n",
       "      <td>2.0</td>\n",
       "      <td>2.0</td>\n",
       "      <td>2.0</td>\n",
       "    </tr>\n",
       "    <tr>\n",
       "      <th>2012-06-15</th>\n",
       "      <td>2.0</td>\n",
       "      <td>2.0</td>\n",
       "      <td>2.0</td>\n",
       "      <td>2.0</td>\n",
       "    </tr>\n",
       "    <tr>\n",
       "      <th>2012-06-16</th>\n",
       "      <td>2.0</td>\n",
       "      <td>2.0</td>\n",
       "      <td>2.0</td>\n",
       "      <td>2.0</td>\n",
       "    </tr>\n",
       "    <tr>\n",
       "      <th>2012-06-17</th>\n",
       "      <td>2.0</td>\n",
       "      <td>2.0</td>\n",
       "      <td>2.0</td>\n",
       "      <td>2.0</td>\n",
       "    </tr>\n",
       "    <tr>\n",
       "      <th>2012-06-18</th>\n",
       "      <td>2.0</td>\n",
       "      <td>2.0</td>\n",
       "      <td>2.0</td>\n",
       "      <td>2.0</td>\n",
       "    </tr>\n",
       "  </tbody>\n",
       "</table>\n",
       "</div>"
      ],
      "text/plain": [
       "              a    b    c    d\n",
       "2012-06-12  1.0  1.0  1.0  NaN\n",
       "2012-06-13  2.0  2.0  2.0  2.0\n",
       "2012-06-14  2.0  2.0  2.0  2.0\n",
       "2012-06-15  2.0  2.0  2.0  2.0\n",
       "2012-06-16  2.0  2.0  2.0  2.0\n",
       "2012-06-17  2.0  2.0  2.0  2.0\n",
       "2012-06-18  2.0  2.0  2.0  2.0"
      ]
     },
     "execution_count": 55,
     "metadata": {},
     "output_type": "execute_result"
    }
   ],
   "source": [
    "cp_spliced = spliced.copy()\n",
    "cp_spliced"
   ]
  },
  {
   "cell_type": "code",
   "execution_count": 56,
   "id": "89b1d32b",
   "metadata": {},
   "outputs": [
    {
     "data": {
      "text/html": [
       "<div>\n",
       "<style scoped>\n",
       "    .dataframe tbody tr th:only-of-type {\n",
       "        vertical-align: middle;\n",
       "    }\n",
       "\n",
       "    .dataframe tbody tr th {\n",
       "        vertical-align: top;\n",
       "    }\n",
       "\n",
       "    .dataframe thead th {\n",
       "        text-align: right;\n",
       "    }\n",
       "</style>\n",
       "<table border=\"1\" class=\"dataframe\">\n",
       "  <thead>\n",
       "    <tr style=\"text-align: right;\">\n",
       "      <th></th>\n",
       "      <th>a</th>\n",
       "      <th>b</th>\n",
       "      <th>c</th>\n",
       "    </tr>\n",
       "  </thead>\n",
       "  <tbody>\n",
       "    <tr>\n",
       "      <th>2012-06-12</th>\n",
       "      <td>1.0</td>\n",
       "      <td>1.0</td>\n",
       "      <td>1.0</td>\n",
       "    </tr>\n",
       "    <tr>\n",
       "      <th>2012-06-13</th>\n",
       "      <td>1.0</td>\n",
       "      <td>1.0</td>\n",
       "      <td>1.0</td>\n",
       "    </tr>\n",
       "    <tr>\n",
       "      <th>2012-06-14</th>\n",
       "      <td>1.0</td>\n",
       "      <td>1.0</td>\n",
       "      <td>1.0</td>\n",
       "    </tr>\n",
       "    <tr>\n",
       "      <th>2012-06-15</th>\n",
       "      <td>1.0</td>\n",
       "      <td>1.0</td>\n",
       "      <td>1.0</td>\n",
       "    </tr>\n",
       "    <tr>\n",
       "      <th>2012-06-16</th>\n",
       "      <td>1.0</td>\n",
       "      <td>1.0</td>\n",
       "      <td>1.0</td>\n",
       "    </tr>\n",
       "    <tr>\n",
       "      <th>2012-06-17</th>\n",
       "      <td>1.0</td>\n",
       "      <td>1.0</td>\n",
       "      <td>1.0</td>\n",
       "    </tr>\n",
       "  </tbody>\n",
       "</table>\n",
       "</div>"
      ],
      "text/plain": [
       "              a    b    c\n",
       "2012-06-12  1.0  1.0  1.0\n",
       "2012-06-13  1.0  1.0  1.0\n",
       "2012-06-14  1.0  1.0  1.0\n",
       "2012-06-15  1.0  1.0  1.0\n",
       "2012-06-16  1.0  1.0  1.0\n",
       "2012-06-17  1.0  1.0  1.0"
      ]
     },
     "execution_count": 56,
     "metadata": {},
     "output_type": "execute_result"
    }
   ],
   "source": [
    "data1"
   ]
  },
  {
   "cell_type": "code",
   "execution_count": 57,
   "id": "3ad6ddd6",
   "metadata": {},
   "outputs": [
    {
     "data": {
      "text/html": [
       "<div>\n",
       "<style scoped>\n",
       "    .dataframe tbody tr th:only-of-type {\n",
       "        vertical-align: middle;\n",
       "    }\n",
       "\n",
       "    .dataframe tbody tr th {\n",
       "        vertical-align: top;\n",
       "    }\n",
       "\n",
       "    .dataframe thead th {\n",
       "        text-align: right;\n",
       "    }\n",
       "</style>\n",
       "<table border=\"1\" class=\"dataframe\">\n",
       "  <thead>\n",
       "    <tr style=\"text-align: right;\">\n",
       "      <th></th>\n",
       "      <th>a</th>\n",
       "      <th>b</th>\n",
       "      <th>c</th>\n",
       "      <th>d</th>\n",
       "    </tr>\n",
       "  </thead>\n",
       "  <tbody>\n",
       "    <tr>\n",
       "      <th>2012-06-12</th>\n",
       "      <td>1.0</td>\n",
       "      <td>1.0</td>\n",
       "      <td>1.0</td>\n",
       "      <td>NaN</td>\n",
       "    </tr>\n",
       "    <tr>\n",
       "      <th>2012-06-13</th>\n",
       "      <td>1.0</td>\n",
       "      <td>2.0</td>\n",
       "      <td>1.0</td>\n",
       "      <td>2.0</td>\n",
       "    </tr>\n",
       "    <tr>\n",
       "      <th>2012-06-14</th>\n",
       "      <td>1.0</td>\n",
       "      <td>2.0</td>\n",
       "      <td>1.0</td>\n",
       "      <td>2.0</td>\n",
       "    </tr>\n",
       "    <tr>\n",
       "      <th>2012-06-15</th>\n",
       "      <td>1.0</td>\n",
       "      <td>2.0</td>\n",
       "      <td>1.0</td>\n",
       "      <td>2.0</td>\n",
       "    </tr>\n",
       "    <tr>\n",
       "      <th>2012-06-16</th>\n",
       "      <td>1.0</td>\n",
       "      <td>2.0</td>\n",
       "      <td>1.0</td>\n",
       "      <td>2.0</td>\n",
       "    </tr>\n",
       "    <tr>\n",
       "      <th>2012-06-17</th>\n",
       "      <td>1.0</td>\n",
       "      <td>2.0</td>\n",
       "      <td>1.0</td>\n",
       "      <td>2.0</td>\n",
       "    </tr>\n",
       "    <tr>\n",
       "      <th>2012-06-18</th>\n",
       "      <td>NaN</td>\n",
       "      <td>2.0</td>\n",
       "      <td>NaN</td>\n",
       "      <td>2.0</td>\n",
       "    </tr>\n",
       "  </tbody>\n",
       "</table>\n",
       "</div>"
      ],
      "text/plain": [
       "              a    b    c    d\n",
       "2012-06-12  1.0  1.0  1.0  NaN\n",
       "2012-06-13  1.0  2.0  1.0  2.0\n",
       "2012-06-14  1.0  2.0  1.0  2.0\n",
       "2012-06-15  1.0  2.0  1.0  2.0\n",
       "2012-06-16  1.0  2.0  1.0  2.0\n",
       "2012-06-17  1.0  2.0  1.0  2.0\n",
       "2012-06-18  NaN  2.0  NaN  2.0"
      ]
     },
     "execution_count": 57,
     "metadata": {},
     "output_type": "execute_result"
    }
   ],
   "source": [
    "cp_spliced[['a', 'c']] = data1[['a', 'c']]\n",
    "cp_spliced"
   ]
  },
  {
   "cell_type": "markdown",
   "id": "6ff94423",
   "metadata": {},
   "source": [
    "1.5 Return Indexes and Cumulative Returns\n",
    "\n",
    "Chỉ mục trả lại và lợi nhuận tích lũy"
   ]
  },
  {
   "cell_type": "markdown",
   "id": "c979f0f2",
   "metadata": {},
   "source": [
    "Trong bối cảnh tài chính, lợi nhuận thường đề cập đến phần trăm thay đổi trong giá của\n",
    "một tài sản. Hãy xem xét dữ liệu giá của Apple trong năm 2011 và 2022:"
   ]
  },
  {
   "cell_type": "code",
   "execution_count": 58,
   "id": "91cbf083",
   "metadata": {},
   "outputs": [
    {
     "name": "stdout",
     "output_type": "stream",
     "text": [
      "Requirement already satisfied: pandas_datareader in c:\\users\\admin\\anaconda3\\lib\\site-packages (0.10.0)\n",
      "Requirement already satisfied: pandas>=0.23 in c:\\users\\admin\\anaconda3\\lib\\site-packages (from pandas_datareader) (1.5.1)\n",
      "Requirement already satisfied: requests>=2.19.0 in c:\\users\\admin\\anaconda3\\lib\\site-packages (from pandas_datareader) (2.27.1)\n",
      "Requirement already satisfied: lxml in c:\\users\\admin\\anaconda3\\lib\\site-packages (from pandas_datareader) (4.8.0)\n",
      "Requirement already satisfied: python-dateutil>=2.8.1 in c:\\users\\admin\\anaconda3\\lib\\site-packages (from pandas>=0.23->pandas_datareader) (2.8.2)\n",
      "Requirement already satisfied: pytz>=2020.1 in c:\\users\\admin\\anaconda3\\lib\\site-packages (from pandas>=0.23->pandas_datareader) (2021.3)\n",
      "Requirement already satisfied: numpy>=1.20.3 in c:\\users\\admin\\anaconda3\\lib\\site-packages (from pandas>=0.23->pandas_datareader) (1.21.5)\n",
      "Requirement already satisfied: six>=1.5 in c:\\users\\admin\\anaconda3\\lib\\site-packages (from python-dateutil>=2.8.1->pandas>=0.23->pandas_datareader) (1.16.0)\n",
      "Requirement already satisfied: certifi>=2017.4.17 in c:\\users\\admin\\anaconda3\\lib\\site-packages (from requests>=2.19.0->pandas_datareader) (2022.9.24)\n",
      "Requirement already satisfied: urllib3<1.27,>=1.21.1 in c:\\users\\admin\\anaconda3\\lib\\site-packages (from requests>=2.19.0->pandas_datareader) (1.26.9)\n",
      "Requirement already satisfied: idna<4,>=2.5 in c:\\users\\admin\\anaconda3\\lib\\site-packages (from requests>=2.19.0->pandas_datareader) (3.3)\n",
      "Requirement already satisfied: charset-normalizer~=2.0.0 in c:\\users\\admin\\anaconda3\\lib\\site-packages (from requests>=2.19.0->pandas_datareader) (2.0.4)\n",
      "Note: you may need to restart the kernel to use updated packages.\n"
     ]
    },
    {
     "name": "stderr",
     "output_type": "stream",
     "text": [
      "WARNING: Ignoring invalid distribution -andas (c:\\users\\admin\\anaconda3\\lib\\site-packages)\n",
      "WARNING: Ignoring invalid distribution -andas (c:\\users\\admin\\anaconda3\\lib\\site-packages)\n",
      "WARNING: Ignoring invalid distribution -andas (c:\\users\\admin\\anaconda3\\lib\\site-packages)\n",
      "WARNING: Ignoring invalid distribution -andas (c:\\users\\admin\\anaconda3\\lib\\site-packages)\n",
      "WARNING: Ignoring invalid distribution -andas (c:\\users\\admin\\anaconda3\\lib\\site-packages)\n",
      "WARNING: Ignoring invalid distribution -andas (c:\\users\\admin\\anaconda3\\lib\\site-packages)\n"
     ]
    }
   ],
   "source": [
    "pip install pandas_datareader"
   ]
  },
  {
   "cell_type": "code",
   "execution_count": null,
   "id": "70c19bf3",
   "metadata": {},
   "outputs": [],
   "source": []
  },
  {
   "cell_type": "code",
   "execution_count": 59,
   "id": "b439dcec",
   "metadata": {},
   "outputs": [],
   "source": [
    "from pandas_datareader import data\n",
    "prices=data.DataReader('AAPL','yahoo','2011-01-01')['Adj Close']"
   ]
  },
  {
   "cell_type": "code",
   "execution_count": 60,
   "id": "03a5c9f9",
   "metadata": {},
   "outputs": [
    {
     "data": {
      "text/plain": [
       "Date\n",
       "2022-11-28    144.220001\n",
       "2022-11-29    141.169998\n",
       "2022-11-30    148.029999\n",
       "2022-12-01    148.309998\n",
       "2022-12-02    145.850098\n",
       "Name: Adj Close, dtype: float64"
      ]
     },
     "execution_count": 60,
     "metadata": {},
     "output_type": "execute_result"
    }
   ],
   "source": [
    "prices[-5:]"
   ]
  },
  {
   "cell_type": "code",
   "execution_count": 61,
   "id": "c9015c59",
   "metadata": {},
   "outputs": [
    {
     "data": {
      "text/plain": [
       "Date\n",
       "2010-12-31     9.819854\n",
       "2011-01-03    10.033263\n",
       "2011-01-04    10.085629\n",
       "2011-01-05    10.168123\n",
       "2011-01-06    10.159907\n",
       "Name: Adj Close, dtype: float64"
      ]
     },
     "execution_count": 61,
     "metadata": {},
     "output_type": "execute_result"
    }
   ],
   "source": [
    "prices.head()"
   ]
  },
  {
   "cell_type": "markdown",
   "id": "5c6b6ca0",
   "metadata": {},
   "source": [
    "Với Apple, công ty không có cổ tức, việc tính toán tỷ lệ hoàn vốn tích lũy giữa hai thời\n",
    "điểm chỉ yêu cầu tính toán phần trăm thay đổi trong giá:\n"
   ]
  },
  {
   "cell_type": "code",
   "execution_count": 62,
   "id": "1c35d683",
   "metadata": {},
   "outputs": [
    {
     "data": {
      "text/plain": [
       "0.02173244414342501"
      ]
     },
     "execution_count": 62,
     "metadata": {},
     "output_type": "execute_result"
    }
   ],
   "source": [
    "prices[1]/prices[0] - 1\n",
    "#Tính tốc độ tăng trường so với trước"
   ]
  },
  {
   "cell_type": "markdown",
   "id": "28f21e3d",
   "metadata": {},
   "source": [
    "Với các cổ phiếu khác có chi trả cổ tức, việc tính toán số tiền bạn kiếm được từ việc nắm\n",
    "giữ một cổ phiếu có thể phức tạp hơn. Tuy nhiên, các giá trị đóng được điều chỉnh được\n",
    "sử dụng ở đây đã được điều chỉnh cho các khoản chia tách và cổ tức. Trong mọi trường\n",
    "hợp, việc lấy chỉ số hoàn vốn là một chuỗi thời gian cho biết giá trị của một khoản đầu tư\n",
    "đơn vị (một đô la chẳng hạn) là điều khá phổ biến. Nhiều giả định có thể làm cơ sở cho\n",
    "chỉ số trả về. Ví dụ, một số sẽ chọn tái đầu tư lợi nhuận và những người khác thì không.\n",
    "Trong trường hợp của Apple, chúng ta có thể tính toán một chỉ số trả về đơn giản bằng\n",
    "cách sử dụng cumprod:\n"
   ]
  },
  {
   "cell_type": "code",
   "execution_count": 63,
   "id": "8b82f599",
   "metadata": {},
   "outputs": [
    {
     "data": {
      "text/plain": [
       "Date\n",
       "2010-12-31         NaN\n",
       "2011-01-03    0.021732\n",
       "2011-01-04    0.005219\n",
       "2011-01-05    0.008179\n",
       "2011-01-06   -0.000808\n",
       "                ...   \n",
       "2022-11-28   -0.026264\n",
       "2022-11-29   -0.021148\n",
       "2022-11-30    0.048594\n",
       "2022-12-01    0.001892\n",
       "2022-12-02   -0.016586\n",
       "Name: Adj Close, Length: 3002, dtype: float64"
      ]
     },
     "execution_count": 63,
     "metadata": {},
     "output_type": "execute_result"
    }
   ],
   "source": [
    "#Phần trăm thay đổi giữa phần tử hiện tại và phần tử trước nó\n",
    "returns = prices.pct_change()\n",
    "returns"
   ]
  },
  {
   "cell_type": "code",
   "execution_count": 64,
   "id": "4797f4b5",
   "metadata": {},
   "outputs": [
    {
     "data": {
      "text/plain": [
       "Date\n",
       "2010-12-31          NaN\n",
       "2011-01-03     1.021732\n",
       "2011-01-04     1.027065\n",
       "2011-01-05     1.035466\n",
       "2011-01-06     1.034629\n",
       "                ...    \n",
       "2022-11-28    14.686573\n",
       "2022-11-29    14.375978\n",
       "2022-11-30    15.074562\n",
       "2022-12-01    15.103076\n",
       "2022-12-02    14.852573\n",
       "Name: Adj Close, Length: 3002, dtype: float64"
      ]
     },
     "execution_count": 64,
     "metadata": {},
     "output_type": "execute_result"
    }
   ],
   "source": [
    "#tính tích lũy so với phần tử đầu tiên\n",
    "ret_index = (1 + returns).cumprod()\n",
    "ret_index"
   ]
  },
  {
   "cell_type": "code",
   "execution_count": 65,
   "id": "9eca4400",
   "metadata": {},
   "outputs": [
    {
     "data": {
      "text/plain": [
       "1.035465850133191"
      ]
     },
     "execution_count": 65,
     "metadata": {},
     "output_type": "execute_result"
    }
   ],
   "source": [
    "prices[3]/prices[0] "
   ]
  },
  {
   "cell_type": "code",
   "execution_count": 66,
   "id": "656325b2",
   "metadata": {},
   "outputs": [
    {
     "data": {
      "text/plain": [
       "Date\n",
       "2010-12-31     1.000000\n",
       "2011-01-03     1.021732\n",
       "2011-01-04     1.027065\n",
       "2011-01-05     1.035466\n",
       "2011-01-06     1.034629\n",
       "                ...    \n",
       "2022-11-28    14.686573\n",
       "2022-11-29    14.375978\n",
       "2022-11-30    15.074562\n",
       "2022-12-01    15.103076\n",
       "2022-12-02    14.852573\n",
       "Name: Adj Close, Length: 3002, dtype: float64"
      ]
     },
     "execution_count": 66,
     "metadata": {},
     "output_type": "execute_result"
    }
   ],
   "source": [
    "ret_index[0] = 1 # Set first value to 1\n",
    "ret_index\n"
   ]
  },
  {
   "cell_type": "markdown",
   "id": "9fb3e8db",
   "metadata": {},
   "source": [
    "Với một số chỉ số trả lại, việc tính toán lợi nhuận tích lũy tại một giải pháp cụ thể trở\n",
    "nên đơn giản:"
   ]
  },
  {
   "cell_type": "code",
   "execution_count": null,
   "id": "f9cfbedb",
   "metadata": {},
   "outputs": [],
   "source": []
  },
  {
   "cell_type": "code",
   "execution_count": 67,
   "id": "4af703e1",
   "metadata": {},
   "outputs": [
    {
     "data": {
      "text/plain": [
       "Date\n",
       "2010-12-31     1.000000\n",
       "2011-01-31     1.049045\n",
       "2011-02-28     1.088736\n",
       "2011-03-31     1.077291\n",
       "2011-04-30     1.055356\n",
       "                ...    \n",
       "2022-08-31    16.962523\n",
       "2022-09-30    15.555167\n",
       "2022-10-31    14.742905\n",
       "2022-11-30    14.848394\n",
       "2022-12-31    14.977825\n",
       "Freq: M, Name: Adj Close, Length: 145, dtype: float64"
      ]
     },
     "execution_count": 67,
     "metadata": {},
     "output_type": "execute_result"
    }
   ],
   "source": [
    "# với M là lấy giá trị trung bình của từng tháng cho tổng kết ở ngày cuối tháng\n",
    "m_returns = ret_index.resample('M').mean()\n",
    "m_returns"
   ]
  },
  {
   "cell_type": "code",
   "execution_count": 68,
   "id": "8ebc7308",
   "metadata": {},
   "outputs": [
    {
     "data": {
      "text/plain": [
       "Date\n",
       "2010-12-31      9.819854\n",
       "2011-01-03     10.033263\n",
       "2011-01-04     10.085629\n",
       "2011-01-05     10.168123\n",
       "2011-01-06     10.159907\n",
       "                 ...    \n",
       "2022-11-28    144.220001\n",
       "2022-11-29    141.169998\n",
       "2022-11-30    148.029999\n",
       "2022-12-01    148.309998\n",
       "2022-12-02    145.850098\n",
       "Name: Adj Close, Length: 3002, dtype: float64"
      ]
     },
     "execution_count": 68,
     "metadata": {},
     "output_type": "execute_result"
    }
   ],
   "source": [
    "#kiểm chứng kết quả trên:\n",
    "prices"
   ]
  },
  {
   "cell_type": "code",
   "execution_count": 69,
   "id": "5f2be432",
   "metadata": {},
   "outputs": [
    {
     "data": {
      "text/plain": [
       "1.0490451509357752"
      ]
     },
     "execution_count": 69,
     "metadata": {},
     "output_type": "execute_result"
    }
   ],
   "source": [
    "prices['2011-01-03':'2011-01-31'].mean()/prices['2010-12-31 ']"
   ]
  },
  {
   "cell_type": "markdown",
   "id": "ab36701a",
   "metadata": {},
   "source": [
    "=>Chính xác"
   ]
  },
  {
   "cell_type": "code",
   "execution_count": 70,
   "id": "c65fd700",
   "metadata": {},
   "outputs": [
    {
     "data": {
      "text/plain": [
       "Date\n",
       "2012-01-31    1.328677\n",
       "2012-02-29    1.542569\n",
       "2012-03-31    1.790388\n",
       "2012-04-30    1.878730\n",
       "2012-05-31    1.750599\n",
       "2012-06-30    1.781257\n",
       "2012-07-31    1.863431\n",
       "2012-08-31    1.998903\n",
       "2012-09-30    2.122070\n",
       "2012-10-31    1.976189\n",
       "2012-11-30    1.763536\n",
       "2012-12-31    1.664124\n",
       "Freq: M, Name: Adj Close, dtype: float64"
      ]
     },
     "execution_count": 70,
     "metadata": {},
     "output_type": "execute_result"
    }
   ],
   "source": [
    "m_returns['2012']"
   ]
  },
  {
   "cell_type": "markdown",
   "id": "8e6d6445",
   "metadata": {},
   "source": [
    "Tất nhiên, trong trường hợp đơn giản này (không tính đến cổ tức hoặc các điều chỉnh\n",
    "khác), chúng có thể được tính từ phần trăm hàng ngày đã thay đổi bằng cách lấy mẫu lại\n",
    "với tổng hợp (ở đây, thành các khoảng thời gian):\n"
   ]
  },
  {
   "cell_type": "code",
   "execution_count": 71,
   "id": "7237ee09",
   "metadata": {},
   "outputs": [
    {
     "data": {
      "text/plain": [
       "Date\n",
       "2010-12-31         NaN\n",
       "2011-01-03    0.021732\n",
       "2011-01-04    0.005219\n",
       "2011-01-05    0.008179\n",
       "2011-01-06   -0.000808\n",
       "                ...   \n",
       "2022-11-28   -0.026264\n",
       "2022-11-29   -0.021148\n",
       "2022-11-30    0.048594\n",
       "2022-12-01    0.001892\n",
       "2022-12-02   -0.016586\n",
       "Name: Adj Close, Length: 3002, dtype: float64"
      ]
     },
     "execution_count": 71,
     "metadata": {},
     "output_type": "execute_result"
    }
   ],
   "source": [
    "returns"
   ]
  },
  {
   "cell_type": "code",
   "execution_count": 72,
   "id": "6b4cf866",
   "metadata": {},
   "outputs": [
    {
     "data": {
      "text/plain": [
       "Date\n",
       "2010-12         NaN\n",
       "2011-01    0.002635\n",
       "2011-02    0.002203\n",
       "2011-03   -0.000457\n",
       "2011-04    0.000296\n",
       "             ...   \n",
       "2022-08   -0.001252\n",
       "2022-09   -0.005864\n",
       "2022-10    0.005297\n",
       "2022-11   -0.001179\n",
       "2022-12   -0.007347\n",
       "Freq: M, Name: Adj Close, Length: 145, dtype: float64"
      ]
     },
     "execution_count": 72,
     "metadata": {},
     "output_type": "execute_result"
    }
   ],
   "source": [
    "#Với lấy mẫu theo M là lấy mẫu theo từng tháng, BỔ SUNG: chỗ kind = period chuyển đổi index thành năm với tháng\n",
    "m_rets = (1 + returns).resample('M', kind='period').mean() - 1\n",
    "m_rets"
   ]
  },
  {
   "cell_type": "code",
   "execution_count": 73,
   "id": "28eac2fe",
   "metadata": {},
   "outputs": [
    {
     "data": {
      "text/plain": [
       "Date\n",
       "2012-01    0.006125\n",
       "2012-02    0.008733\n",
       "2012-03    0.004670\n",
       "2012-04   -0.000875\n",
       "2012-05   -0.000333\n",
       "2012-06    0.000600\n",
       "2012-07    0.002249\n",
       "2012-08    0.003964\n",
       "2012-09    0.000252\n",
       "2012-10   -0.005247\n",
       "2012-11   -0.000315\n",
       "2012-12   -0.004469\n",
       "Freq: M, Name: Adj Close, dtype: float64"
      ]
     },
     "execution_count": 73,
     "metadata": {},
     "output_type": "execute_result"
    }
   ],
   "source": [
    "m_rets['2012']"
   ]
  },
  {
   "cell_type": "markdown",
   "id": "8236c042",
   "metadata": {},
   "source": [
    "Group Transforms and Analysis\n",
    "\n",
    "Chuyển đổi nhóm và phân tích\n"
   ]
  },
  {
   "cell_type": "markdown",
   "id": "f44ea239",
   "metadata": {},
   "source": [
    "Trong Chương 9, bạn đã học những kiến thức cơ bản về tính toán thống kê nhóm và áp\n",
    "dụng các phép biến đổi của riêng bạn cho các nhóm trong tập dữ liệu.\n",
    "\n",
    "Hãy xem xét một tập hợp các danh mục cổ phiếu giả định. Đầu tiên tôi tạo ngẫu nhiên\n",
    "một không gian gồm 2000 mã:"
   ]
  },
  {
   "cell_type": "code",
   "execution_count": 74,
   "id": "2e4a979d",
   "metadata": {},
   "outputs": [],
   "source": [
    "import random; random.seed(0)\n",
    "import string"
   ]
  },
  {
   "cell_type": "code",
   "execution_count": 75,
   "id": "d8da382a",
   "metadata": {},
   "outputs": [
    {
     "data": {
      "text/plain": [
       "'ABCDEFGHIJKLMNOPQRSTUVWXYZ'"
      ]
     },
     "execution_count": 75,
     "metadata": {},
     "output_type": "execute_result"
    }
   ],
   "source": [
    "k = string.ascii_uppercase\n",
    "k"
   ]
  },
  {
   "cell_type": "code",
   "execution_count": 76,
   "id": "8e3983e4",
   "metadata": {},
   "outputs": [
    {
     "data": {
      "text/plain": [
       "'MYNBIQPMZJ'"
      ]
     },
     "execution_count": 76,
     "metadata": {},
     "output_type": "execute_result"
    }
   ],
   "source": [
    "''.join([random.choice(k) for _ in range(10)])"
   ]
  },
  {
   "cell_type": "code",
   "execution_count": 77,
   "id": "48dddef8",
   "metadata": {},
   "outputs": [
    {
     "data": {
      "text/plain": [
       "['P', 'L', 'S', 'G', 'Q', 'E', 'J', 'E', 'Y', 'D']"
      ]
     },
     "execution_count": 77,
     "metadata": {},
     "output_type": "execute_result"
    }
   ],
   "source": [
    "[random.choice(k) for _ in range(10)]"
   ]
  },
  {
   "cell_type": "code",
   "execution_count": 78,
   "id": "9d2bfb96",
   "metadata": {},
   "outputs": [
    {
     "name": "stdout",
     "output_type": "stream",
     "text": [
      "1000\n"
     ]
    },
    {
     "data": {
      "text/plain": [
       "array(['TZIRW', 'ZTEJD', 'XCVKP', 'RDLNK', 'TUGRP', 'OQIBZ', 'RACXM',\n",
       "       'WZVUA', 'TPKHX', 'KWCGS', 'HHZEZ', 'ROCCK', 'QPDJR', 'JWDRK',\n",
       "       'RGZTR', 'SJOCT', 'ZMKSH', 'JFGFB', 'TVIPC', 'CVYEE', 'BCWRV',\n",
       "       'MWQIQ', 'ZHGVS', 'NSIOP', 'VUWZL', 'CKTDP', 'SUKGH', 'AXIDW',\n",
       "       'HLZFK', 'NBDZE', 'WHBSU', 'RTVCA', 'DUGTS', 'DMCLD', 'BTAGF',\n",
       "       'WDPGX', 'ZBVAR', 'NTDIC', 'HCUJL', 'NFBQO', 'BTDWM', 'GILXP',\n",
       "       'SFWVG', 'YBZVF', 'FKQID', 'TOVFA', 'PVNSQ', 'JULMV', 'IERWA',\n",
       "       'OXCKX', 'BRIEH', 'YPLTJ', 'VLSUT', 'EWJMX', 'NUCAT', 'GWKFH',\n",
       "       'HUOMW', 'VSNBM', 'WSNYV', 'WBFOC', 'IWFOQ', 'PRTYA', 'BPKJO',\n",
       "       'BZZNG', 'RUCXE', 'AMVNK', 'AGAWY', 'AVQTD', 'GDTUG', 'JIWFD',\n",
       "       'PMUCA', 'IOZZD', 'IEUQU', 'ULDEI', 'ABBGV', 'IRKLS', 'BXWTU',\n",
       "       'PWUOU', 'NLRFG', 'MSJAE', 'EIKKZ', 'LWCKY', 'TBBIF', 'ESJLM',\n",
       "       'REJDP', 'XHBJF', 'QXCJM', 'KJNDD', 'RPPKZ', 'ZKDPD', 'WPNBJ',\n",
       "       'KXVEF', 'USMZU', 'CCZCG', 'XHBMA', 'DMRQJ', 'OPZSW', 'VGNCL',\n",
       "       'HISYF', 'NGLDC', 'WAQOY', 'VGDPM', 'IGUBZ', 'GTEDG', 'OMLRE',\n",
       "       'DTPES', 'MUVNQ', 'PVKPP', 'UVGRT', 'HAKWX', 'KKBQE', 'ITZEM',\n",
       "       'SJWWZ', 'PCZCQ', 'BCHEB', 'JAYOK', 'FZEUO', 'LQMQQ', 'BSCVZ',\n",
       "       'ZQYTC', 'XNYGJ', 'RTNPZ', 'MTSHZ', 'AVAXF', 'JQSIK', 'CPIJY',\n",
       "       'NMZMB', 'FUEHJ', 'XKBBP', 'NEPTW', 'CVWEZ', 'LNBTO', 'MOBDP',\n",
       "       'YEABT', 'TEUKD', 'WRULG', 'MZYYP', 'DBTWO', 'TUKUD', 'VWTJZ',\n",
       "       'EMZJX', 'VZDQZ', 'GBZMO', 'LYGOL', 'ZUCBB', 'PIAQV', 'SSGHC',\n",
       "       'YUYQW', 'QNQJD', 'ENSNC', 'DNCDN', 'YEXAZ', 'ONVNA', 'PKXIC',\n",
       "       'LCDLW', 'ALLFA', 'HLCTE', 'GAGVV', 'XDXAJ', 'LWATH', 'EFODP',\n",
       "       'LWIEA', 'GLKPJ', 'JRUKF', 'SCDRS', 'JFMEE', 'ZHKQH', 'HYFJL',\n",
       "       'NVBET', 'AMCWC', 'ENJRN', 'XESNJ', 'ULCHO', 'ULUQB', 'MNANX',\n",
       "       'KOGLJ', 'PCFZD', 'IDRTW', 'EZWOM', 'FYNNF', 'HOKQE', 'LOUUC',\n",
       "       'PYGJA', 'WOTOA', 'GJDYU', 'JRTEN', 'WYPCV', 'PYHRY', 'MIUAD',\n",
       "       'IVBAI', 'MQSWM', 'ODXIL', 'JYVGT', 'CBCZI', 'JRKDQ', 'HYFCN',\n",
       "       'JJQES', 'QUGRD', 'NURMX', 'YZIJO', 'LSUEF', 'DWDMM', 'SOERV',\n",
       "       'JLUPX', 'NGPPW', 'QKPUB', 'OJEXP', 'BTGAL', 'PMAQC', 'VCVXV',\n",
       "       'MALBD', 'TAIUW', 'JXHEY', 'SJGDN', 'OWKMF', 'KNUVN', 'EOWEQ',\n",
       "       'KEGFO', 'LZMNZ', 'PMXHZ', 'GOGSW', 'BMBHU', 'CFLBX', 'UVFHT',\n",
       "       'JTCWQ', 'YJYLN', 'OBUWQ', 'VURXN', 'SOPIW', 'PGKIB', 'BBFLA',\n",
       "       'JUAEC', 'ZNVHT', 'MRHOG', 'KTDTC', 'ZKKRO', 'KIAQB', 'GLCGQ',\n",
       "       'LGGIV', 'XXJJQ', 'MIPLW', 'HBJRC', 'AOPXO', 'BZNPO', 'ODCCH',\n",
       "       'DYENG', 'OTCNR', 'YMBFH', 'PHEIL', 'KNDRJ', 'TRZGW', 'JYOQT',\n",
       "       'ORUII', 'HADTZ', 'WDFXN', 'HGJXV', 'AXRQN', 'BDMUI', 'DXSLH',\n",
       "       'VWWRV', 'JHXHC', 'QJVKH', 'LUPJS', 'FEZAR', 'QKLSU', 'AZEME',\n",
       "       'FQCEY', 'GZYPS', 'YWGHX', 'EHYML', 'TSEUP', 'DTAQT', 'LPOJA',\n",
       "       'HRUFV', 'PZXPR', 'KWCIE', 'TMWGK', 'ZJMBG', 'BKXXH', 'KOVXV',\n",
       "       'VHILV', 'FJALS', 'RBXUE', 'LAPUB', 'AHBAH', 'UKCBL', 'VNEGO',\n",
       "       'NELJF', 'UKXZX', 'NMANI', 'RRZXV', 'WOYBS', 'DNMFA', 'QETVQ',\n",
       "       'XWECK', 'HFHAZ', 'FXZVR', 'FWCNT', 'DTUOW', 'ETTBI', 'KZXXM',\n",
       "       'AUBPC', 'LJVEO', 'HQLFX', 'YMKIZ', 'PMAJQ', 'JRPBY', 'RSRIV',\n",
       "       'BOMXD', 'MLPBA', 'IXBIV', 'VSWYJ', 'VYGYQ', 'QKMIG', 'DSKZH',\n",
       "       'SVXRV', 'LFEKX', 'ASBSE', 'LLJUJ', 'KPZMT', 'NFAZE', 'SBOEK',\n",
       "       'AXPVV', 'YIXTG', 'CRNIF', 'QFCVU', 'FSDQU', 'ZRTMY', 'NIJJA',\n",
       "       'NYWII', 'RQRKK', 'GWZNZ', 'EAYQE', 'ZVWZS', 'MLOBR', 'NUTZZ',\n",
       "       'YHALQ', 'FVGUL', 'UWPAX', 'XHSHI', 'FYNCS', 'OHXWO', 'QZZWD',\n",
       "       'GFOCN', 'UMIIN', 'YYLTK', 'CJAPA', 'YIGYM', 'MNYUU', 'VMWBS',\n",
       "       'OLSES', 'WIKAM', 'PQEBC', 'SLLAC', 'GWDVR', 'PBKAK', 'MEYUI',\n",
       "       'NVETE', 'MJQBF', 'EEPWU', 'WYXBX', 'QBRWX', 'WUMFL', 'ZSCCR',\n",
       "       'FIGZI', 'KWWIZ', 'IQOEY', 'OREBU', 'SFUQB', 'YKCGU', 'ZOTHZ',\n",
       "       'OQFWK', 'UEPYR', 'BRCQK', 'AYCDN', 'TLSOK', 'MQLUD', 'EKAFX',\n",
       "       'EAKTG', 'BNUBW', 'JZMBT', 'YZWFL', 'CNBOL', 'TTYIV', 'JSZON',\n",
       "       'FAOZI', 'GMCLD', 'DALAF', 'MTWUA', 'KOZRX', 'WPPCB', 'RMZZI',\n",
       "       'AUQDC', 'KLDPB', 'EQUZJ', 'BAMKF', 'RWEFF', 'YFUVH', 'TKAPU',\n",
       "       'VMBHH', 'UJKFH', 'LHFNO', 'LSEMS', 'YAFSA', 'VMWZF', 'EAAKQ',\n",
       "       'ABBYD', 'STEYE', 'VZMZA', 'NNSVK', 'WHELQ', 'GRMCE', 'NSVLD',\n",
       "       'NNHPM', 'HMHUP', 'MSCII', 'QLRAT', 'TYPHI', 'BTKZM', 'UDRBE',\n",
       "       'WMAYN', 'XMNDW', 'OTOFF', 'KPNFS', 'JYQDL', 'LEULY', 'PUQYB',\n",
       "       'GIFXS', 'KJMUB', 'JRNBV', 'NIMXG', 'LEEDT', 'LFANS', 'MOCUW',\n",
       "       'WVCYN', 'RXREF', 'EGFHA', 'QEPLT', 'XJWZK', 'VDZNY', 'IFKUQ',\n",
       "       'KRWEM', 'XXRJH', 'MLMPQ', 'JNNDV', 'EEAST', 'UWQDW', 'YUWGT',\n",
       "       'UTQDI', 'WXTFM', 'CZBAD', 'LXPKD', 'VOLSW', 'IVPZY', 'HFRRC',\n",
       "       'YQFAU', 'FQNTV', 'GOWVM', 'IASEM', 'FOSBM', 'ZCUSM', 'KHQOB',\n",
       "       'PTDIQ', 'PRUMP', 'IFHRL', 'FJTEO', 'CCPMS', 'NRCIP', 'HDJEL',\n",
       "       'ZDEVB', 'VESRG', 'ABMRW', 'YTPWW', 'DPRLY', 'KDVAH', 'HPJIH',\n",
       "       'APLQK', 'CCJSN', 'HXLMY', 'EHJGX', 'YPVZL', 'JMTEY', 'DMLQP',\n",
       "       'HUWLU', 'LNILM', 'YYWJD', 'PJDOE', 'LHXFK', 'PHDVM', 'MOQOS',\n",
       "       'THVMQ', 'JPHKQ', 'VACPK', 'MHNBS', 'YBNCI', 'GXKFD', 'FZWLA',\n",
       "       'HBAMR', 'AEDTT', 'GCXOG', 'AQTNC', 'RFHHN', 'MPZAN', 'GMYBT',\n",
       "       'IASLW', 'LKVOU', 'ETQCI', 'DWDIA', 'WETYV', 'EMGSV', 'KGNQQ',\n",
       "       'DRDWP', 'DQOPF', 'ORKEN', 'IMCSQ', 'KHOHL', 'PYNAO', 'XARMY',\n",
       "       'YOHNH', 'IPPEH', 'OJLUP', 'TEQVC', 'GJQUV', 'DBEKB', 'KTZFY',\n",
       "       'OMVGN', 'PGFMB', 'ZZYKY', 'VQGXK', 'FQRWT', 'SNEUW', 'TPVSG',\n",
       "       'TOBHP', 'TKRXG', 'ABBEH', 'OVTHV', 'VDYQN', 'UUJVK', 'PVGFL',\n",
       "       'RLWOM', 'OVKOC', 'EHYDY', 'EMOWR', 'GLWBA', 'MGCNS', 'SZNRG',\n",
       "       'UAVEQ', 'UPJMR', 'RCCTX', 'PYAGN', 'TYLJC', 'XAYZH', 'TASQL',\n",
       "       'EOIDS', 'OIHMM', 'XQKHS', 'ICBEK', 'USSPC', 'QPNKM', 'XADNT',\n",
       "       'VEYEA', 'DWNHB', 'UIIMD', 'LJLTZ', 'UGXRR', 'BKQRA', 'FPAUI',\n",
       "       'KELDT', 'RNZYC', 'ISDQC', 'SEPBQ', 'ZHLDR', 'WGFWV', 'HMGTW',\n",
       "       'XOLFI', 'XLRGG', 'OKEIR', 'VYYAC', 'VKJWZ', 'KBCTA', 'JZDFW',\n",
       "       'IGQRL', 'OCNQR', 'NDCSO', 'KFJHU', 'NVWJB', 'AAUIC', 'VKKRU',\n",
       "       'JBZWH', 'WQEIT', 'BZMNI', 'SHIKZ', 'RPOWD', 'NLFQB', 'HWZPM',\n",
       "       'AHCJD', 'FEOAY', 'LQNDQ', 'HPJIM', 'NPWBF', 'WQLGH', 'EHZJZ',\n",
       "       'EFRIR', 'AFHXN', 'WFHYR', 'ESVFX', 'HQYJZ', 'ZWXAX', 'OZGBN',\n",
       "       'FMQMG', 'MRQPD', 'ECRAC', 'AXHXM', 'OVINL', 'VMIXC', 'YFSHX',\n",
       "       'GBYBQ', 'ZCWOH', 'OWYYV', 'ETUQJ', 'ATELV', 'LLJQU', 'WIEAP',\n",
       "       'ZXGTM', 'KPJOE', 'PJZWK', 'LUTMM', 'SMWQJ', 'VYSHG', 'NGIQF',\n",
       "       'QEZTQ', 'YRYQU', 'PKINJ', 'OUQBZ', 'XGIOW', 'CAGTD', 'IZAGF',\n",
       "       'TFVLT', 'ZIAVV', 'AATFJ', 'HMPXL', 'LCSNZ', 'DWAYF', 'ATRIL',\n",
       "       'XGMGK', 'FZFPV', 'ETSQN', 'SUHAB', 'NTBUU', 'UEQCN', 'JKUUT',\n",
       "       'GWBKE', 'KVXIP', 'PTKIU', 'COZYF', 'DQIRW', 'MTONV', 'FTNYE',\n",
       "       'VVYZD', 'SYDFX', 'PJVXD', 'VYNII', 'ZDULQ', 'RZCAB', 'TAYED',\n",
       "       'NMZPA', 'KUECW', 'MUSXH', 'BGNAB', 'TZMER', 'XWJNM', 'RBXOR',\n",
       "       'EREUG', 'SFCSP', 'JIIGM', 'VAUBQ', 'YYCAU', 'JEYEY', 'QEDKA',\n",
       "       'XKEKS', 'YCCLG', 'IOKVP', 'PRQCC', 'KOMYM', 'RPRNQ', 'CHEUM',\n",
       "       'QKECE', 'EBMUS', 'DVCQI', 'SJLVX', 'PMSKX', 'VTOQL', 'HYQBX',\n",
       "       'MZLKZ', 'QAHSC', 'PDLNY', 'THRAQ', 'QDBSL', 'BLFKI', 'PPYNA',\n",
       "       'ZUYHU', 'UPXXL', 'VZZXF', 'BYXPQ', 'VFMWJ', 'VSPGA', 'WOTTV',\n",
       "       'FTOKS', 'KNSYU', 'EQNMH', 'LMJHG', 'IHRSL', 'OHTKT', 'UEKHE',\n",
       "       'YIRFR', 'WWTDO', 'PGWFT', 'LTHWZ', 'CRPGJ', 'MIQGL', 'NKXAB',\n",
       "       'GGTFR', 'OCIQJ', 'WPNKV', 'XWWMB', 'DBKFY', 'ITXRO', 'JRNPL',\n",
       "       'HVCXC', 'ZUCQA', 'VSQKX', 'TDSHA', 'BZDXJ', 'CSMWE', 'YSTQG',\n",
       "       'IJFFS', 'HEEHI', 'PZJEX', 'TIGCE', 'VNFGS', 'ALRVP', 'VEYXI',\n",
       "       'CXWTW', 'IZTXH', 'AEGXS', 'VANEE', 'PRBQK', 'HVFOK', 'VOHUU',\n",
       "       'XIVWG', 'DLPIL', 'RSJGJ', 'RMCFM', 'DSUDQ', 'EWOEN', 'IXRGY',\n",
       "       'ZFXCI', 'OKMQB', 'LMXXM', 'REYWW', 'RSEUB', 'JTOQY', 'SNGOG',\n",
       "       'MCDRM', 'DQVOX', 'UFBGH', 'HDTMN', 'CRGQG', 'GPCGD', 'QETGR',\n",
       "       'SQUTN', 'TMUIV', 'ZPUUT', 'ZALLY', 'ZGWUB', 'GOGQV', 'GAEHO',\n",
       "       'PCTIU', 'JMKXX', 'VWJVC', 'TDPLT', 'TUCHE', 'NHAPJ', 'EQULX',\n",
       "       'VEDQK', 'KVXCL', 'ZGGJQ', 'WNUXX', 'MMBEO', 'CJUVE', 'QGTPL',\n",
       "       'ESESN', 'IXGDF', 'EORNF', 'BJYPS', 'CVLUD', 'DPHQB', 'AWVZS',\n",
       "       'COIXS', 'IWRZM', 'FHUDV', 'SXYQF', 'PUUHA', 'HEWTV', 'YEUEY',\n",
       "       'ZSTFC', 'DIDIT', 'OSYIS', 'NBWCE', 'OBLKI', 'UNMAJ', 'UHGYC',\n",
       "       'SXEHQ', 'GOKAY', 'INSQR', 'EWKWS', 'URMGJ', 'DOUUI', 'HZUIY',\n",
       "       'JCLEO', 'AMUOB', 'UYYJQ', 'TYNOT', 'SXQGF', 'AIDMW', 'IGPPI',\n",
       "       'QMETP', 'IFWAG', 'KIWWD', 'VANJK', 'TXGKN', 'YEUDH', 'LYXPO',\n",
       "       'FVLNN', 'NLSDC', 'RZOED', 'AZQWM', 'UPHMU', 'XDNBV', 'JTFJI',\n",
       "       'QDRVV', 'KAEAC', 'KYKOG', 'HLVSO', 'IRFOM', 'ADADK', 'XGJRD',\n",
       "       'QYJCD', 'RTJXB', 'HDVFO', 'FFOIW', 'FOWSA', 'RMADD', 'JCUYM',\n",
       "       'GIXMH', 'OUTQR', 'LFNUZ', 'ASNTH', 'JLQKP', 'UYXOX', 'WILIY',\n",
       "       'FFHOK', 'UALPT', 'ZWJVH', 'ADOXQ', 'FGMWT', 'KREBP', 'NOZOL',\n",
       "       'AGSGC', 'PEVCX', 'QWVRM', 'TIGCN', 'ARPWX', 'KXAGT', 'JYYZN',\n",
       "       'OWQWJ', 'CBCLM', 'UNMZU', 'WYUYH', 'JPMRA', 'UNUJV', 'PEMVN',\n",
       "       'MWYSX', 'TJPRL', 'JNSUY', 'FLBNO', 'OJCVH', 'KHMAT', 'KEFPC',\n",
       "       'YDFTB', 'HUFAU', 'QVNVN', 'FJMOJ', 'RBFPF', 'DVDPX', 'JXZJJ',\n",
       "       'MBSIK', 'YOCBY', 'UWJHO', 'UJRGM', 'CNBBZ', 'CLAJJ', 'BABTB',\n",
       "       'ETFPU', 'CSEAX', 'REZDC', 'WCTYV', 'DGDPN', 'CDPWO', 'QXFRD',\n",
       "       'ELXNQ', 'ECUQB', 'XRHDX', 'ZMLQK', 'RWSRM', 'JHSWC', 'ETMYL',\n",
       "       'XJLQL', 'AAAEI', 'XVWGU', 'EFDPX', 'PVEII', 'EBFVL', 'XKGUD',\n",
       "       'QZPEU', 'IKGUD', 'TVWHL', 'ZMYDI', 'YMRLB', 'UKHMB', 'YNRIY',\n",
       "       'ZFIBX', 'IXCKU', 'NAYVI', 'HUYWF', 'ILQUD', 'FPGST', 'SCNJW',\n",
       "       'VBIAA', 'ZTFKF', 'MHSRG', 'BURYG', 'ORVOS', 'TKLLD', 'YZANL',\n",
       "       'FPHXV', 'XUZXX', 'UMYTA', 'VGTXP', 'NYMFE', 'VNMOX', 'XUXGI',\n",
       "       'CWFSA', 'JXFDE', 'IFMIQ', 'UNKRX', 'NPODI', 'TKIIX', 'JMTQA',\n",
       "       'PUQQG', 'NIXUY', 'NXBAN', 'RCZIW', 'ZAAPV', 'ZMRLR', 'PQORX',\n",
       "       'XWPSF', 'ZSYAT', 'LGJNC', 'HDFZT', 'OUEPK', 'OWEPZ', 'IPKWQ',\n",
       "       'XZHYB', 'LQIMR', 'UTDJE', 'QEECK', 'GBAPP', 'CSQBE', 'UOSES',\n",
       "       'ICJLE', 'OLBKD', 'DTVDJ', 'VJSLF', 'YAVYP', 'MMUGC', 'NIPNV',\n",
       "       'PMENZ', 'GYNUY', 'GICZE', 'OKLJZ', 'ZOKHF', 'OEWKZ', 'HPEDR',\n",
       "       'STOXK', 'FCVKF', 'ILVWD', 'DMKYK', 'JKYAG', 'VUJUF'], dtype='<U5')"
      ]
     },
     "execution_count": 78,
     "metadata": {},
     "output_type": "execute_result"
    }
   ],
   "source": [
    "N = 1000\n",
    "def rands(n):\n",
    "    choices = string.ascii_uppercase\n",
    "    return ''.join([random.choice(choices) for _ in range(n)])\n",
    "tickers = np.array([rands(5) for _ in range(N)])\n",
    "print(len(tickers))\n",
    "tickers\n",
    "# tạo 1000 tên công ty"
   ]
  },
  {
   "cell_type": "markdown",
   "id": "5593187a",
   "metadata": {},
   "source": [
    "Sau đó, tôi tạo một DataFrame chứa 3 cột đại diện cho danh mục đầu tư giả định, nhưng\n",
    "ngẫu nhiên cho một tập hợp con các mã:\n"
   ]
  },
  {
   "cell_type": "code",
   "execution_count": 79,
   "id": "eee6e354",
   "metadata": {},
   "outputs": [
    {
     "data": {
      "text/html": [
       "<div>\n",
       "<style scoped>\n",
       "    .dataframe tbody tr th:only-of-type {\n",
       "        vertical-align: middle;\n",
       "    }\n",
       "\n",
       "    .dataframe tbody tr th {\n",
       "        vertical-align: top;\n",
       "    }\n",
       "\n",
       "    .dataframe thead th {\n",
       "        text-align: right;\n",
       "    }\n",
       "</style>\n",
       "<table border=\"1\" class=\"dataframe\">\n",
       "  <thead>\n",
       "    <tr style=\"text-align: right;\">\n",
       "      <th></th>\n",
       "      <th>Momentum</th>\n",
       "      <th>Value</th>\n",
       "      <th>ShortInterest</th>\n",
       "    </tr>\n",
       "  </thead>\n",
       "  <tbody>\n",
       "    <tr>\n",
       "      <th>TZIRW</th>\n",
       "      <td>0.036232</td>\n",
       "      <td>0.083840</td>\n",
       "      <td>-0.025925</td>\n",
       "    </tr>\n",
       "    <tr>\n",
       "      <th>ZTEJD</th>\n",
       "      <td>0.026392</td>\n",
       "      <td>0.091308</td>\n",
       "      <td>-0.023693</td>\n",
       "    </tr>\n",
       "    <tr>\n",
       "      <th>XCVKP</th>\n",
       "      <td>0.026649</td>\n",
       "      <td>0.082629</td>\n",
       "      <td>-0.018115</td>\n",
       "    </tr>\n",
       "    <tr>\n",
       "      <th>RDLNK</th>\n",
       "      <td>0.030242</td>\n",
       "      <td>0.078686</td>\n",
       "      <td>-0.014598</td>\n",
       "    </tr>\n",
       "    <tr>\n",
       "      <th>TUGRP</th>\n",
       "      <td>0.028717</td>\n",
       "      <td>0.075105</td>\n",
       "      <td>-0.019000</td>\n",
       "    </tr>\n",
       "    <tr>\n",
       "      <th>...</th>\n",
       "      <td>...</td>\n",
       "      <td>...</td>\n",
       "      <td>...</td>\n",
       "    </tr>\n",
       "    <tr>\n",
       "      <th>GXKFD</th>\n",
       "      <td>0.033158</td>\n",
       "      <td>0.077649</td>\n",
       "      <td>-0.019906</td>\n",
       "    </tr>\n",
       "    <tr>\n",
       "      <th>FZWLA</th>\n",
       "      <td>0.034631</td>\n",
       "      <td>0.083054</td>\n",
       "      <td>-0.018897</td>\n",
       "    </tr>\n",
       "    <tr>\n",
       "      <th>HBAMR</th>\n",
       "      <td>0.028261</td>\n",
       "      <td>0.084514</td>\n",
       "      <td>-0.016528</td>\n",
       "    </tr>\n",
       "    <tr>\n",
       "      <th>AEDTT</th>\n",
       "      <td>0.028074</td>\n",
       "      <td>0.069093</td>\n",
       "      <td>-0.019348</td>\n",
       "    </tr>\n",
       "    <tr>\n",
       "      <th>GCXOG</th>\n",
       "      <td>0.033194</td>\n",
       "      <td>0.074149</td>\n",
       "      <td>-0.018085</td>\n",
       "    </tr>\n",
       "  </tbody>\n",
       "</table>\n",
       "<p>500 rows × 3 columns</p>\n",
       "</div>"
      ],
      "text/plain": [
       "       Momentum     Value  ShortInterest\n",
       "TZIRW  0.036232  0.083840      -0.025925\n",
       "ZTEJD  0.026392  0.091308      -0.023693\n",
       "XCVKP  0.026649  0.082629      -0.018115\n",
       "RDLNK  0.030242  0.078686      -0.014598\n",
       "TUGRP  0.028717  0.075105      -0.019000\n",
       "...         ...       ...            ...\n",
       "GXKFD  0.033158  0.077649      -0.019906\n",
       "FZWLA  0.034631  0.083054      -0.018897\n",
       "HBAMR  0.028261  0.084514      -0.016528\n",
       "AEDTT  0.028074  0.069093      -0.019348\n",
       "GCXOG  0.033194  0.074149      -0.018085\n",
       "\n",
       "[500 rows x 3 columns]"
      ]
     },
     "execution_count": 79,
     "metadata": {},
     "output_type": "execute_result"
    }
   ],
   "source": [
    "M = 500\n",
    "df = pd.DataFrame({'Momentum' : np.random.randn(M) / 200 + 0.03,\n",
    " 'Value' : np.random.randn(M) / 200 + 0.08,\n",
    " 'ShortInterest' : np.random.randn(M) / 200 - 0.02},\n",
    " index=tickers[:M])\n",
    "\n",
    "df"
   ]
  },
  {
   "cell_type": "code",
   "execution_count": null,
   "id": "93463800",
   "metadata": {},
   "outputs": [],
   "source": []
  },
  {
   "cell_type": "markdown",
   "id": "7005c554",
   "metadata": {},
   "source": [
    "Tiếp theo, hãy tạo phân loại ngành ngẫu nhiên cho các mã. Để đơn giản hóa mọi thứ, tôi\n",
    "sẽ chỉ giữ nó cho 2 ngành, lưu trữ ánh xạ trong một Series:"
   ]
  },
  {
   "cell_type": "code",
   "execution_count": 80,
   "id": "3540ef5c",
   "metadata": {},
   "outputs": [
    {
     "data": {
      "text/plain": [
       "array(['FINANCIAL', 'TECH'], dtype='<U9')"
      ]
     },
     "execution_count": 80,
     "metadata": {},
     "output_type": "execute_result"
    }
   ],
   "source": [
    "ind_names = np.array(['FINANCIAL', 'TECH'])\n",
    "ind_names\n"
   ]
  },
  {
   "cell_type": "code",
   "execution_count": 81,
   "id": "550a816c",
   "metadata": {},
   "outputs": [
    {
     "data": {
      "text/plain": [
       "array([0, 0, 0, 1, 1, 1, 1, 0, 0, 1, 0, 1, 0, 0, 0, 0, 1, 1, 0, 1, 0, 1,\n",
       "       1, 1, 0, 0, 0, 1, 1, 0, 1, 1, 0, 1, 1, 0, 0, 1, 1, 1, 0, 1, 0, 0,\n",
       "       0, 1, 1, 0, 0, 1, 1, 1, 1, 1, 0, 0, 0, 0, 0, 1, 0, 0, 0, 1, 1, 1,\n",
       "       0, 0, 1, 1, 1, 0, 1, 0, 1, 1, 0, 0, 0, 0, 1, 1, 0, 1, 1, 1, 0, 1,\n",
       "       1, 1, 1, 0, 0, 0, 1, 1, 1, 1, 0, 1, 1, 0, 1, 0, 1, 1, 0, 0, 0, 1,\n",
       "       1, 1, 0, 1, 0, 0, 1, 1, 1, 1, 1, 0, 1, 0, 1, 0, 1, 0, 0, 0, 1, 1,\n",
       "       1, 0, 1, 0, 1, 0, 1, 0, 0, 1, 0, 0, 0, 1, 1, 1, 1, 1, 0, 1, 0, 0,\n",
       "       0, 0, 0, 0, 1, 1, 0, 1, 1, 0, 0, 0, 0, 1, 1, 1, 0, 0, 1, 0, 0, 1,\n",
       "       1, 0, 0, 0, 1, 1, 0, 1, 0, 1, 0, 1, 0, 0, 1, 1, 0, 1, 1, 1, 1, 0,\n",
       "       1, 0, 1, 1, 1, 1, 0, 0, 0, 0, 0, 0, 1, 0, 0, 0, 1, 0, 0, 0, 0, 1,\n",
       "       0, 1, 1, 0, 1, 0, 1, 0, 1, 0, 0, 0, 0, 0, 1, 1, 0, 0, 0, 1, 0, 1,\n",
       "       0, 0, 1, 0, 1, 0, 0, 0, 1, 1, 0, 0, 0, 0, 0, 1, 1, 0, 0, 1, 1, 1,\n",
       "       0, 0, 0, 0, 1, 0, 0, 0, 0, 0, 1, 0, 0, 0, 1, 0, 1, 0, 0, 1, 1, 0,\n",
       "       1, 0, 0, 0, 0, 1, 1, 1, 1, 0, 1, 1, 1, 0, 1, 0, 1, 0, 1, 1, 1, 0,\n",
       "       1, 1, 1, 0, 1, 0, 0, 1, 1, 0, 1, 0, 0, 1, 1, 0, 0, 0, 0, 1, 0, 1,\n",
       "       0, 0, 0, 1, 1, 1, 1, 1, 0, 1, 1, 1, 1, 0, 0, 0, 0, 1, 0, 1, 1, 0,\n",
       "       0, 1, 0, 1, 1, 0, 1, 0, 0, 1, 1, 1, 0, 1, 1, 1, 0, 0, 0, 1, 0, 1,\n",
       "       1, 0, 0, 0, 0, 0, 1, 0, 1, 0, 0, 0, 1, 0, 0, 1, 1, 1, 1, 1, 1, 0,\n",
       "       0, 1, 1, 1, 1, 1, 1, 1, 0, 1, 1, 1, 1, 1, 0, 0, 1, 1, 0, 1, 0, 1,\n",
       "       0, 0, 1, 1, 1, 1, 1, 1, 1, 1, 1, 1, 1, 0, 0, 1, 1, 0, 0, 0, 0, 1,\n",
       "       1, 1, 0, 1, 1, 0, 0, 1, 1, 1, 1, 0, 1, 0, 0, 0, 1, 1, 1, 1, 1, 0,\n",
       "       1, 0, 1, 1, 1, 1, 0, 1, 0, 1, 0, 0, 0, 1, 0, 0, 1, 1, 1, 0, 1, 0,\n",
       "       1, 0, 1, 1, 0, 0, 1, 0, 0, 1, 1, 1, 0, 1, 0, 0, 1, 1, 0, 1, 1, 0,\n",
       "       0, 0, 1, 0, 1, 1, 0, 0, 0, 1, 1, 0, 0, 1, 0, 1, 1, 0, 1, 0, 0, 0,\n",
       "       0, 0, 1, 1, 0, 1, 0, 0, 1, 1, 1, 0, 1, 1, 0, 0, 1, 0, 0, 0, 1, 1,\n",
       "       1, 1, 1, 1, 1, 0, 0, 0, 1, 0, 0, 0, 1, 0, 0, 1, 1, 1, 0, 1, 1, 0,\n",
       "       0, 0, 0, 0, 1, 1, 1, 1, 0, 0, 1, 1, 1, 0, 0, 0, 0, 0, 1, 1, 0, 0,\n",
       "       0, 0, 1, 1, 0, 1, 1, 0, 1, 1, 0, 1, 1, 1, 0, 0, 0, 1, 0, 0, 1, 1,\n",
       "       1, 0, 0, 0, 0, 0, 0, 0, 0, 1, 0, 0, 0, 0, 0, 0, 1, 1, 1, 0, 0, 0,\n",
       "       1, 0, 0, 0, 1, 0, 0, 1, 1, 0, 0, 1, 0, 1, 1, 1, 0, 1, 0, 0, 1, 1,\n",
       "       0, 1, 1, 1, 0, 0, 1, 0, 0, 0, 1, 1, 1, 1, 1, 0, 0, 0, 1, 0, 1, 0,\n",
       "       0, 1, 1, 0, 1, 0, 0, 0, 1, 0, 0, 1, 1, 0, 0, 0, 1, 1, 0, 1, 0, 0,\n",
       "       0, 0, 1, 0, 1, 1, 1, 1, 0, 0, 0, 0, 1, 1, 1, 1, 1, 1, 0, 0, 0, 1,\n",
       "       1, 0, 0, 1, 1, 1, 0, 0, 0, 0, 1, 0, 0, 0, 1, 0, 1, 1, 1, 0, 1, 1,\n",
       "       0, 0, 1, 0, 0, 1, 1, 0, 0, 1, 1, 0, 0, 1, 0, 0, 1, 1, 1, 0, 1, 0,\n",
       "       0, 0, 0, 0, 0, 1, 0, 1, 0, 0, 0, 0, 0, 1, 1, 0, 1, 1, 1, 0, 0, 1,\n",
       "       1, 1, 0, 0, 1, 1, 1, 1, 1, 0, 0, 1, 0, 1, 0, 0, 1, 1, 1, 1, 0, 0,\n",
       "       1, 0, 1, 0, 0, 1, 1, 1, 0, 0, 1, 1, 0, 1, 0, 0, 0, 1, 1, 1, 0, 0,\n",
       "       1, 0, 1, 1, 0, 0, 1, 0, 0, 1, 1, 0, 1, 1, 0, 1, 0, 1, 0, 1, 0, 0,\n",
       "       0, 1, 1, 1, 1, 1, 1, 1, 1, 0, 1, 1, 0, 0, 0, 0, 0, 0, 0, 0, 0, 1,\n",
       "       1, 0, 1, 1, 1, 0, 0, 1, 0, 0, 0, 0, 1, 0, 1, 0, 1, 1, 0, 1, 1, 1,\n",
       "       0, 0, 1, 1, 0, 1, 0, 0, 1, 0, 0, 1, 1, 0, 0, 0, 1, 1, 0, 1, 1, 1,\n",
       "       0, 1, 0, 1, 1, 1, 0, 0, 0, 1, 0, 0, 0, 0, 1, 1, 0, 1, 0, 0, 0, 0,\n",
       "       0, 1, 1, 0, 0, 0, 1, 0, 0, 1, 0, 0, 1, 1, 1, 1, 1, 1, 1, 0, 0, 1,\n",
       "       0, 0, 0, 1, 0, 0, 1, 1, 1, 0, 0, 1, 1, 0, 1, 1, 1, 0, 0, 0, 0, 1,\n",
       "       1, 0, 0, 1, 0, 1, 1, 0, 1, 1])"
      ]
     },
     "execution_count": 81,
     "metadata": {},
     "output_type": "execute_result"
    }
   ],
   "source": [
    "#tạo bảng giá trị ngẫu nhiên từ 0 đến 1 (len = 2) với 1000 (N) giá trị\n",
    "sampler = np.random.randint(0, len(ind_names), N)\n",
    "sampler"
   ]
  },
  {
   "cell_type": "code",
   "execution_count": 82,
   "id": "be67811f",
   "metadata": {},
   "outputs": [
    {
     "data": {
      "text/plain": [
       "TZIRW    FINANCIAL\n",
       "ZTEJD    FINANCIAL\n",
       "XCVKP    FINANCIAL\n",
       "RDLNK         TECH\n",
       "TUGRP         TECH\n",
       "           ...    \n",
       "FCVKF         TECH\n",
       "ILVWD         TECH\n",
       "DMKYK    FINANCIAL\n",
       "JKYAG         TECH\n",
       "VUJUF         TECH\n",
       "Name: industry, Length: 1000, dtype: object"
      ]
     },
     "execution_count": 82,
     "metadata": {},
     "output_type": "execute_result"
    }
   ],
   "source": [
    "# giá trị là TECH hoặc FINANCIAL, index là các mã cố phiếu\n",
    "industries = pd.Series(ind_names[sampler], index=tickers,\n",
    "name='industry')\n",
    "industries"
   ]
  },
  {
   "cell_type": "code",
   "execution_count": 83,
   "id": "cc0352ca",
   "metadata": {},
   "outputs": [
    {
     "data": {
      "text/html": [
       "<div>\n",
       "<style scoped>\n",
       "    .dataframe tbody tr th:only-of-type {\n",
       "        vertical-align: middle;\n",
       "    }\n",
       "\n",
       "    .dataframe tbody tr th {\n",
       "        vertical-align: top;\n",
       "    }\n",
       "\n",
       "    .dataframe thead th {\n",
       "        text-align: right;\n",
       "    }\n",
       "</style>\n",
       "<table border=\"1\" class=\"dataframe\">\n",
       "  <thead>\n",
       "    <tr style=\"text-align: right;\">\n",
       "      <th></th>\n",
       "      <th>Momentum</th>\n",
       "      <th>Value</th>\n",
       "      <th>ShortInterest</th>\n",
       "    </tr>\n",
       "  </thead>\n",
       "  <tbody>\n",
       "    <tr>\n",
       "      <th>TZIRW</th>\n",
       "      <td>0.036232</td>\n",
       "      <td>0.083840</td>\n",
       "      <td>-0.025925</td>\n",
       "    </tr>\n",
       "    <tr>\n",
       "      <th>ZTEJD</th>\n",
       "      <td>0.026392</td>\n",
       "      <td>0.091308</td>\n",
       "      <td>-0.023693</td>\n",
       "    </tr>\n",
       "    <tr>\n",
       "      <th>XCVKP</th>\n",
       "      <td>0.026649</td>\n",
       "      <td>0.082629</td>\n",
       "      <td>-0.018115</td>\n",
       "    </tr>\n",
       "    <tr>\n",
       "      <th>RDLNK</th>\n",
       "      <td>0.030242</td>\n",
       "      <td>0.078686</td>\n",
       "      <td>-0.014598</td>\n",
       "    </tr>\n",
       "    <tr>\n",
       "      <th>TUGRP</th>\n",
       "      <td>0.028717</td>\n",
       "      <td>0.075105</td>\n",
       "      <td>-0.019000</td>\n",
       "    </tr>\n",
       "    <tr>\n",
       "      <th>...</th>\n",
       "      <td>...</td>\n",
       "      <td>...</td>\n",
       "      <td>...</td>\n",
       "    </tr>\n",
       "    <tr>\n",
       "      <th>GXKFD</th>\n",
       "      <td>0.033158</td>\n",
       "      <td>0.077649</td>\n",
       "      <td>-0.019906</td>\n",
       "    </tr>\n",
       "    <tr>\n",
       "      <th>FZWLA</th>\n",
       "      <td>0.034631</td>\n",
       "      <td>0.083054</td>\n",
       "      <td>-0.018897</td>\n",
       "    </tr>\n",
       "    <tr>\n",
       "      <th>HBAMR</th>\n",
       "      <td>0.028261</td>\n",
       "      <td>0.084514</td>\n",
       "      <td>-0.016528</td>\n",
       "    </tr>\n",
       "    <tr>\n",
       "      <th>AEDTT</th>\n",
       "      <td>0.028074</td>\n",
       "      <td>0.069093</td>\n",
       "      <td>-0.019348</td>\n",
       "    </tr>\n",
       "    <tr>\n",
       "      <th>GCXOG</th>\n",
       "      <td>0.033194</td>\n",
       "      <td>0.074149</td>\n",
       "      <td>-0.018085</td>\n",
       "    </tr>\n",
       "  </tbody>\n",
       "</table>\n",
       "<p>500 rows × 3 columns</p>\n",
       "</div>"
      ],
      "text/plain": [
       "       Momentum     Value  ShortInterest\n",
       "TZIRW  0.036232  0.083840      -0.025925\n",
       "ZTEJD  0.026392  0.091308      -0.023693\n",
       "XCVKP  0.026649  0.082629      -0.018115\n",
       "RDLNK  0.030242  0.078686      -0.014598\n",
       "TUGRP  0.028717  0.075105      -0.019000\n",
       "...         ...       ...            ...\n",
       "GXKFD  0.033158  0.077649      -0.019906\n",
       "FZWLA  0.034631  0.083054      -0.018897\n",
       "HBAMR  0.028261  0.084514      -0.016528\n",
       "AEDTT  0.028074  0.069093      -0.019348\n",
       "GCXOG  0.033194  0.074149      -0.018085\n",
       "\n",
       "[500 rows x 3 columns]"
      ]
     },
     "execution_count": 83,
     "metadata": {},
     "output_type": "execute_result"
    }
   ],
   "source": [
    "df"
   ]
  },
  {
   "cell_type": "markdown",
   "id": "7c274ea3",
   "metadata": {},
   "source": [
    "Giờ đây, chúng tôi có thể nhóm theo ngành và thực hiện tổng hợp và chuyển đổi nhóm:"
   ]
  },
  {
   "cell_type": "code",
   "execution_count": 84,
   "id": "dafb8b53",
   "metadata": {},
   "outputs": [
    {
     "data": {
      "text/plain": [
       "<pandas.core.groupby.generic.DataFrameGroupBy object at 0x00000205BDDAC100>"
      ]
     },
     "execution_count": 84,
     "metadata": {},
     "output_type": "execute_result"
    }
   ],
   "source": [
    "by_industry = df.groupby(industries)\n",
    "by_industry"
   ]
  },
  {
   "cell_type": "code",
   "execution_count": 85,
   "id": "6f43b493",
   "metadata": {},
   "outputs": [
    {
     "data": {
      "text/html": [
       "<div>\n",
       "<style scoped>\n",
       "    .dataframe tbody tr th:only-of-type {\n",
       "        vertical-align: middle;\n",
       "    }\n",
       "\n",
       "    .dataframe tbody tr th {\n",
       "        vertical-align: top;\n",
       "    }\n",
       "\n",
       "    .dataframe thead th {\n",
       "        text-align: right;\n",
       "    }\n",
       "</style>\n",
       "<table border=\"1\" class=\"dataframe\">\n",
       "  <thead>\n",
       "    <tr style=\"text-align: right;\">\n",
       "      <th></th>\n",
       "      <th>Momentum</th>\n",
       "      <th>Value</th>\n",
       "      <th>ShortInterest</th>\n",
       "    </tr>\n",
       "    <tr>\n",
       "      <th>industry</th>\n",
       "      <th></th>\n",
       "      <th></th>\n",
       "      <th></th>\n",
       "    </tr>\n",
       "  </thead>\n",
       "  <tbody>\n",
       "    <tr>\n",
       "      <th>FINANCIAL</th>\n",
       "      <td>0.029732</td>\n",
       "      <td>0.079831</td>\n",
       "      <td>-0.019697</td>\n",
       "    </tr>\n",
       "    <tr>\n",
       "      <th>TECH</th>\n",
       "      <td>0.029928</td>\n",
       "      <td>0.080285</td>\n",
       "      <td>-0.019937</td>\n",
       "    </tr>\n",
       "  </tbody>\n",
       "</table>\n",
       "</div>"
      ],
      "text/plain": [
       "           Momentum     Value  ShortInterest\n",
       "industry                                    \n",
       "FINANCIAL  0.029732  0.079831      -0.019697\n",
       "TECH       0.029928  0.080285      -0.019937"
      ]
     },
     "execution_count": 85,
     "metadata": {},
     "output_type": "execute_result"
    }
   ],
   "source": [
    "by_industry.mean()"
   ]
  },
  {
   "cell_type": "code",
   "execution_count": 86,
   "id": "99166994",
   "metadata": {},
   "outputs": [
    {
     "data": {
      "text/html": [
       "<div>\n",
       "<style scoped>\n",
       "    .dataframe tbody tr th:only-of-type {\n",
       "        vertical-align: middle;\n",
       "    }\n",
       "\n",
       "    .dataframe tbody tr th {\n",
       "        vertical-align: top;\n",
       "    }\n",
       "\n",
       "    .dataframe thead tr th {\n",
       "        text-align: left;\n",
       "    }\n",
       "\n",
       "    .dataframe thead tr:last-of-type th {\n",
       "        text-align: right;\n",
       "    }\n",
       "</style>\n",
       "<table border=\"1\" class=\"dataframe\">\n",
       "  <thead>\n",
       "    <tr>\n",
       "      <th></th>\n",
       "      <th colspan=\"8\" halign=\"left\">Momentum</th>\n",
       "      <th colspan=\"5\" halign=\"left\">Value</th>\n",
       "      <th colspan=\"8\" halign=\"left\">ShortInterest</th>\n",
       "    </tr>\n",
       "    <tr>\n",
       "      <th></th>\n",
       "      <th>count</th>\n",
       "      <th>mean</th>\n",
       "      <th>std</th>\n",
       "      <th>min</th>\n",
       "      <th>25%</th>\n",
       "      <th>50%</th>\n",
       "      <th>75%</th>\n",
       "      <th>max</th>\n",
       "      <th>count</th>\n",
       "      <th>mean</th>\n",
       "      <th>...</th>\n",
       "      <th>75%</th>\n",
       "      <th>max</th>\n",
       "      <th>count</th>\n",
       "      <th>mean</th>\n",
       "      <th>std</th>\n",
       "      <th>min</th>\n",
       "      <th>25%</th>\n",
       "      <th>50%</th>\n",
       "      <th>75%</th>\n",
       "      <th>max</th>\n",
       "    </tr>\n",
       "    <tr>\n",
       "      <th>industry</th>\n",
       "      <th></th>\n",
       "      <th></th>\n",
       "      <th></th>\n",
       "      <th></th>\n",
       "      <th></th>\n",
       "      <th></th>\n",
       "      <th></th>\n",
       "      <th></th>\n",
       "      <th></th>\n",
       "      <th></th>\n",
       "      <th></th>\n",
       "      <th></th>\n",
       "      <th></th>\n",
       "      <th></th>\n",
       "      <th></th>\n",
       "      <th></th>\n",
       "      <th></th>\n",
       "      <th></th>\n",
       "      <th></th>\n",
       "      <th></th>\n",
       "      <th></th>\n",
       "    </tr>\n",
       "  </thead>\n",
       "  <tbody>\n",
       "    <tr>\n",
       "      <th>FINANCIAL</th>\n",
       "      <td>243.0</td>\n",
       "      <td>0.029732</td>\n",
       "      <td>0.005102</td>\n",
       "      <td>0.014293</td>\n",
       "      <td>0.026682</td>\n",
       "      <td>0.029694</td>\n",
       "      <td>0.032808</td>\n",
       "      <td>0.043353</td>\n",
       "      <td>243.0</td>\n",
       "      <td>0.079831</td>\n",
       "      <td>...</td>\n",
       "      <td>0.083253</td>\n",
       "      <td>0.092782</td>\n",
       "      <td>243.0</td>\n",
       "      <td>-0.019697</td>\n",
       "      <td>0.004899</td>\n",
       "      <td>-0.031928</td>\n",
       "      <td>-0.023105</td>\n",
       "      <td>-0.019841</td>\n",
       "      <td>-0.015951</td>\n",
       "      <td>-0.004737</td>\n",
       "    </tr>\n",
       "    <tr>\n",
       "      <th>TECH</th>\n",
       "      <td>257.0</td>\n",
       "      <td>0.029928</td>\n",
       "      <td>0.004905</td>\n",
       "      <td>0.017387</td>\n",
       "      <td>0.026320</td>\n",
       "      <td>0.029661</td>\n",
       "      <td>0.033343</td>\n",
       "      <td>0.046891</td>\n",
       "      <td>257.0</td>\n",
       "      <td>0.080285</td>\n",
       "      <td>...</td>\n",
       "      <td>0.083764</td>\n",
       "      <td>0.092041</td>\n",
       "      <td>257.0</td>\n",
       "      <td>-0.019937</td>\n",
       "      <td>0.004959</td>\n",
       "      <td>-0.033352</td>\n",
       "      <td>-0.023688</td>\n",
       "      <td>-0.020002</td>\n",
       "      <td>-0.016652</td>\n",
       "      <td>-0.005802</td>\n",
       "    </tr>\n",
       "  </tbody>\n",
       "</table>\n",
       "<p>2 rows × 24 columns</p>\n",
       "</div>"
      ],
      "text/plain": [
       "          Momentum                                                    \\\n",
       "             count      mean       std       min       25%       50%   \n",
       "industry                                                               \n",
       "FINANCIAL    243.0  0.029732  0.005102  0.014293  0.026682  0.029694   \n",
       "TECH         257.0  0.029928  0.004905  0.017387  0.026320  0.029661   \n",
       "\n",
       "                               Value            ...                      \\\n",
       "                75%       max  count      mean  ...       75%       max   \n",
       "industry                                        ...                       \n",
       "FINANCIAL  0.032808  0.043353  243.0  0.079831  ...  0.083253  0.092782   \n",
       "TECH       0.033343  0.046891  257.0  0.080285  ...  0.083764  0.092041   \n",
       "\n",
       "          ShortInterest                                                    \\\n",
       "                  count      mean       std       min       25%       50%   \n",
       "industry                                                                    \n",
       "FINANCIAL         243.0 -0.019697  0.004899 -0.031928 -0.023105 -0.019841   \n",
       "TECH              257.0 -0.019937  0.004959 -0.033352 -0.023688 -0.020002   \n",
       "\n",
       "                               \n",
       "                75%       max  \n",
       "industry                       \n",
       "FINANCIAL -0.015951 -0.004737  \n",
       "TECH      -0.016652 -0.005802  \n",
       "\n",
       "[2 rows x 24 columns]"
      ]
     },
     "execution_count": 86,
     "metadata": {},
     "output_type": "execute_result"
    }
   ],
   "source": [
    "by_industry.describe() #thống kê các chỉ số cơ bản"
   ]
  },
  {
   "cell_type": "markdown",
   "id": "0eaf6741",
   "metadata": {},
   "source": [
    "Bằng cách xác định các chức năng chuyển đổi, có thể dễ dàng chuyển đổi các danh mục\n",
    "đầu tư này theo ngành. Ví dụ, tiêu chuẩn hóa trong ngành được sử dụng rộng rãi trong\n",
    "việc xây dựng danh mục đầu tư vốn chủ sở hữu:\n"
   ]
  },
  {
   "cell_type": "code",
   "execution_count": 87,
   "id": "fd7176e8",
   "metadata": {},
   "outputs": [
    {
     "data": {
      "text/html": [
       "<div>\n",
       "<style scoped>\n",
       "    .dataframe tbody tr th:only-of-type {\n",
       "        vertical-align: middle;\n",
       "    }\n",
       "\n",
       "    .dataframe tbody tr th {\n",
       "        vertical-align: top;\n",
       "    }\n",
       "\n",
       "    .dataframe thead th {\n",
       "        text-align: right;\n",
       "    }\n",
       "</style>\n",
       "<table border=\"1\" class=\"dataframe\">\n",
       "  <thead>\n",
       "    <tr style=\"text-align: right;\">\n",
       "      <th></th>\n",
       "      <th>Momentum</th>\n",
       "      <th>Value</th>\n",
       "      <th>ShortInterest</th>\n",
       "    </tr>\n",
       "  </thead>\n",
       "  <tbody>\n",
       "    <tr>\n",
       "      <th>TZIRW</th>\n",
       "      <td>1.274167</td>\n",
       "      <td>0.805787</td>\n",
       "      <td>-1.271204</td>\n",
       "    </tr>\n",
       "    <tr>\n",
       "      <th>ZTEJD</th>\n",
       "      <td>-0.654766</td>\n",
       "      <td>2.307015</td>\n",
       "      <td>-0.815689</td>\n",
       "    </tr>\n",
       "    <tr>\n",
       "      <th>XCVKP</th>\n",
       "      <td>-0.604201</td>\n",
       "      <td>0.562348</td>\n",
       "      <td>0.322826</td>\n",
       "    </tr>\n",
       "    <tr>\n",
       "      <th>RDLNK</th>\n",
       "      <td>0.063994</td>\n",
       "      <td>-0.314204</td>\n",
       "      <td>1.076739</td>\n",
       "    </tr>\n",
       "    <tr>\n",
       "      <th>TUGRP</th>\n",
       "      <td>-0.247038</td>\n",
       "      <td>-1.018207</td>\n",
       "      <td>0.189065</td>\n",
       "    </tr>\n",
       "    <tr>\n",
       "      <th>...</th>\n",
       "      <td>...</td>\n",
       "      <td>...</td>\n",
       "      <td>...</td>\n",
       "    </tr>\n",
       "    <tr>\n",
       "      <th>GXKFD</th>\n",
       "      <td>0.658457</td>\n",
       "      <td>-0.518060</td>\n",
       "      <td>0.006212</td>\n",
       "    </tr>\n",
       "    <tr>\n",
       "      <th>FZWLA</th>\n",
       "      <td>0.960282</td>\n",
       "      <td>0.647844</td>\n",
       "      <td>0.163306</td>\n",
       "    </tr>\n",
       "    <tr>\n",
       "      <th>HBAMR</th>\n",
       "      <td>-0.339943</td>\n",
       "      <td>0.831233</td>\n",
       "      <td>0.687480</td>\n",
       "    </tr>\n",
       "    <tr>\n",
       "      <th>AEDTT</th>\n",
       "      <td>-0.324915</td>\n",
       "      <td>-2.158651</td>\n",
       "      <td>0.071258</td>\n",
       "    </tr>\n",
       "    <tr>\n",
       "      <th>GCXOG</th>\n",
       "      <td>0.678609</td>\n",
       "      <td>-1.142250</td>\n",
       "      <td>0.329067</td>\n",
       "    </tr>\n",
       "  </tbody>\n",
       "</table>\n",
       "<p>500 rows × 3 columns</p>\n",
       "</div>"
      ],
      "text/plain": [
       "       Momentum     Value  ShortInterest\n",
       "TZIRW  1.274167  0.805787      -1.271204\n",
       "ZTEJD -0.654766  2.307015      -0.815689\n",
       "XCVKP -0.604201  0.562348       0.322826\n",
       "RDLNK  0.063994 -0.314204       1.076739\n",
       "TUGRP -0.247038 -1.018207       0.189065\n",
       "...         ...       ...            ...\n",
       "GXKFD  0.658457 -0.518060       0.006212\n",
       "FZWLA  0.960282  0.647844       0.163306\n",
       "HBAMR -0.339943  0.831233       0.687480\n",
       "AEDTT -0.324915 -2.158651       0.071258\n",
       "GCXOG  0.678609 -1.142250       0.329067\n",
       "\n",
       "[500 rows x 3 columns]"
      ]
     },
     "execution_count": 87,
     "metadata": {},
     "output_type": "execute_result"
    }
   ],
   "source": [
    "#std độ lệch chuẩn\n",
    "def zscore(group):\n",
    "     return (group - group.mean()) / group.std()\n",
    "df_stand = by_industry.apply(zscore) # áp dụng vào hàm cho từng cột\n",
    "df_stand"
   ]
  },
  {
   "cell_type": "markdown",
   "id": "3f0cfdfd",
   "metadata": {},
   "source": [
    "Bạn có thể xác minh rằng mỗi ngành có trung bình 0 và độ lệch chuẩn 1:"
   ]
  },
  {
   "cell_type": "code",
   "execution_count": 88,
   "id": "7460ce18",
   "metadata": {},
   "outputs": [
    {
     "data": {
      "text/plain": [
       "<pandas.core.groupby.generic.DataFrameGroupBy object at 0x00000205BE325B80>"
      ]
     },
     "execution_count": 88,
     "metadata": {},
     "output_type": "execute_result"
    }
   ],
   "source": [
    "df_stand.groupby(industries)"
   ]
  },
  {
   "cell_type": "code",
   "execution_count": 89,
   "id": "ff70e772",
   "metadata": {},
   "outputs": [
    {
     "data": {
      "text/html": [
       "<div>\n",
       "<style scoped>\n",
       "    .dataframe tbody tr th:only-of-type {\n",
       "        vertical-align: middle;\n",
       "    }\n",
       "\n",
       "    .dataframe tbody tr th {\n",
       "        vertical-align: top;\n",
       "    }\n",
       "\n",
       "    .dataframe thead tr th {\n",
       "        text-align: left;\n",
       "    }\n",
       "\n",
       "    .dataframe thead tr:last-of-type th {\n",
       "        text-align: right;\n",
       "    }\n",
       "</style>\n",
       "<table border=\"1\" class=\"dataframe\">\n",
       "  <thead>\n",
       "    <tr>\n",
       "      <th></th>\n",
       "      <th colspan=\"2\" halign=\"left\">Momentum</th>\n",
       "      <th colspan=\"2\" halign=\"left\">Value</th>\n",
       "      <th colspan=\"2\" halign=\"left\">ShortInterest</th>\n",
       "    </tr>\n",
       "    <tr>\n",
       "      <th></th>\n",
       "      <th>mean</th>\n",
       "      <th>std</th>\n",
       "      <th>mean</th>\n",
       "      <th>std</th>\n",
       "      <th>mean</th>\n",
       "      <th>std</th>\n",
       "    </tr>\n",
       "    <tr>\n",
       "      <th>industry</th>\n",
       "      <th></th>\n",
       "      <th></th>\n",
       "      <th></th>\n",
       "      <th></th>\n",
       "      <th></th>\n",
       "      <th></th>\n",
       "    </tr>\n",
       "  </thead>\n",
       "  <tbody>\n",
       "    <tr>\n",
       "      <th>FINANCIAL</th>\n",
       "      <td>-2.935009e-15</td>\n",
       "      <td>1.0</td>\n",
       "      <td>1.242171e-14</td>\n",
       "      <td>1.0</td>\n",
       "      <td>4.806398e-16</td>\n",
       "      <td>1.0</td>\n",
       "    </tr>\n",
       "    <tr>\n",
       "      <th>TECH</th>\n",
       "      <td>8.814825e-16</td>\n",
       "      <td>1.0</td>\n",
       "      <td>5.925221e-15</td>\n",
       "      <td>1.0</td>\n",
       "      <td>2.596280e-15</td>\n",
       "      <td>1.0</td>\n",
       "    </tr>\n",
       "  </tbody>\n",
       "</table>\n",
       "</div>"
      ],
      "text/plain": [
       "               Momentum              Value      ShortInterest     \n",
       "                   mean  std          mean  std          mean  std\n",
       "industry                                                          \n",
       "FINANCIAL -2.935009e-15  1.0  1.242171e-14  1.0  4.806398e-16  1.0\n",
       "TECH       8.814825e-16  1.0  5.925221e-15  1.0  2.596280e-15  1.0"
      ]
     },
     "execution_count": 89,
     "metadata": {},
     "output_type": "execute_result"
    }
   ],
   "source": [
    "#tổng hợp theo từng nhóm ngành\n",
    "#tính giá trị trung bình và độ lệch chuẩn theo từng cột\n",
    "df_stand.groupby(industries).agg(['mean', 'std'])\n"
   ]
  },
  {
   "cell_type": "code",
   "execution_count": null,
   "id": "0ae37925",
   "metadata": {},
   "outputs": [],
   "source": []
  },
  {
   "cell_type": "markdown",
   "id": "1ee762ba",
   "metadata": {},
   "source": [
    "Các loại biến đổi tích hợp khác, chẳng hạn như xếp hạng, có thể được sử dụng ngắn gọn\n",
    "hơn:\n"
   ]
  },
  {
   "cell_type": "code",
   "execution_count": 90,
   "id": "434e4b31",
   "metadata": {},
   "outputs": [
    {
     "data": {
      "text/html": [
       "<div>\n",
       "<style scoped>\n",
       "    .dataframe tbody tr th:only-of-type {\n",
       "        vertical-align: middle;\n",
       "    }\n",
       "\n",
       "    .dataframe tbody tr th {\n",
       "        vertical-align: top;\n",
       "    }\n",
       "\n",
       "    .dataframe thead th {\n",
       "        text-align: right;\n",
       "    }\n",
       "</style>\n",
       "<table border=\"1\" class=\"dataframe\">\n",
       "  <thead>\n",
       "    <tr style=\"text-align: right;\">\n",
       "      <th></th>\n",
       "      <th>Momentum</th>\n",
       "      <th>Value</th>\n",
       "      <th>ShortInterest</th>\n",
       "    </tr>\n",
       "  </thead>\n",
       "  <tbody>\n",
       "    <tr>\n",
       "      <th>TZIRW</th>\n",
       "      <td>220.0</td>\n",
       "      <td>188.0</td>\n",
       "      <td>21.0</td>\n",
       "    </tr>\n",
       "    <tr>\n",
       "      <th>ZTEJD</th>\n",
       "      <td>55.0</td>\n",
       "      <td>241.0</td>\n",
       "      <td>53.0</td>\n",
       "    </tr>\n",
       "    <tr>\n",
       "      <th>XCVKP</th>\n",
       "      <td>60.0</td>\n",
       "      <td>168.0</td>\n",
       "      <td>149.0</td>\n",
       "    </tr>\n",
       "    <tr>\n",
       "      <th>RDLNK</th>\n",
       "      <td>137.0</td>\n",
       "      <td>94.0</td>\n",
       "      <td>221.0</td>\n",
       "    </tr>\n",
       "    <tr>\n",
       "      <th>TUGRP</th>\n",
       "      <td>110.0</td>\n",
       "      <td>36.0</td>\n",
       "      <td>147.0</td>\n",
       "    </tr>\n",
       "    <tr>\n",
       "      <th>...</th>\n",
       "      <td>...</td>\n",
       "      <td>...</td>\n",
       "      <td>...</td>\n",
       "    </tr>\n",
       "    <tr>\n",
       "      <th>GXKFD</th>\n",
       "      <td>190.0</td>\n",
       "      <td>70.0</td>\n",
       "      <td>133.0</td>\n",
       "    </tr>\n",
       "    <tr>\n",
       "      <th>FZWLA</th>\n",
       "      <td>202.0</td>\n",
       "      <td>176.0</td>\n",
       "      <td>137.0</td>\n",
       "    </tr>\n",
       "    <tr>\n",
       "      <th>HBAMR</th>\n",
       "      <td>102.0</td>\n",
       "      <td>201.0</td>\n",
       "      <td>195.0</td>\n",
       "    </tr>\n",
       "    <tr>\n",
       "      <th>AEDTT</th>\n",
       "      <td>89.0</td>\n",
       "      <td>6.0</td>\n",
       "      <td>129.0</td>\n",
       "    </tr>\n",
       "    <tr>\n",
       "      <th>GCXOG</th>\n",
       "      <td>184.0</td>\n",
       "      <td>30.0</td>\n",
       "      <td>150.0</td>\n",
       "    </tr>\n",
       "  </tbody>\n",
       "</table>\n",
       "<p>500 rows × 3 columns</p>\n",
       "</div>"
      ],
      "text/plain": [
       "       Momentum  Value  ShortInterest\n",
       "TZIRW     220.0  188.0           21.0\n",
       "ZTEJD      55.0  241.0           53.0\n",
       "XCVKP      60.0  168.0          149.0\n",
       "RDLNK     137.0   94.0          221.0\n",
       "TUGRP     110.0   36.0          147.0\n",
       "...         ...    ...            ...\n",
       "GXKFD     190.0   70.0          133.0\n",
       "FZWLA     202.0  176.0          137.0\n",
       "HBAMR     102.0  201.0          195.0\n",
       "AEDTT      89.0    6.0          129.0\n",
       "GCXOG     184.0   30.0          150.0\n",
       "\n",
       "[500 rows x 3 columns]"
      ]
     },
     "execution_count": 90,
     "metadata": {},
     "output_type": "execute_result"
    }
   ],
   "source": [
    "ind_rank = by_industry.rank(ascending=True) # xếp hạng các giá trị\n",
    "ind_rank "
   ]
  },
  {
   "cell_type": "code",
   "execution_count": 91,
   "id": "832175ad",
   "metadata": {},
   "outputs": [
    {
     "data": {
      "text/plain": [
       "a    0\n",
       "b    1\n",
       "c    2\n",
       "d    3\n",
       "e    4\n",
       "dtype: int64"
      ]
     },
     "execution_count": 91,
     "metadata": {},
     "output_type": "execute_result"
    },
    {
     "data": {
      "text/plain": [
       "a    0\n",
       "b    1\n",
       "c    2\n",
       "d    1\n",
       "e    4\n",
       "dtype: int64"
      ]
     },
     "execution_count": 91,
     "metadata": {},
     "output_type": "execute_result"
    },
    {
     "data": {
      "text/plain": [
       "a    1.0\n",
       "b    2.5\n",
       "c    4.0\n",
       "d    2.5\n",
       "e    5.0\n",
       "dtype: float64"
      ]
     },
     "execution_count": 91,
     "metadata": {},
     "output_type": "execute_result"
    }
   ],
   "source": [
    "s = pd.Series(range(5), index=list(\"abcde\"))\n",
    "s\n",
    "s[\"d\"] = s[\"b\"]\n",
    "s\n",
    "s.rank()\n"
   ]
  },
  {
   "cell_type": "code",
   "execution_count": 92,
   "id": "352ade9f",
   "metadata": {},
   "outputs": [
    {
     "data": {
      "text/html": [
       "<div>\n",
       "<style scoped>\n",
       "    .dataframe tbody tr th:only-of-type {\n",
       "        vertical-align: middle;\n",
       "    }\n",
       "\n",
       "    .dataframe tbody tr th {\n",
       "        vertical-align: top;\n",
       "    }\n",
       "\n",
       "    .dataframe thead tr th {\n",
       "        text-align: left;\n",
       "    }\n",
       "\n",
       "    .dataframe thead tr:last-of-type th {\n",
       "        text-align: right;\n",
       "    }\n",
       "</style>\n",
       "<table border=\"1\" class=\"dataframe\">\n",
       "  <thead>\n",
       "    <tr>\n",
       "      <th></th>\n",
       "      <th colspan=\"2\" halign=\"left\">Momentum</th>\n",
       "      <th colspan=\"2\" halign=\"left\">Value</th>\n",
       "      <th colspan=\"2\" halign=\"left\">ShortInterest</th>\n",
       "    </tr>\n",
       "    <tr>\n",
       "      <th></th>\n",
       "      <th>min</th>\n",
       "      <th>max</th>\n",
       "      <th>min</th>\n",
       "      <th>max</th>\n",
       "      <th>min</th>\n",
       "      <th>max</th>\n",
       "    </tr>\n",
       "    <tr>\n",
       "      <th>industry</th>\n",
       "      <th></th>\n",
       "      <th></th>\n",
       "      <th></th>\n",
       "      <th></th>\n",
       "      <th></th>\n",
       "      <th></th>\n",
       "    </tr>\n",
       "  </thead>\n",
       "  <tbody>\n",
       "    <tr>\n",
       "      <th>FINANCIAL</th>\n",
       "      <td>1.0</td>\n",
       "      <td>243.0</td>\n",
       "      <td>1.0</td>\n",
       "      <td>243.0</td>\n",
       "      <td>1.0</td>\n",
       "      <td>243.0</td>\n",
       "    </tr>\n",
       "    <tr>\n",
       "      <th>TECH</th>\n",
       "      <td>1.0</td>\n",
       "      <td>257.0</td>\n",
       "      <td>1.0</td>\n",
       "      <td>257.0</td>\n",
       "      <td>1.0</td>\n",
       "      <td>257.0</td>\n",
       "    </tr>\n",
       "  </tbody>\n",
       "</table>\n",
       "</div>"
      ],
      "text/plain": [
       "          Momentum        Value        ShortInterest       \n",
       "               min    max   min    max           min    max\n",
       "industry                                                   \n",
       "FINANCIAL      1.0  243.0   1.0  243.0           1.0  243.0\n",
       "TECH           1.0  257.0   1.0  257.0           1.0  257.0"
      ]
     },
     "execution_count": 92,
     "metadata": {},
     "output_type": "execute_result"
    }
   ],
   "source": [
    "ind_rank.groupby(industries).agg(['min', 'max'])\n"
   ]
  },
  {
   "cell_type": "markdown",
   "id": "bc311c22",
   "metadata": {},
   "source": [
    "Trong công bằng định lượng, “xếp hạng và tiêu chuẩn hóa” là một chuỗi biến đổi phổ\n",
    "biến. Bạn có thể làm điều này bằng cách xâu chuỗi rank và zs_core lại với nhau như sau:"
   ]
  },
  {
   "cell_type": "code",
   "execution_count": null,
   "id": "ca1d5552",
   "metadata": {},
   "outputs": [],
   "source": []
  },
  {
   "cell_type": "markdown",
   "id": "489f5403-4c09-43f0-beca-b2d619ea3b00",
   "metadata": {},
   "source": [
    "# 2.1 Group Factor Exposures"
   ]
  },
  {
   "cell_type": "markdown",
   "id": "310a4ef8",
   "metadata": {},
   "source": [
    "Phân tích nhân tố là một kỹ thuật trong quản lý danh mục đầu tư định lượng. Danh mục\n",
    "đầu tư nắm giữ và hiệu suất (lợi nhuận và ít hơn) được phân tách bằng cách sử dụng một\n",
    "hoặc nhiều yếu tố (ví dụ về mặt rủi ro) được biểu thị dưới dạng danh mục trọng số. Ví\n",
    "dụ: giá cổ phiếu đồng chuyển động với một điểm chuẩn (như chỉ số S&P 500) được gọi\n",
    "là phiên bản thử nghiệm của nó, một yếu tố rủi ro phổ biến. Chúng ta hãy xem xét một\n",
    "ví dụ giả định về một danh mục đầu tư được xây dựng từ 3 yếu tố được tạo sẵn (thường\n",
    "được gọi là hệ số tải) và một số trọng số.\n"
   ]
  },
  {
   "cell_type": "code",
   "execution_count": 93,
   "id": "7f31c021-8722-4b2b-a28f-f545b93c6536",
   "metadata": {},
   "outputs": [
    {
     "data": {
      "text/plain": [
       "array([0.8642, 0.7062, 0.7965, 0.4583, 0.0714, 0.6498, 0.678 , 0.9344,\n",
       "       0.2462, 0.6319, 0.7969, 0.7666, 0.1247, 0.8029, 0.5287, 0.9088,\n",
       "       0.0804, 0.7379, 0.3277, 0.7971, 0.0303, 0.7775, 0.3768, 0.0828,\n",
       "       0.0094, 0.5375, 0.4707, 0.1496, 0.5611, 0.9497, 0.1626, 0.6439,\n",
       "       0.1912, 0.1911, 0.2241, 0.7682, 0.0009, 0.4723, 0.6472, 0.1724,\n",
       "       0.0733, 0.2078, 0.1056, 0.6701, 0.3139, 0.1109, 0.8422, 0.8761,\n",
       "       0.022 , 0.2526, 0.9151, 0.4483, 0.6449, 0.9886, 0.8519, 0.0635,\n",
       "       0.2158, 0.6116, 0.7649, 0.7384, 0.3215, 0.2889, 0.2602, 0.3253,\n",
       "       0.9201, 0.2965, 0.135 , 0.9962, 0.7356, 0.4214, 0.4407, 0.376 ,\n",
       "       0.5318, 0.3563, 0.4345, 0.6736, 0.5537, 0.7841, 0.1184, 0.1801,\n",
       "       0.6971, 0.4576, 0.5621, 0.8242, 0.2128, 0.8168, 0.186 , 0.395 ,\n",
       "       0.2137, 0.2632, 0.9895, 0.4225, 0.5819, 0.0719, 0.9705, 0.7493,\n",
       "       0.5652, 0.8346, 0.9696, 0.7225, 0.6375, 0.0628, 0.8462, 0.8157,\n",
       "       0.7349, 0.4435, 0.6311, 0.7824, 0.1696, 0.0976, 0.9822, 0.2428,\n",
       "       0.7786, 0.4618, 0.2323, 0.7887, 0.0781, 0.5265, 0.8554, 0.8259,\n",
       "       0.201 , 0.6705, 0.2611, 0.1773, 0.9656, 0.3884, 0.8837, 0.6923,\n",
       "       0.198 , 0.2002, 0.9586, 0.3237, 0.0087, 0.6934, 0.9366, 0.0772,\n",
       "       0.4016, 0.1138, 0.5952, 0.7643, 0.2435, 0.251 , 0.0894, 0.2474,\n",
       "       0.2311, 0.3481, 0.3887, 0.3108, 0.7243, 0.9069, 0.9919, 0.4663,\n",
       "       0.3777, 0.7124, 0.6602, 0.2528, 0.0361, 0.6351, 0.1517, 0.6921,\n",
       "       0.6865, 0.3012, 0.6987, 0.3193, 0.4272, 0.1416, 0.5508, 0.1601,\n",
       "       0.7434, 0.6741, 0.6137, 0.153 , 0.5215, 0.7183, 0.8131, 0.4354,\n",
       "       0.1229, 0.3046, 0.9284, 0.6703, 0.57  , 0.592 , 0.9602, 0.7023,\n",
       "       0.7784, 0.245 , 0.6076, 0.4862, 0.6002, 0.0729, 0.8915, 0.7727,\n",
       "       0.1254, 0.6319, 0.4   , 0.1932, 0.9345, 0.9199, 0.9467, 0.5716,\n",
       "       0.6523, 0.5343, 0.1481, 0.4788, 0.087 , 0.804 , 0.2168, 0.0183,\n",
       "       0.2783, 0.6521, 0.0126, 0.1731, 0.1092, 0.9245, 0.8451, 0.2765,\n",
       "       0.8238, 0.0415, 0.5158, 0.637 , 0.271 , 0.7851, 0.8521, 0.9815,\n",
       "       0.0943, 0.6484, 0.5569, 0.1655, 0.7288, 0.3233, 0.6707, 0.2046,\n",
       "       0.1372, 0.5305, 0.9561, 0.6923, 0.4142, 0.8413, 0.2127, 0.0527,\n",
       "       0.3484, 0.0155, 0.8056, 0.0985, 0.0391, 0.4119, 0.9178, 0.2508,\n",
       "       0.3426, 0.1035, 0.9755, 0.7781, 0.5832, 0.4212, 0.8938, 0.8724,\n",
       "       0.9579, 0.9374, 0.1691, 0.8057, 0.6758, 0.6556, 0.8674, 0.5085,\n",
       "       0.2412, 0.8368, 0.3648, 0.06  , 0.3279, 0.2008, 0.3083, 0.7747,\n",
       "       0.4719, 0.3397, 0.8551, 0.3172, 0.9747, 0.3641, 0.0412, 0.1741,\n",
       "       0.0683, 0.1764, 0.0946, 0.9702, 0.1592, 0.2949, 0.0962, 0.5887,\n",
       "       0.6547, 0.0075, 0.8776, 0.1657, 0.9866, 0.7886, 0.752 , 0.5316,\n",
       "       0.8031, 0.5506, 0.6257, 0.4161, 0.0519, 0.5751, 0.0856, 0.7813,\n",
       "       0.2457, 0.7017, 0.2501, 0.5378, 0.5961, 0.947 , 0.6119, 0.6486,\n",
       "       0.1904, 0.1965, 0.0858, 0.9317, 0.3445, 0.8761, 0.6823, 0.8736,\n",
       "       0.9386, 0.8449, 0.9537, 0.2355, 0.4971, 0.569 , 0.2073, 0.895 ,\n",
       "       0.9593, 0.0309, 0.7944, 0.4648, 0.2464, 0.8038, 0.9886, 0.2571,\n",
       "       0.71  , 0.5933, 0.2456, 0.3583, 0.147 , 0.7363, 0.014 , 0.6801,\n",
       "       0.0773, 0.7566, 0.1006, 0.4746, 0.4343, 0.95  , 0.3166, 0.6784,\n",
       "       0.6977, 0.331 , 0.6928, 0.5997, 0.4028, 0.0366, 0.9314, 0.4469,\n",
       "       0.5135, 0.3539, 0.5362, 0.238 , 0.3405, 0.7019, 0.0268, 0.9476,\n",
       "       0.126 , 0.3273, 0.1664, 0.1983, 0.8701, 0.6582, 0.6335, 0.3779,\n",
       "       0.0806, 0.8269, 0.2711, 0.3772, 0.0135, 0.8457, 0.0971, 0.3653,\n",
       "       0.5431, 0.5908, 0.3043, 0.8527, 0.8009, 0.896 , 0.431 , 0.7685,\n",
       "       0.7176, 0.8393, 0.6879, 0.1885, 0.1522, 0.2756, 0.5254, 0.8571,\n",
       "       0.9948, 0.7846, 0.5496, 0.137 , 0.108 , 0.0282, 0.1844, 0.5133,\n",
       "       0.7559, 0.781 , 0.579 , 0.1681, 0.4465, 0.191 , 0.0366, 0.6562,\n",
       "       0.2949, 0.7464, 0.8559, 0.519 , 0.725 , 0.4749, 0.2947, 0.9571,\n",
       "       0.7062, 0.2   , 0.3283, 0.8814, 0.7691, 0.0877, 0.9136, 0.2939,\n",
       "       0.3667, 0.2195, 0.8901, 0.7485, 0.0241, 0.8558, 0.8484, 0.1957,\n",
       "       0.3554, 0.2384, 0.9178, 0.7018, 0.0596, 0.8894, 0.4627, 0.4769,\n",
       "       0.5935, 0.7727, 0.8559, 0.8547, 0.1502, 0.2357, 0.9333, 0.6695,\n",
       "       0.7647, 0.8784, 0.1857, 0.5941, 0.9249, 0.456 , 0.5947, 0.2827,\n",
       "       0.5411, 0.4931, 0.615 , 0.4238, 0.5948, 0.5083, 0.8287, 0.8612,\n",
       "       0.7251, 0.9547, 0.7338, 0.4886, 0.0783, 0.3684, 0.7679, 0.5257,\n",
       "       0.6693, 0.6589, 0.1755, 0.7341, 0.0676, 0.823 , 0.3053, 0.598 ,\n",
       "       0.7476, 0.8911, 0.8818, 0.7329, 0.119 , 0.5535, 0.3871, 0.2334,\n",
       "       0.394 , 0.6713, 0.0552, 0.657 , 0.5429, 0.0213, 0.9153, 0.459 ,\n",
       "       0.0287, 0.4978, 0.7719, 0.8278, 0.9402, 0.9014, 0.7335, 0.9221,\n",
       "       0.7215, 0.6935, 0.0718, 0.8725, 0.986 , 0.3302, 0.6391, 0.2439,\n",
       "       0.7715, 0.7941, 0.6967, 0.7255, 0.5806, 0.9885, 0.555 , 0.1894,\n",
       "       0.9202, 0.3982, 0.8843, 0.2112, 0.8981, 0.4793, 0.4979, 0.4325,\n",
       "       0.548 , 0.1588, 0.9378, 0.3523, 0.6303, 0.3767, 0.7927, 0.1576,\n",
       "       0.7837, 0.3302, 0.6234, 0.168 , 0.7819, 0.7645, 0.7773, 0.0636,\n",
       "       0.4659, 0.9232, 0.6679, 0.9176, 0.9514, 0.9871, 0.102 , 0.8974,\n",
       "       0.2   , 0.1598, 0.8375, 0.4534, 0.4268, 0.2046, 0.9516, 0.4912,\n",
       "       0.5885, 0.7731, 0.3493, 0.1878, 0.4624, 0.6979, 0.4572, 0.3031,\n",
       "       0.7619, 0.8043, 0.3939, 0.5401, 0.9599, 0.4841, 0.9526, 0.089 ,\n",
       "       0.7065, 0.2324, 0.3852, 0.8764, 0.8786, 0.1233, 0.1021, 0.0723,\n",
       "       0.1185, 0.0959, 0.3838, 0.7442, 0.3786, 0.0862, 0.5683, 0.7216,\n",
       "       0.2154, 0.3318, 0.6644, 0.5784, 0.3127, 0.144 , 0.5963, 0.6202,\n",
       "       0.1208, 0.7861, 0.4968, 0.8473, 0.4708, 0.5711, 0.5644, 0.9173,\n",
       "       0.4574, 0.6349, 0.7619, 0.2763, 0.3893, 0.8438, 0.4379, 0.5117,\n",
       "       0.1006, 0.9247, 0.2246, 0.9806, 0.8345, 0.015 , 0.7211, 0.6214,\n",
       "       0.0758, 0.2479, 0.6252, 0.1717, 0.2933, 0.0086, 0.0624, 0.5655,\n",
       "       0.4453, 0.0351, 0.3759, 0.2052, 0.7703, 0.9565, 0.0121, 0.3341,\n",
       "       0.8519, 0.646 , 0.2208, 0.2008, 0.5437, 0.6725, 0.358 , 0.6449,\n",
       "       0.9082, 0.521 , 0.4684, 0.7633, 0.1392, 0.1296, 0.8532, 0.7265,\n",
       "       0.2747, 0.8736, 0.6771, 0.4934, 0.2503, 0.2954, 0.2186, 0.9438,\n",
       "       0.0375, 0.2671, 0.5313, 0.9593, 0.7457, 0.4419, 0.4137, 0.9212,\n",
       "       0.5078, 0.4878, 0.8985, 0.4353, 0.465 , 0.4384, 0.7517, 0.133 ,\n",
       "       0.0702, 0.2375, 0.0232, 0.5341, 0.547 , 0.839 , 0.2833, 0.0465,\n",
       "       0.266 , 0.1793, 0.582 , 0.5235, 0.7736, 0.0085, 0.0867, 0.1482,\n",
       "       0.8657, 0.9457, 0.6677, 0.5648, 0.8178, 0.1839, 0.5019, 0.8774,\n",
       "       0.4426, 0.8739, 0.0136, 0.4399, 0.4983, 0.274 , 0.951 , 0.3287,\n",
       "       0.8909, 0.1722, 0.3766, 0.0642, 0.2125, 0.4929, 0.9886, 0.7824,\n",
       "       0.4115, 0.1328, 0.3196, 0.4871, 0.127 , 0.8849, 0.4992, 0.9523,\n",
       "       0.1976, 0.7244, 0.2333, 0.2619, 0.7825, 0.7165, 0.2755, 0.4696,\n",
       "       0.6981, 0.2539, 0.1822, 0.667 , 0.219 , 0.8003, 0.2807, 0.0672,\n",
       "       0.8386, 0.4578, 0.9724, 0.1906, 0.0325, 0.0706, 0.1702, 0.5726,\n",
       "       0.2808, 0.3579, 0.2722, 0.6796, 0.7931, 0.9873, 0.4102, 0.7101,\n",
       "       0.3392, 0.8344, 0.2173, 0.3576, 0.9244, 0.2542, 0.2279, 0.1641,\n",
       "       0.2012, 0.678 , 0.1506, 0.3965, 0.0451, 0.5329, 0.7736, 0.0136,\n",
       "       0.1696, 0.6212, 0.668 , 0.0763, 0.7933, 0.3409, 0.6116, 0.1244,\n",
       "       0.9041, 0.6473, 0.6352, 0.0079, 0.9943, 0.9241, 0.1451, 0.6454,\n",
       "       0.0124, 0.2242, 0.9269, 0.6997, 0.2447, 0.9659, 0.9706, 0.7393,\n",
       "       0.6118, 0.8759, 0.0315, 0.5237, 0.4054, 0.7324, 0.8265, 0.236 ,\n",
       "       0.3834, 0.0232, 0.0746, 0.9037, 0.4858, 0.1448, 0.2059, 0.3546,\n",
       "       0.4317, 0.9712, 0.3613, 0.7992, 0.5515, 0.8763, 0.4143, 0.7129,\n",
       "       0.2701, 0.8483, 0.1506, 0.3994, 0.7193, 0.2786, 0.2487, 0.5116,\n",
       "       0.1487, 0.4624, 0.2893, 0.3535, 0.4915, 0.557 , 0.8937, 0.8858,\n",
       "       0.5689, 0.6046, 0.1089, 0.2415, 0.0965, 0.2611, 0.9523, 0.5934,\n",
       "       0.2302, 0.6235, 0.1218, 0.1755, 0.4876, 0.824 , 0.751 , 0.4847,\n",
       "       0.7781, 0.9395, 0.5418, 0.1783, 0.3677, 0.0497, 0.8414, 0.6605,\n",
       "       0.5712, 0.6244, 0.8809, 0.2327, 0.1126, 0.1092, 0.6088, 0.4748,\n",
       "       0.0891, 0.9925, 0.0137, 0.33  , 0.9867, 0.3452, 0.3379, 0.008 ,\n",
       "       0.658 , 0.5534, 0.0694, 0.6942, 0.4785, 0.7425, 0.4566, 0.0354,\n",
       "       0.5791, 0.8235, 0.1788, 0.08  , 0.7308, 0.7325, 0.0796, 0.5785,\n",
       "       0.5446, 0.5484, 0.8545, 0.1579, 0.7669, 0.3423, 0.8233, 0.6542,\n",
       "       0.7829, 0.5839, 0.0047, 0.3729, 0.1298, 0.3857, 0.2392, 0.8944,\n",
       "       0.2387, 0.0559, 0.0886, 0.9933, 0.2518, 0.4686, 0.3214, 0.8884,\n",
       "       0.9472, 0.3372, 0.4157, 0.4615, 0.8223, 0.3183, 0.6692, 0.8814,\n",
       "       0.2508, 0.8144, 0.2464, 0.744 , 0.4687, 0.6106, 0.4796, 0.0728,\n",
       "       0.2077, 0.5928, 0.7204, 0.4252, 0.7279, 0.1459, 0.9714, 0.4229,\n",
       "       0.709 , 0.5162, 0.9567, 0.6259, 0.1445, 0.3056, 0.9949, 0.236 ,\n",
       "       0.6199, 0.1491, 0.4376, 0.8806, 0.2669, 0.97  , 0.7646, 0.3351,\n",
       "       0.558 , 0.9669, 0.8344, 0.9134, 0.01  , 0.9846, 0.0574, 0.2015,\n",
       "       0.8361, 0.1678, 0.3923, 0.4323, 0.2364, 0.009 , 0.0358, 0.065 ,\n",
       "       0.8493, 0.7424, 0.3461, 0.9518, 0.0116, 0.377 , 0.738 , 0.4906,\n",
       "       0.0572, 0.1795, 0.061 , 0.2185, 0.2628, 0.0954, 0.2411, 0.8604])"
      ]
     },
     "execution_count": 93,
     "metadata": {},
     "output_type": "execute_result"
    }
   ],
   "source": [
    "from numpy.random import rand\n",
    "fac1, fac2, fac3 = np.random.rand(3, 1000)\n",
    "fac1"
   ]
  },
  {
   "cell_type": "code",
   "execution_count": 94,
   "id": "c5fca927",
   "metadata": {},
   "outputs": [
    {
     "data": {
      "text/plain": [
       "array(['TZIRW', 'ZTEJD', 'XCVKP', 'RDLNK', 'TUGRP', 'OQIBZ', 'RACXM',\n",
       "       'WZVUA', 'TPKHX', 'KWCGS', 'HHZEZ', 'ROCCK', 'QPDJR', 'JWDRK',\n",
       "       'RGZTR', 'SJOCT', 'ZMKSH', 'JFGFB', 'TVIPC', 'CVYEE', 'BCWRV',\n",
       "       'MWQIQ', 'ZHGVS', 'NSIOP', 'VUWZL', 'CKTDP', 'SUKGH', 'AXIDW',\n",
       "       'HLZFK', 'NBDZE', 'WHBSU', 'RTVCA', 'DUGTS', 'DMCLD', 'BTAGF',\n",
       "       'WDPGX', 'ZBVAR', 'NTDIC', 'HCUJL', 'NFBQO', 'BTDWM', 'GILXP',\n",
       "       'SFWVG', 'YBZVF', 'FKQID', 'TOVFA', 'PVNSQ', 'JULMV', 'IERWA',\n",
       "       'OXCKX', 'BRIEH', 'YPLTJ', 'VLSUT', 'EWJMX', 'NUCAT', 'GWKFH',\n",
       "       'HUOMW', 'VSNBM', 'WSNYV', 'WBFOC', 'IWFOQ', 'PRTYA', 'BPKJO',\n",
       "       'BZZNG', 'RUCXE', 'AMVNK', 'AGAWY', 'AVQTD', 'GDTUG', 'JIWFD',\n",
       "       'PMUCA', 'IOZZD', 'IEUQU', 'ULDEI', 'ABBGV', 'IRKLS', 'BXWTU',\n",
       "       'PWUOU', 'NLRFG', 'MSJAE', 'EIKKZ', 'LWCKY', 'TBBIF', 'ESJLM',\n",
       "       'REJDP', 'XHBJF', 'QXCJM', 'KJNDD', 'RPPKZ', 'ZKDPD', 'WPNBJ',\n",
       "       'KXVEF', 'USMZU', 'CCZCG', 'XHBMA', 'DMRQJ', 'OPZSW', 'VGNCL',\n",
       "       'HISYF', 'NGLDC', 'WAQOY', 'VGDPM', 'IGUBZ', 'GTEDG', 'OMLRE',\n",
       "       'DTPES', 'MUVNQ', 'PVKPP', 'UVGRT', 'HAKWX', 'KKBQE', 'ITZEM',\n",
       "       'SJWWZ', 'PCZCQ', 'BCHEB', 'JAYOK', 'FZEUO', 'LQMQQ', 'BSCVZ',\n",
       "       'ZQYTC', 'XNYGJ', 'RTNPZ', 'MTSHZ', 'AVAXF', 'JQSIK', 'CPIJY',\n",
       "       'NMZMB', 'FUEHJ', 'XKBBP', 'NEPTW', 'CVWEZ', 'LNBTO', 'MOBDP',\n",
       "       'YEABT', 'TEUKD', 'WRULG', 'MZYYP', 'DBTWO', 'TUKUD', 'VWTJZ',\n",
       "       'EMZJX', 'VZDQZ', 'GBZMO', 'LYGOL', 'ZUCBB', 'PIAQV', 'SSGHC',\n",
       "       'YUYQW', 'QNQJD', 'ENSNC', 'DNCDN', 'YEXAZ', 'ONVNA', 'PKXIC',\n",
       "       'LCDLW', 'ALLFA', 'HLCTE', 'GAGVV', 'XDXAJ', 'LWATH', 'EFODP',\n",
       "       'LWIEA', 'GLKPJ', 'JRUKF', 'SCDRS', 'JFMEE', 'ZHKQH', 'HYFJL',\n",
       "       'NVBET', 'AMCWC', 'ENJRN', 'XESNJ', 'ULCHO', 'ULUQB', 'MNANX',\n",
       "       'KOGLJ', 'PCFZD', 'IDRTW', 'EZWOM', 'FYNNF', 'HOKQE', 'LOUUC',\n",
       "       'PYGJA', 'WOTOA', 'GJDYU', 'JRTEN', 'WYPCV', 'PYHRY', 'MIUAD',\n",
       "       'IVBAI', 'MQSWM', 'ODXIL', 'JYVGT', 'CBCZI', 'JRKDQ', 'HYFCN',\n",
       "       'JJQES', 'QUGRD', 'NURMX', 'YZIJO', 'LSUEF', 'DWDMM', 'SOERV',\n",
       "       'JLUPX', 'NGPPW', 'QKPUB', 'OJEXP', 'BTGAL', 'PMAQC', 'VCVXV',\n",
       "       'MALBD', 'TAIUW', 'JXHEY', 'SJGDN', 'OWKMF', 'KNUVN', 'EOWEQ',\n",
       "       'KEGFO', 'LZMNZ', 'PMXHZ', 'GOGSW', 'BMBHU', 'CFLBX', 'UVFHT',\n",
       "       'JTCWQ', 'YJYLN', 'OBUWQ', 'VURXN', 'SOPIW', 'PGKIB', 'BBFLA',\n",
       "       'JUAEC', 'ZNVHT', 'MRHOG', 'KTDTC', 'ZKKRO', 'KIAQB', 'GLCGQ',\n",
       "       'LGGIV', 'XXJJQ', 'MIPLW', 'HBJRC', 'AOPXO', 'BZNPO', 'ODCCH',\n",
       "       'DYENG', 'OTCNR', 'YMBFH', 'PHEIL', 'KNDRJ', 'TRZGW', 'JYOQT',\n",
       "       'ORUII', 'HADTZ', 'WDFXN', 'HGJXV', 'AXRQN', 'BDMUI', 'DXSLH',\n",
       "       'VWWRV', 'JHXHC', 'QJVKH', 'LUPJS', 'FEZAR', 'QKLSU', 'AZEME',\n",
       "       'FQCEY', 'GZYPS', 'YWGHX', 'EHYML', 'TSEUP', 'DTAQT', 'LPOJA',\n",
       "       'HRUFV', 'PZXPR', 'KWCIE', 'TMWGK', 'ZJMBG', 'BKXXH', 'KOVXV',\n",
       "       'VHILV', 'FJALS', 'RBXUE', 'LAPUB', 'AHBAH', 'UKCBL', 'VNEGO',\n",
       "       'NELJF', 'UKXZX', 'NMANI', 'RRZXV', 'WOYBS', 'DNMFA', 'QETVQ',\n",
       "       'XWECK', 'HFHAZ', 'FXZVR', 'FWCNT', 'DTUOW', 'ETTBI', 'KZXXM',\n",
       "       'AUBPC', 'LJVEO', 'HQLFX', 'YMKIZ', 'PMAJQ', 'JRPBY', 'RSRIV',\n",
       "       'BOMXD', 'MLPBA', 'IXBIV', 'VSWYJ', 'VYGYQ', 'QKMIG', 'DSKZH',\n",
       "       'SVXRV', 'LFEKX', 'ASBSE', 'LLJUJ', 'KPZMT', 'NFAZE', 'SBOEK',\n",
       "       'AXPVV', 'YIXTG', 'CRNIF', 'QFCVU', 'FSDQU', 'ZRTMY', 'NIJJA',\n",
       "       'NYWII', 'RQRKK', 'GWZNZ', 'EAYQE', 'ZVWZS', 'MLOBR', 'NUTZZ',\n",
       "       'YHALQ', 'FVGUL', 'UWPAX', 'XHSHI', 'FYNCS', 'OHXWO', 'QZZWD',\n",
       "       'GFOCN', 'UMIIN', 'YYLTK', 'CJAPA', 'YIGYM', 'MNYUU', 'VMWBS',\n",
       "       'OLSES', 'WIKAM', 'PQEBC', 'SLLAC', 'GWDVR', 'PBKAK', 'MEYUI',\n",
       "       'NVETE', 'MJQBF', 'EEPWU', 'WYXBX', 'QBRWX', 'WUMFL', 'ZSCCR',\n",
       "       'FIGZI', 'KWWIZ', 'IQOEY', 'OREBU', 'SFUQB', 'YKCGU', 'ZOTHZ',\n",
       "       'OQFWK', 'UEPYR', 'BRCQK', 'AYCDN', 'TLSOK', 'MQLUD', 'EKAFX',\n",
       "       'EAKTG', 'BNUBW', 'JZMBT', 'YZWFL', 'CNBOL', 'TTYIV', 'JSZON',\n",
       "       'FAOZI', 'GMCLD', 'DALAF', 'MTWUA', 'KOZRX', 'WPPCB', 'RMZZI',\n",
       "       'AUQDC', 'KLDPB', 'EQUZJ', 'BAMKF', 'RWEFF', 'YFUVH', 'TKAPU',\n",
       "       'VMBHH', 'UJKFH', 'LHFNO', 'LSEMS', 'YAFSA', 'VMWZF', 'EAAKQ',\n",
       "       'ABBYD', 'STEYE', 'VZMZA', 'NNSVK', 'WHELQ', 'GRMCE', 'NSVLD',\n",
       "       'NNHPM', 'HMHUP', 'MSCII', 'QLRAT', 'TYPHI', 'BTKZM', 'UDRBE',\n",
       "       'WMAYN', 'XMNDW', 'OTOFF', 'KPNFS', 'JYQDL', 'LEULY', 'PUQYB',\n",
       "       'GIFXS', 'KJMUB', 'JRNBV', 'NIMXG', 'LEEDT', 'LFANS', 'MOCUW',\n",
       "       'WVCYN', 'RXREF', 'EGFHA', 'QEPLT', 'XJWZK', 'VDZNY', 'IFKUQ',\n",
       "       'KRWEM', 'XXRJH', 'MLMPQ', 'JNNDV', 'EEAST', 'UWQDW', 'YUWGT',\n",
       "       'UTQDI', 'WXTFM', 'CZBAD', 'LXPKD', 'VOLSW', 'IVPZY', 'HFRRC',\n",
       "       'YQFAU', 'FQNTV', 'GOWVM', 'IASEM', 'FOSBM', 'ZCUSM', 'KHQOB',\n",
       "       'PTDIQ', 'PRUMP', 'IFHRL', 'FJTEO', 'CCPMS', 'NRCIP', 'HDJEL',\n",
       "       'ZDEVB', 'VESRG', 'ABMRW', 'YTPWW', 'DPRLY', 'KDVAH', 'HPJIH',\n",
       "       'APLQK', 'CCJSN', 'HXLMY', 'EHJGX', 'YPVZL', 'JMTEY', 'DMLQP',\n",
       "       'HUWLU', 'LNILM', 'YYWJD', 'PJDOE', 'LHXFK', 'PHDVM', 'MOQOS',\n",
       "       'THVMQ', 'JPHKQ', 'VACPK', 'MHNBS', 'YBNCI', 'GXKFD', 'FZWLA',\n",
       "       'HBAMR', 'AEDTT', 'GCXOG', 'AQTNC', 'RFHHN', 'MPZAN', 'GMYBT',\n",
       "       'IASLW', 'LKVOU', 'ETQCI', 'DWDIA', 'WETYV', 'EMGSV', 'KGNQQ',\n",
       "       'DRDWP', 'DQOPF', 'ORKEN', 'IMCSQ', 'KHOHL', 'PYNAO', 'XARMY',\n",
       "       'YOHNH', 'IPPEH', 'OJLUP', 'TEQVC', 'GJQUV', 'DBEKB', 'KTZFY',\n",
       "       'OMVGN', 'PGFMB', 'ZZYKY', 'VQGXK', 'FQRWT', 'SNEUW', 'TPVSG',\n",
       "       'TOBHP', 'TKRXG', 'ABBEH', 'OVTHV', 'VDYQN', 'UUJVK', 'PVGFL',\n",
       "       'RLWOM', 'OVKOC', 'EHYDY', 'EMOWR', 'GLWBA', 'MGCNS', 'SZNRG',\n",
       "       'UAVEQ', 'UPJMR', 'RCCTX', 'PYAGN', 'TYLJC', 'XAYZH', 'TASQL',\n",
       "       'EOIDS', 'OIHMM', 'XQKHS', 'ICBEK', 'USSPC', 'QPNKM', 'XADNT',\n",
       "       'VEYEA', 'DWNHB', 'UIIMD', 'LJLTZ', 'UGXRR', 'BKQRA', 'FPAUI',\n",
       "       'KELDT', 'RNZYC', 'ISDQC', 'SEPBQ', 'ZHLDR', 'WGFWV', 'HMGTW',\n",
       "       'XOLFI', 'XLRGG', 'OKEIR', 'VYYAC', 'VKJWZ', 'KBCTA', 'JZDFW',\n",
       "       'IGQRL', 'OCNQR', 'NDCSO', 'KFJHU', 'NVWJB', 'AAUIC', 'VKKRU',\n",
       "       'JBZWH', 'WQEIT', 'BZMNI', 'SHIKZ', 'RPOWD', 'NLFQB', 'HWZPM',\n",
       "       'AHCJD', 'FEOAY', 'LQNDQ', 'HPJIM', 'NPWBF', 'WQLGH', 'EHZJZ',\n",
       "       'EFRIR', 'AFHXN', 'WFHYR', 'ESVFX', 'HQYJZ', 'ZWXAX', 'OZGBN',\n",
       "       'FMQMG', 'MRQPD', 'ECRAC', 'AXHXM', 'OVINL', 'VMIXC', 'YFSHX',\n",
       "       'GBYBQ', 'ZCWOH', 'OWYYV', 'ETUQJ', 'ATELV', 'LLJQU', 'WIEAP',\n",
       "       'ZXGTM', 'KPJOE', 'PJZWK', 'LUTMM', 'SMWQJ', 'VYSHG', 'NGIQF',\n",
       "       'QEZTQ', 'YRYQU', 'PKINJ', 'OUQBZ', 'XGIOW', 'CAGTD', 'IZAGF',\n",
       "       'TFVLT', 'ZIAVV', 'AATFJ', 'HMPXL', 'LCSNZ', 'DWAYF', 'ATRIL',\n",
       "       'XGMGK', 'FZFPV', 'ETSQN', 'SUHAB', 'NTBUU', 'UEQCN', 'JKUUT',\n",
       "       'GWBKE', 'KVXIP', 'PTKIU', 'COZYF', 'DQIRW', 'MTONV', 'FTNYE',\n",
       "       'VVYZD', 'SYDFX', 'PJVXD', 'VYNII', 'ZDULQ', 'RZCAB', 'TAYED',\n",
       "       'NMZPA', 'KUECW', 'MUSXH', 'BGNAB', 'TZMER', 'XWJNM', 'RBXOR',\n",
       "       'EREUG', 'SFCSP', 'JIIGM', 'VAUBQ', 'YYCAU', 'JEYEY', 'QEDKA',\n",
       "       'XKEKS', 'YCCLG', 'IOKVP', 'PRQCC', 'KOMYM', 'RPRNQ', 'CHEUM',\n",
       "       'QKECE', 'EBMUS', 'DVCQI', 'SJLVX', 'PMSKX', 'VTOQL', 'HYQBX',\n",
       "       'MZLKZ', 'QAHSC', 'PDLNY', 'THRAQ', 'QDBSL', 'BLFKI', 'PPYNA',\n",
       "       'ZUYHU', 'UPXXL', 'VZZXF', 'BYXPQ', 'VFMWJ', 'VSPGA', 'WOTTV',\n",
       "       'FTOKS', 'KNSYU', 'EQNMH', 'LMJHG', 'IHRSL', 'OHTKT', 'UEKHE',\n",
       "       'YIRFR', 'WWTDO', 'PGWFT', 'LTHWZ', 'CRPGJ', 'MIQGL', 'NKXAB',\n",
       "       'GGTFR', 'OCIQJ', 'WPNKV', 'XWWMB', 'DBKFY', 'ITXRO', 'JRNPL',\n",
       "       'HVCXC', 'ZUCQA', 'VSQKX', 'TDSHA', 'BZDXJ', 'CSMWE', 'YSTQG',\n",
       "       'IJFFS', 'HEEHI', 'PZJEX', 'TIGCE', 'VNFGS', 'ALRVP', 'VEYXI',\n",
       "       'CXWTW', 'IZTXH', 'AEGXS', 'VANEE', 'PRBQK', 'HVFOK', 'VOHUU',\n",
       "       'XIVWG', 'DLPIL', 'RSJGJ', 'RMCFM', 'DSUDQ', 'EWOEN', 'IXRGY',\n",
       "       'ZFXCI', 'OKMQB', 'LMXXM', 'REYWW', 'RSEUB', 'JTOQY', 'SNGOG',\n",
       "       'MCDRM', 'DQVOX', 'UFBGH', 'HDTMN', 'CRGQG', 'GPCGD', 'QETGR',\n",
       "       'SQUTN', 'TMUIV', 'ZPUUT', 'ZALLY', 'ZGWUB', 'GOGQV', 'GAEHO',\n",
       "       'PCTIU', 'JMKXX', 'VWJVC', 'TDPLT', 'TUCHE', 'NHAPJ', 'EQULX',\n",
       "       'VEDQK', 'KVXCL', 'ZGGJQ', 'WNUXX', 'MMBEO', 'CJUVE', 'QGTPL',\n",
       "       'ESESN', 'IXGDF', 'EORNF', 'BJYPS', 'CVLUD', 'DPHQB', 'AWVZS',\n",
       "       'COIXS', 'IWRZM', 'FHUDV', 'SXYQF', 'PUUHA', 'HEWTV', 'YEUEY',\n",
       "       'ZSTFC', 'DIDIT', 'OSYIS', 'NBWCE', 'OBLKI', 'UNMAJ', 'UHGYC',\n",
       "       'SXEHQ', 'GOKAY', 'INSQR', 'EWKWS', 'URMGJ', 'DOUUI', 'HZUIY',\n",
       "       'JCLEO', 'AMUOB', 'UYYJQ', 'TYNOT', 'SXQGF', 'AIDMW', 'IGPPI',\n",
       "       'QMETP', 'IFWAG', 'KIWWD', 'VANJK', 'TXGKN', 'YEUDH', 'LYXPO',\n",
       "       'FVLNN', 'NLSDC', 'RZOED', 'AZQWM', 'UPHMU', 'XDNBV', 'JTFJI',\n",
       "       'QDRVV', 'KAEAC', 'KYKOG', 'HLVSO', 'IRFOM', 'ADADK', 'XGJRD',\n",
       "       'QYJCD', 'RTJXB', 'HDVFO', 'FFOIW', 'FOWSA', 'RMADD', 'JCUYM',\n",
       "       'GIXMH', 'OUTQR', 'LFNUZ', 'ASNTH', 'JLQKP', 'UYXOX', 'WILIY',\n",
       "       'FFHOK', 'UALPT', 'ZWJVH', 'ADOXQ', 'FGMWT', 'KREBP', 'NOZOL',\n",
       "       'AGSGC', 'PEVCX', 'QWVRM', 'TIGCN', 'ARPWX', 'KXAGT', 'JYYZN',\n",
       "       'OWQWJ', 'CBCLM', 'UNMZU', 'WYUYH', 'JPMRA', 'UNUJV', 'PEMVN',\n",
       "       'MWYSX', 'TJPRL', 'JNSUY', 'FLBNO', 'OJCVH', 'KHMAT', 'KEFPC',\n",
       "       'YDFTB', 'HUFAU', 'QVNVN', 'FJMOJ', 'RBFPF', 'DVDPX', 'JXZJJ',\n",
       "       'MBSIK', 'YOCBY', 'UWJHO', 'UJRGM', 'CNBBZ', 'CLAJJ', 'BABTB',\n",
       "       'ETFPU', 'CSEAX', 'REZDC', 'WCTYV', 'DGDPN', 'CDPWO', 'QXFRD',\n",
       "       'ELXNQ', 'ECUQB', 'XRHDX', 'ZMLQK', 'RWSRM', 'JHSWC', 'ETMYL',\n",
       "       'XJLQL', 'AAAEI', 'XVWGU', 'EFDPX', 'PVEII', 'EBFVL', 'XKGUD',\n",
       "       'QZPEU', 'IKGUD', 'TVWHL', 'ZMYDI', 'YMRLB', 'UKHMB', 'YNRIY',\n",
       "       'ZFIBX', 'IXCKU', 'NAYVI', 'HUYWF', 'ILQUD', 'FPGST', 'SCNJW',\n",
       "       'VBIAA', 'ZTFKF', 'MHSRG', 'BURYG', 'ORVOS', 'TKLLD', 'YZANL',\n",
       "       'FPHXV', 'XUZXX', 'UMYTA', 'VGTXP', 'NYMFE', 'VNMOX', 'XUXGI',\n",
       "       'CWFSA', 'JXFDE', 'IFMIQ', 'UNKRX', 'NPODI', 'TKIIX', 'JMTQA',\n",
       "       'PUQQG', 'NIXUY', 'NXBAN', 'RCZIW', 'ZAAPV', 'ZMRLR', 'PQORX',\n",
       "       'XWPSF', 'ZSYAT', 'LGJNC', 'HDFZT', 'OUEPK', 'OWEPZ', 'IPKWQ',\n",
       "       'XZHYB', 'LQIMR', 'UTDJE', 'QEECK', 'GBAPP', 'CSQBE', 'UOSES',\n",
       "       'ICJLE', 'OLBKD', 'DTVDJ', 'VJSLF', 'YAVYP', 'MMUGC', 'NIPNV',\n",
       "       'PMENZ', 'GYNUY', 'GICZE', 'OKLJZ', 'ZOKHF', 'OEWKZ', 'HPEDR',\n",
       "       'STOXK', 'FCVKF', 'ILVWD', 'DMKYK', 'JKYAG', 'VUJUF'], dtype='<U5')"
      ]
     },
     "execution_count": 94,
     "metadata": {},
     "output_type": "execute_result"
    }
   ],
   "source": [
    "tickers"
   ]
  },
  {
   "cell_type": "code",
   "execution_count": 95,
   "id": "f94d8af3",
   "metadata": {},
   "outputs": [
    {
     "data": {
      "text/plain": [
       "array([396, 661,  44, 230, 847, 383, 518, 836,   8, 161, 931, 776, 638,\n",
       "       384, 731, 692, 282, 639, 464, 495,  48, 285, 244, 928, 821, 343,\n",
       "       610, 531, 318, 606, 744, 437, 329, 581, 783, 617, 967, 929, 256,\n",
       "       513, 362, 702, 533, 100, 530, 138, 213, 556, 514, 675, 482, 962,\n",
       "       801, 113, 945, 233, 763, 116, 593, 626, 723, 291, 257, 938, 918,\n",
       "        87, 415,  28, 112, 125, 263, 830, 909, 684, 132, 673, 503, 209,\n",
       "       890, 456, 578, 468,  36, 429, 268, 474, 160, 934, 364, 745, 371,\n",
       "       637, 650,  58, 919, 483, 246, 633, 543, 168, 793, 905, 594, 735,\n",
       "       151, 278, 766, 904, 321, 212, 232, 725,  65, 743, 843, 755, 442,\n",
       "       888, 477, 658, 528, 450, 510, 618, 176, 261,  24, 194, 259, 952,\n",
       "       312, 480, 811, 804,  84, 682, 121, 770, 436, 777, 980, 389, 794,\n",
       "       852, 552, 226, 709, 819, 982, 101, 350, 249, 659, 554, 916, 183,\n",
       "       932, 872, 936, 838, 288, 309, 963, 106, 163, 239, 196,  16,  79,\n",
       "       707, 596, 420,  56, 237, 800, 171, 165, 827, 792,  59, 921, 421,\n",
       "        92, 381, 880, 598, 670, 541, 373, 602,  83, 742,  98, 134, 736,\n",
       "       906, 940, 448, 262, 875,   7, 497, 700, 358, 404, 342, 900, 892,\n",
       "       310, 710, 570,  18, 995, 641, 476, 951, 392,  17,  74, 433, 680,\n",
       "       105, 812, 313, 703, 719, 434, 601, 667, 604, 338, 555, 377, 762,\n",
       "       577, 946, 889, 271, 393,  45, 150, 948, 179, 264, 136, 172, 679,\n",
       "       368, 339, 287,  21, 520, 701, 806, 292, 243, 302, 927, 969, 463,\n",
       "       266, 935, 983, 234, 615, 587,  60, 412, 631, 915, 454, 407, 363,\n",
       "       814, 359, 882,  78,  77, 523, 760, 779, 299, 467, 713,  25, 439,\n",
       "       424, 978, 184, 240, 147, 698, 825, 411, 418,  51, 385, 878, 290,\n",
       "       345, 907,  46, 599, 224, 130, 119, 835, 989, 406, 465, 303, 186,\n",
       "        62, 681,  88, 280, 796, 139, 252, 899, 654,  67, 214, 961, 500,\n",
       "       157, 860, 382, 966, 203, 469, 369, 425, 330, 895, 649, 974, 188,\n",
       "       885, 824, 717, 795, 644, 975, 612,  31, 558, 808,  15, 494, 521,\n",
       "       722, 694, 734, 609, 547, 902, 537, 376, 884, 657, 646,  86, 458,\n",
       "        54, 767, 499, 195, 764, 446, 781, 870, 379, 391, 337, 129, 360,\n",
       "       281,  89, 162, 737, 490, 769, 380, 354, 430, 140, 562,  95, 727,\n",
       "       903, 984, 683, 545, 548, 394, 386, 851,  34, 678, 326,  23, 741,\n",
       "       922, 180, 307, 586, 849, 247, 159, 398, 883, 428, 920, 987, 621,\n",
       "       534,  73, 169, 298, 789, 867, 323, 997, 972, 216, 853, 685, 403,\n",
       "       807, 733, 356, 202, 861, 251, 573, 572, 311, 648,  40, 269,  61,\n",
       "       873, 765, 466, 752, 696, 241, 842,  26, 846, 142, 314, 320, 272,\n",
       "       405, 820, 759, 551, 536,  63, 564, 190,  22,  66, 595, 187, 823,\n",
       "        29, 459, 443, 559, 472, 221, 663, 517, 622, 526, 217, 749,  85,\n",
       "       585,  52,  42, 479, 124, 798, 340, 365, 772, 422, 923, 460, 686,\n",
       "        37, 293, 108, 786, 255, 344, 417, 582, 352, 837,  38, 944, 787,\n",
       "       985, 200, 912,  14, 205, 219, 839,  47, 833, 155, 204, 828, 370,\n",
       "       273,  19, 732, 690, 258, 279, 164, 489,   4, 560,  43, 981, 325,\n",
       "       336, 128, 135, 976, 716, 492, 341, 231, 632, 965, 192, 146, 166,\n",
       "        99, 198, 222, 127, 576, 856, 894, 177, 207, 470, 822,  97, 372,\n",
       "       818, 569, 286, 676, 189, 102, 964, 614, 671, 374, 333, 761, 704,\n",
       "        80, 959, 478, 640, 301, 930, 210, 841, 957, 748,  57, 866, 574,\n",
       "       122, 289,  12,  94, 539, 651, 229, 778, 674, 410, 738,  20, 647,\n",
       "       662, 850,  76, 322, 284, 211, 308, 409, 797, 540, 924, 706, 942,\n",
       "       914, 590, 863, 844, 527, 457,  35, 493, 816, 557,  53,   0, 874,\n",
       "       275, 954, 998,  11, 426, 643, 228, 126, 416, 516, 154, 519, 427,\n",
       "       486,   9, 925, 568, 566, 628, 908, 862, 488, 175, 208, 565, 740,\n",
       "       901, 349,   2, 315, 496, 347, 270, 355, 225, 627, 771, 817, 399,\n",
       "        50,  72, 949, 550, 623, 986, 695, 877,  75, 227, 810, 260, 432,\n",
       "       970, 144, 898, 367, 185, 206, 167, 753, 158, 235, 419, 715, 538,\n",
       "       705,  55, 305, 583,  70, 351, 893, 588, 619, 988, 788, 708, 107,\n",
       "       423, 400, 267, 561, 784, 319, 780, 968, 178, 452, 805, 600, 328,\n",
       "       123, 891, 607, 768, 387, 826, 283, 324, 361, 131,  33, 603, 148,\n",
       "       754, 645, 571,  82, 236, 445,  39, 306, 887, 597, 413, 689, 529,\n",
       "       173, 485, 498, 718, 575, 699, 625, 449, 402, 664, 444, 453, 605,\n",
       "       994, 635, 149, 348,  91, 300, 990, 750, 199, 506, 857, 254, 438,\n",
       "         6, 294, 971, 950, 941, 471, 297, 170, 501, 253, 193, 512, 487,\n",
       "       475, 977, 357, 505,  49, 508, 143,  30, 223, 218, 317, 655, 535,\n",
       "       397, 242, 118, 542, 250, 774, 156, 746, 332, 668, 697, 693,   5,\n",
       "       834, 910, 378, 182, 979, 868, 515, 191, 859, 276, 414, 522, 711,\n",
       "       589, 532, 829,  68, 511, 620, 656, 714,   1, 461, 584,  41, 865,\n",
       "       943, 408, 580, 295, 758, 688, 334,  64,  71, 634, 669, 277, 579,\n",
       "       802, 484, 238, 653, 115, 120, 624, 331, 353,  10, 960, 546, 524,\n",
       "       145, 724, 665, 110, 388, 721, 613, 507, 153, 785, 897, 141, 712,\n",
       "       117, 939, 327, 440, 316, 563, 509, 956,  13, 660, 504, 720, 248,\n",
       "       642, 933, 133, 757, 855, 441, 999, 832, 953, 955, 947, 911, 197,\n",
       "       848, 896, 813, 274, 858, 782, 549, 265, 958, 366, 864, 666, 245,\n",
       "       773, 756, 553, 815, 525, 803, 201, 451, 395, 739, 346, 544,  32,\n",
       "       809, 747, 111, 152, 791, 879, 730, 687, 913, 431, 996, 636, 854,\n",
       "       304, 831, 677,  93, 390, 608,  69, 726, 881, 491, 937, 104, 926,\n",
       "       114, 109, 728, 296, 401, 992, 993, 103, 137, 435, 447, 220, 616,\n",
       "       672, 630,   3, 775, 592, 840, 181, 869, 502, 871, 691, 886, 174,\n",
       "       473,  96, 790, 335, 729, 917, 629, 462,  90, 567, 611, 876, 455,\n",
       "       991, 481, 375, 215, 751,  27, 652, 799, 591, 973, 845,  81])"
      ]
     },
     "execution_count": 95,
     "metadata": {},
     "output_type": "execute_result"
    }
   ],
   "source": [
    "np.random.permutation(N)[:1000]"
   ]
  },
  {
   "cell_type": "code",
   "execution_count": 96,
   "id": "70d36c3c-146a-4e13-ba96-43f0e6d605e5",
   "metadata": {},
   "outputs": [
    {
     "data": {
      "text/plain": [
       "array(['VQGXK', 'YUYQW', 'IEUQU', 'UNMZU', 'UWJHO', 'NELJF', 'KRWEM',\n",
       "       'LLJQU', 'YZIJO', 'CNBBZ', 'FZEUO', 'VMBHH', 'RBXOR', 'ZKDPD',\n",
       "       'UUJVK', 'YOHNH', 'LWATH', 'VDZNY', 'GWZNZ', 'XMNDW', 'JMTEY',\n",
       "       'YSTQG', 'EBFVL', 'GXKFD', 'PPYNA', 'JFMEE', 'JRPBY', 'NOZOL',\n",
       "       'LSEMS', 'WNUXX', 'ARPWX', 'IXBIV', 'NTDIC', 'TUCHE', 'NURMX',\n",
       "       'TLSOK', 'MTWUA', 'ECUQB', 'DLPIL', 'AIDMW', 'MMBEO', 'TKRXG',\n",
       "       'VJSLF', 'SCNJW', 'LXPKD', 'TDSHA', 'QAHSC', 'WHBSU', 'RTJXB',\n",
       "       'LUPJS', 'QMETP', 'YMKIZ', 'AQTNC', 'SXQGF', 'QUGRD', 'JYVGT',\n",
       "       'EHZJZ', 'PGKIB', 'MNYUU', 'AMUOB', 'YNRIY', 'AMCWC', 'ITZEM',\n",
       "       'ZDULQ', 'FUEHJ', 'MBSIK', 'THVMQ', 'GWDVR', 'PJVXD', 'HDVFO',\n",
       "       'NSVLD', 'HGJXV', 'IPPEH', 'HXLMY', 'QFCVU', 'SUKGH', 'QWVRM',\n",
       "       'CFLBX', 'HUYWF', 'GAGVV', 'KUECW', 'CSMWE', 'QKMIG', 'GBYBQ',\n",
       "       'ZNVHT', 'FTNYE', 'LEEDT', 'JRNBV', 'DWAYF', 'KPZMT', 'PMAQC',\n",
       "       'MTSHZ', 'XOLFI', 'ULDEI', 'HRUFV', 'XDXAJ', 'NPWBF', 'VAUBQ',\n",
       "       'MHNBS', 'DNMFA', 'IASLW', 'CVYEE', 'EQULX', 'IXCKU', 'UVFHT',\n",
       "       'OBUWQ', 'EAYQE', 'MSCII', 'PUUHA', 'SVXRV', 'DWNHB', 'UPXXL',\n",
       "       'RACXM', 'EWOEN', 'FPHXV', 'OHTKT', 'NBWCE', 'ZCUSM', 'KWCIE',\n",
       "       'TEUKD', 'KTZFY', 'DXSLH', 'UPHMU', 'UPJMR', 'ZFXCI', 'KJNDD',\n",
       "       'EAKTG', 'TYLJC', 'KAEAC', 'BZZNG', 'JCUYM', 'RUCXE', 'YEUEY',\n",
       "       'VHILV', 'KVXCL', 'APLQK', 'ABBEH', 'ORUII', 'SQUTN', 'MOBDP',\n",
       "       'USMZU', 'DYENG', 'YPVZL', 'QDBSL', 'CWFSA', 'KLDPB', 'FFOIW',\n",
       "       'ADOXQ', 'OJLUP', 'ZSTFC', 'FPGST', 'UKHMB', 'WDPGX', 'NUTZZ',\n",
       "       'LFEKX', 'NDCSO', 'WETYV', 'UAVEQ', 'CKTDP', 'EFODP', 'DTVDJ',\n",
       "       'MLMPQ', 'GLWBA', 'DOUUI', 'DIDIT', 'OIHMM', 'LJLTZ', 'DTAQT',\n",
       "       'AUBPC', 'QKECE', 'RBXUE', 'SJWWZ', 'DBEKB', 'PRTYA', 'STEYE',\n",
       "       'QBRWX', 'KIAQB', 'KIWWD', 'RCZIW', 'ZWJVH', 'OWQWJ', 'XHSHI',\n",
       "       'FJALS', 'VURXN', 'VTOQL', 'XGJRD', 'TEQVC', 'GTEDG', 'VEDQK',\n",
       "       'UKXZX', 'OPZSW', 'HYQBX', 'MIQGL', 'WQLGH', 'PYAGN', 'SZNRG',\n",
       "       'WIEAP', 'RNZYC', 'OTOFF', 'SXEHQ', 'WAQOY', 'BAMKF', 'QEPLT',\n",
       "       'XRHDX', 'CVWEZ', 'EIKKZ', 'UNUJV', 'XARMY', 'WYUYH', 'LQNDQ',\n",
       "       'ULUQB', 'COIXS', 'HADTZ', 'RQRKK', 'YAFSA', 'AXPVV', 'UEKHE',\n",
       "       'TVWHL', 'JJQES', 'NFAZE', 'OUTQR', 'VWTJZ', 'HISYF', 'VDYQN',\n",
       "       'FFHOK', 'ZOTHZ', 'XCVKP', 'HFRRC', 'PBKAK', 'SCDRS', 'VGTXP',\n",
       "       'GFOCN', 'EFDPX', 'JXFDE', 'MLPBA', 'NKXAB', 'EAAKQ', 'UALPT',\n",
       "       'HLCTE', 'AGAWY', 'FGMWT', 'FEZAR', 'PVKPP', 'VYYAC', 'ASBSE',\n",
       "       'SOPIW', 'LNBTO', 'KXAGT', 'YIGYM', 'LMJHG', 'PTKIU', 'VGDPM',\n",
       "       'BOMXD', 'ABMRW', 'WGFWV', 'MCDRM', 'SJGDN', 'XKEKS', 'ATELV',\n",
       "       'FSDQU', 'QETVQ', 'VVYZD', 'MLOBR', 'HUWLU', 'PEMVN', 'HDTMN',\n",
       "       'ZFIBX', 'VYGYQ', 'KEFPC', 'JPHKQ', 'QYJCD', 'AZQWM', 'EFRIR',\n",
       "       'AZEME', 'UIIMD', 'LSUEF', 'LAPUB', 'ITXRO', 'AVQTD', 'FZFPV',\n",
       "       'JQSIK', 'GOGSW', 'VSNBM', 'LOUUC', 'CCPMS', 'OQIBZ', 'CPIJY',\n",
       "       'GJDYU', 'JKYAG', 'WCTYV', 'BYXPQ', 'JAYOK', 'TUGRP', 'ETQCI',\n",
       "       'NNHPM', 'ZKKRO', 'NUCAT', 'IFHRL', 'KJMUB', 'VANJK', 'KHMAT',\n",
       "       'FCVKF', 'LGJNC', 'OWKMF', 'TUKUD', 'XUZXX', 'ETFPU', 'ETUQJ',\n",
       "       'QNQJD', 'MOQOS', 'XVWGU', 'EOWEQ', 'MJQBF', 'ZSYAT', 'MIUAD',\n",
       "       'ALRVP', 'YEUDH', 'HPEDR', 'MUSXH', 'CSQBE', 'CZBAD', 'VNMOX',\n",
       "       'BURYG', 'PGWFT', 'IXRGY', 'IGUBZ', 'PJDOE', 'MRHOG', 'ZGWUB',\n",
       "       'FWCNT', 'JFGFB', 'KYKOG', 'YBZVF', 'HEWTV', 'NVBET', 'DWDIA',\n",
       "       'AAAEI', 'RMCFM', 'JTCWQ', 'LEULY', 'HEEHI', 'YJYLN', 'QKPUB',\n",
       "       'NXBAN', 'LZMNZ', 'TMUIV', 'NGPPW', 'OCNQR', 'UHGYC', 'JLQKP',\n",
       "       'SOERV', 'YKCGU', 'HLZFK', 'LLJUJ', 'OLSES', 'HVFOK', 'VSQKX',\n",
       "       'FIGZI', 'UDRBE', 'ZIAVV', 'BZMNI', 'WOTTV', 'TOBHP', 'ALLFA',\n",
       "       'ZCWOH', 'HVCXC', 'QXFRD', 'PQEBC', 'ZALLY', 'VWWRV', 'RLWOM',\n",
       "       'LJVEO', 'PKXIC', 'PCZCQ', 'RPRNQ', 'ETMYL', 'KOZRX', 'WILIY',\n",
       "       'HUOMW', 'RZOED', 'PCFZD', 'EHJGX', 'IJFFS', 'BRIEH', 'PEVCX',\n",
       "       'PRBQK', 'INSQR', 'FOWSA', 'XGMGK', 'KZXXM', 'SLLAC', 'EBMUS',\n",
       "       'KTDTC', 'JMKXX', 'HWZPM', 'WMAYN', 'GOGQV', 'TKAPU', 'XZHYB',\n",
       "       'VKJWZ', 'CRGQG', 'ZMKSH', 'AMVNK', 'XNYGJ', 'VZZXF', 'VOHUU',\n",
       "       'WPNKV', 'NHAPJ', 'YHALQ', 'HMPXL', 'UTDJE', 'KXVEF', 'IDRTW',\n",
       "       'JCLEO', 'HBAMR', 'ZBVAR', 'YIRFR', 'BPKJO', 'PQORX', 'BTKZM',\n",
       "       'RFHHN', 'PZJEX', 'HHZEZ', 'VOLSW', 'BNUBW', 'OSYIS', 'BZNPO',\n",
       "       'AFHXN', 'BCHEB', 'CRPGJ', 'KPNFS', 'OCIQJ', 'SEPBQ', 'TXGKN',\n",
       "       'RSRIV', 'XXJJQ', 'CDPWO', 'XHBJF', 'GAEHO', 'RTNPZ', 'URMGJ',\n",
       "       'DVCQI', 'TTYIV', 'MOCUW', 'RPOWD', 'PRQCC', 'NMANI', 'MQLUD',\n",
       "       'PUQQG', 'PVEII', 'KKBQE', 'VANEE', 'GICZE', 'OHXWO', 'ORVOS',\n",
       "       'HDFZT', 'FYNNF', 'WHELQ', 'XWWMB', 'HQYJZ', 'RWSRM', 'SSGHC',\n",
       "       'OVKOC', 'PGFMB', 'AGSGC', 'WIKAM', 'MWYSX', 'JRKDQ', 'VUJUF',\n",
       "       'ONVNA', 'DTUOW', 'NLSDC', 'HBJRC', 'HFHAZ', 'ZTFKF', 'HUFAU',\n",
       "       'JRTEN', 'MQSWM', 'ILVWD', 'RMADD', 'GIXMH', 'HCUJL', 'HPJIM',\n",
       "       'KWWIZ', 'TPVSG', 'HLVSO', 'VNEGO', 'EQUZJ', 'IFMIQ', 'RXREF',\n",
       "       'UWQDW', 'VLSUT', 'ATRIL', 'UMIIN', 'JYOQT', 'IRFOM', 'OZGBN',\n",
       "       'CSEAX', 'NIJJA', 'RWEFF', 'JIIGM', 'WVCYN', 'CHEUM', 'PYNAO',\n",
       "       'CCZCG', 'VMWBS', 'SMWQJ', 'UFBGH', 'VSWYJ', 'ISDQC', 'OMVGN',\n",
       "       'NIMXG', 'GLCGQ', 'EGFHA', 'YUWGT', 'UJKFH', 'JXZJJ', 'WQEIT',\n",
       "       'UKCBL', 'VEYXI', 'MSJAE', 'BKXXH', 'IXGDF', 'KNUVN', 'PMXHZ',\n",
       "       'ABBGV', 'PVGFL', 'VACPK', 'UJRGM', 'NEPTW', 'VYSHG', 'VYNII',\n",
       "       'PMAJQ', 'TPKHX', 'PMUCA', 'YFSHX', 'CLAJJ', 'MNANX', 'MZLKZ',\n",
       "       'OVTHV', 'DWDMM', 'NSIOP', 'UNKRX', 'AOPXO', 'PIAQV', 'VBIAA',\n",
       "       'ETTBI', 'QZZWD', 'NVWJB', 'HAKWX', 'ESJLM', 'PUQYB', 'QXCJM',\n",
       "       'ZJMBG', 'KNSYU', 'QLRAT', 'BSCVZ', 'AWVZS', 'PHDVM', 'DMCLD',\n",
       "       'IKGUD', 'UYYJQ', 'CJAPA', 'FQRWT', 'BKQRA', 'OXCKX', 'NTBUU',\n",
       "       'EMOWR', 'GIFXS', 'EEAST', 'KREBP', 'YOCBY', 'ILQUD', 'TKIIX',\n",
       "       'DRDWP', 'RGZTR', 'JXHEY', 'FQNTV', 'FPAUI', 'ICBEK', 'RZCAB',\n",
       "       'FEOAY', 'EKAFX', 'IZAGF', 'TYPHI', 'BJYPS', 'EREUG', 'JHSWC',\n",
       "       'ZTEJD', 'QZPEU', 'QPNKM', 'XESNJ', 'DNCDN', 'OUEPK', 'WBFOC',\n",
       "       'TBBIF', 'THRAQ', 'UVGRT', 'VWJVC', 'STOXK', 'KPJOE', 'SFUQB',\n",
       "       'ZHLDR', 'QDRVV', 'HMGTW', 'IVPZY', 'IWFOQ', 'YYLTK', 'TYNOT',\n",
       "       'SNGOG', 'EWJMX', 'UWPAX', 'XGIOW', 'VZDQZ', 'NRCIP', 'YWGHX',\n",
       "       'QETGR', 'DSUDQ', 'LKVOU', 'XWECK', 'ZMRLR', 'REZDC', 'ZAAPV',\n",
       "       'SBOEK', 'SFWVG', 'LHFNO', 'SUHAB', 'GBZMO', 'NNSVK', 'VNFGS',\n",
       "       'MEYUI', 'EORNF', 'DMKYK', 'DQOPF', 'YMRLB', 'DBTWO', 'JTOQY',\n",
       "       'XIVWG', 'HOKQE', 'JNSUY', 'NMZPA', 'TZMER', 'QVNVN', 'AXHXM',\n",
       "       'AHBAH', 'KHQOB', 'AVAXF', 'JBZWH', 'UTQDI', 'NIXUY', 'ZPUUT',\n",
       "       'KOVXV', 'OREBU', 'EQNMH', 'ASNTH', 'MALBD', 'SJLVX', 'GMYBT',\n",
       "       'TKLLD', 'YQFAU', 'CCJSN', 'KFJHU', 'TASQL', 'DSKZH', 'IPKWQ',\n",
       "       'MUVNQ', 'GGTFR', 'TAIUW', 'BDMUI', 'FXZVR', 'CBCZI', 'ZWXAX',\n",
       "       'ZDEVB', 'CVLUD', 'EMGSV', 'VESRG', 'CXWTW', 'VZMZA', 'LUTMM',\n",
       "       'NVETE', 'VFMWJ', 'XHBMA', 'ABBYD', 'GPCGD', 'LHXFK', 'YYCAU',\n",
       "       'MGCNS', 'MIPLW', 'TDPLT', 'HPJIH', 'ZQYTC', 'GILXP', 'XQKHS',\n",
       "       'FLBNO', 'XUXGI', 'IVBAI', 'JZMBT', 'PYGJA', 'XWPSF', 'JLUPX',\n",
       "       'RBFPF', 'OBLKI', 'FMQMG', 'PYHRY', 'EZWOM', 'GBAPP', 'KEGFO',\n",
       "       'XADNT', 'ODXIL', 'KBCTA', 'OJEXP', 'YYWJD', 'DUGTS', 'JIWFD',\n",
       "       'LNILM', 'QEZTQ', 'NGLDC', 'IOZZD', 'ZRTMY', 'YMBFH', 'FAOZI',\n",
       "       'UNMAJ', 'OTCNR', 'LQIMR', 'JEYEY', 'NYMFE', 'UEPYR', 'FKQID',\n",
       "       'QEECK', 'EMZJX', 'ROCCK', 'EHYDY', 'PCTIU', 'IHRSL', 'TFVLT',\n",
       "       'CBCLM', 'DBKFY', 'DPHQB', 'OLBKD', 'BTAGF', 'MTONV', 'KOMYM',\n",
       "       'ENJRN', 'YTPWW', 'CJUVE', 'RDLNK', 'IGPPI', 'WUMFL', 'AAUIC',\n",
       "       'FQCEY', 'GOKAY', 'ORKEN', 'SFCSP', 'SJOCT', 'OWEPZ', 'EOIDS',\n",
       "       'ADADK', 'RPPKZ', 'NYWII', 'TJPRL', 'FYNCS', 'JULMV', 'PVNSQ',\n",
       "       'JHXHC', 'EWKWS', 'AXRQN', 'ZSCCR', 'LYXPO', 'WZVUA', 'PKINJ',\n",
       "       'UYXOX', 'UOSES', 'JWDRK', 'ZHGVS', 'WFHYR', 'FVLNN', 'GWBKE',\n",
       "       'KGNQQ', 'PDLNY', 'FVGUL', 'GRMCE', 'ZZYKY', 'PWUOU', 'DPRLY',\n",
       "       'HQLFX', 'VMIXC', 'TIGCN', 'ZHKQH', 'QEDKA', 'TAYED', 'UEQCN',\n",
       "       'KWCGS', 'NMZMB', 'KHOHL', 'WYPCV', 'JNNDV', 'REYWW', 'COZYF',\n",
       "       'GDTUG', 'ESVFX', 'DQVOX', 'YEABT', 'XKBBP', 'YDFTB', 'ZMYDI',\n",
       "       'NBDZE', 'GYNUY', 'KELDT', 'GCXOG', 'MMUGC', 'ULCHO', 'AEDTT',\n",
       "       'BGNAB', 'FTOKS', 'IASEM', 'BRCQK', 'JYYZN', 'FZWLA', 'ZUCBB',\n",
       "       'RRZXV', 'ZGGJQ', 'MRQPD', 'WXTFM', 'WSNYV', 'BLFKI', 'YIXTG',\n",
       "       'XXRJH', 'MZYYP', 'WOTOA', 'LTHWZ', 'TMWGK', 'ZXGTM', 'ICJLE',\n",
       "       'LWCKY', 'XWJNM', 'NFBQO', 'IMCSQ', 'KDVAH', 'OKLJZ', 'TVIPC',\n",
       "       'WOYBS', 'YCCLG', 'ZUCQA', 'FHUDV', 'RSEUB', 'SXYQF', 'DVDPX',\n",
       "       'VGNCL', 'XJLQL', 'QGTPL', 'DGDPN', 'LFNUZ', 'JYQDL', 'RMZZI',\n",
       "       'PJZWK', 'OQFWK', 'LFANS', 'OMLRE', 'OWYYV', 'LGGIV', 'QPDJR',\n",
       "       'ESESN', 'FJMOJ', 'FJTEO', 'VKKRU', 'CNBOL', 'GZYPS', 'VUWZL',\n",
       "       'AUQDC', 'ZMLQK', 'VCVXV', 'JPMRA', 'DALAF', 'BBFLA', 'IOKVP',\n",
       "       'UGXRR', 'IERWA', 'BXWTU', 'HYFJL', 'YRYQU', 'XDNBV', 'SNEUW',\n",
       "       'TRZGW', 'NPODI', 'JRUKF', 'AATFJ', 'TIGCE', 'OKEIR', 'QJVKH',\n",
       "       'TSEUP', 'JTFJI', 'DTPES', 'WDFXN', 'YFUVH', 'PHEIL', 'JKUUT',\n",
       "       'CAGTD', 'LCDLW', 'GJQUV', 'ETSQN', 'IFWAG', 'IGQRL', 'QKLSU',\n",
       "       'ENSNC', 'BZDXJ', 'ZUYHU', 'LWIEA', 'NLFQB', 'YZANL', 'PMENZ',\n",
       "       'ZOKHF', 'XLRGG', 'NGIQF', 'UMYTA', 'LQMQQ', 'REJDP', 'AXIDW',\n",
       "       'KVXIP', 'AYCDN', 'GWKFH', 'BCWRV', 'JUAEC', 'JMTQA', 'OKMQB',\n",
       "       'ZVWZS', 'BMBHU', 'OJCVH', 'RSJGJ', 'SHIKZ', 'BTGAL', 'NLRFG',\n",
       "       'LMXXM', 'TOVFA', 'WPPCB', 'USSPC', 'YEXAZ', 'AEGXS', 'BTDWM',\n",
       "       'RCCTX', 'XAYZH', 'YZWFL', 'SYDFX', 'PTDIQ', 'DMLQP', 'IRKLS',\n",
       "       'XKGUD', 'HDJEL', 'MWQIQ', 'OUQBZ', 'BABTB', 'WYXBX', 'XJWZK',\n",
       "       'FOSBM', 'JSZON', 'JZDFW', 'VMWZF', 'RTVCA', 'GOWVM', 'ODCCH',\n",
       "       'VEYEA', 'LYGOL', 'LPOJA', 'OVINL', 'YBNCI', 'VSPGA', 'YAVYP',\n",
       "       'EEPWU', 'IZTXH', 'PRUMP', 'MPZAN', 'TZIRW', 'GLKPJ', 'LCSNZ',\n",
       "       'PMSKX', 'HYFCN', 'DQIRW', 'NIPNV', 'GMCLD', 'PZXPR', 'IQOEY',\n",
       "       'NAYVI', 'AHCJD', 'ELXNQ', 'OEWKZ', 'IWRZM', 'CRNIF', 'EHYML',\n",
       "       'ECRAC', 'IFKUQ', 'WPNBJ', 'HMHUP', 'HZUIY', 'KOGLJ', 'JRNPL',\n",
       "       'YPLTJ', 'KNDRJ', 'WRULG', 'DMRQJ', 'WWTDO', 'MHSRG'], dtype='<U5')"
      ]
     },
     "execution_count": 96,
     "metadata": {},
     "output_type": "execute_result"
    }
   ],
   "source": [
    "#Hàm take() được sử dụng để trả về các phần tử trong các chỉ số vị trí đã cho dọc theo một trục\n",
    "ticker_subset = tickers.take(np.random.permutation(N)[:1000])\n",
    "ticker_subset"
   ]
  },
  {
   "cell_type": "code",
   "execution_count": 97,
   "id": "4d13ca67-5c73-4a43-984a-3e1daa46073d",
   "metadata": {},
   "outputs": [
    {
     "data": {
      "text/plain": [
       "VQGXK   -0.380300\n",
       "YUYQW    0.450547\n",
       "IEUQU    1.287444\n",
       "UNMZU   -0.208603\n",
       "UWJHO    0.021144\n",
       "           ...   \n",
       "KNDRJ    0.233279\n",
       "WRULG   -0.181524\n",
       "DMRQJ   -0.335867\n",
       "WWTDO    0.202772\n",
       "MHSRG    0.478918\n",
       "Length: 1000, dtype: float64"
      ]
     },
     "execution_count": 97,
     "metadata": {},
     "output_type": "execute_result"
    }
   ],
   "source": [
    "port = pd.Series(0.7 * fac1 - 1.2 * fac2 + 0.3 * fac3 + rand(1000),\n",
    "                 index=ticker_subset)\n",
    "port"
   ]
  },
  {
   "cell_type": "code",
   "execution_count": 98,
   "id": "11f2aaa0-eded-4b87-930b-77c99ddbbb6b",
   "metadata": {},
   "outputs": [
    {
     "data": {
      "text/html": [
       "<div>\n",
       "<style scoped>\n",
       "    .dataframe tbody tr th:only-of-type {\n",
       "        vertical-align: middle;\n",
       "    }\n",
       "\n",
       "    .dataframe tbody tr th {\n",
       "        vertical-align: top;\n",
       "    }\n",
       "\n",
       "    .dataframe thead th {\n",
       "        text-align: right;\n",
       "    }\n",
       "</style>\n",
       "<table border=\"1\" class=\"dataframe\">\n",
       "  <thead>\n",
       "    <tr style=\"text-align: right;\">\n",
       "      <th></th>\n",
       "      <th>f1</th>\n",
       "      <th>f2</th>\n",
       "      <th>f3</th>\n",
       "    </tr>\n",
       "  </thead>\n",
       "  <tbody>\n",
       "    <tr>\n",
       "      <th>VQGXK</th>\n",
       "      <td>0.864171</td>\n",
       "      <td>0.911288</td>\n",
       "      <td>0.245916</td>\n",
       "    </tr>\n",
       "    <tr>\n",
       "      <th>YUYQW</th>\n",
       "      <td>0.706161</td>\n",
       "      <td>0.521723</td>\n",
       "      <td>0.879956</td>\n",
       "    </tr>\n",
       "    <tr>\n",
       "      <th>IEUQU</th>\n",
       "      <td>0.796534</td>\n",
       "      <td>0.175531</td>\n",
       "      <td>0.160667</td>\n",
       "    </tr>\n",
       "    <tr>\n",
       "      <th>UNMZU</th>\n",
       "      <td>0.458350</td>\n",
       "      <td>0.962639</td>\n",
       "      <td>0.181939</td>\n",
       "    </tr>\n",
       "    <tr>\n",
       "      <th>UWJHO</th>\n",
       "      <td>0.071413</td>\n",
       "      <td>0.169414</td>\n",
       "      <td>0.038669</td>\n",
       "    </tr>\n",
       "    <tr>\n",
       "      <th>...</th>\n",
       "      <td>...</td>\n",
       "      <td>...</td>\n",
       "      <td>...</td>\n",
       "    </tr>\n",
       "    <tr>\n",
       "      <th>KNDRJ</th>\n",
       "      <td>0.218522</td>\n",
       "      <td>0.472768</td>\n",
       "      <td>0.946079</td>\n",
       "    </tr>\n",
       "    <tr>\n",
       "      <th>WRULG</th>\n",
       "      <td>0.262808</td>\n",
       "      <td>0.764113</td>\n",
       "      <td>0.755980</td>\n",
       "    </tr>\n",
       "    <tr>\n",
       "      <th>DMRQJ</th>\n",
       "      <td>0.095439</td>\n",
       "      <td>0.735338</td>\n",
       "      <td>0.532932</td>\n",
       "    </tr>\n",
       "    <tr>\n",
       "      <th>WWTDO</th>\n",
       "      <td>0.241102</td>\n",
       "      <td>0.868134</td>\n",
       "      <td>0.996483</td>\n",
       "    </tr>\n",
       "    <tr>\n",
       "      <th>MHSRG</th>\n",
       "      <td>0.860384</td>\n",
       "      <td>0.655113</td>\n",
       "      <td>0.898774</td>\n",
       "    </tr>\n",
       "  </tbody>\n",
       "</table>\n",
       "<p>1000 rows × 3 columns</p>\n",
       "</div>"
      ],
      "text/plain": [
       "             f1        f2        f3\n",
       "VQGXK  0.864171  0.911288  0.245916\n",
       "YUYQW  0.706161  0.521723  0.879956\n",
       "IEUQU  0.796534  0.175531  0.160667\n",
       "UNMZU  0.458350  0.962639  0.181939\n",
       "UWJHO  0.071413  0.169414  0.038669\n",
       "...         ...       ...       ...\n",
       "KNDRJ  0.218522  0.472768  0.946079\n",
       "WRULG  0.262808  0.764113  0.755980\n",
       "DMRQJ  0.095439  0.735338  0.532932\n",
       "WWTDO  0.241102  0.868134  0.996483\n",
       "MHSRG  0.860384  0.655113  0.898774\n",
       "\n",
       "[1000 rows x 3 columns]"
      ]
     },
     "execution_count": 98,
     "metadata": {},
     "output_type": "execute_result"
    }
   ],
   "source": [
    "factors = pd.DataFrame({'f1': fac1, 'f2': fac2, 'f3': fac3},\n",
    "                    index=ticker_subset)\n",
    "factors"
   ]
  },
  {
   "cell_type": "markdown",
   "id": "2c53b5be-35e2-4b8e-ac49-126e84a9b885",
   "metadata": {},
   "source": [
    "Tương quan vectơ giữa mỗi yếu tố và danh mục đầu tư có thể không chỉ ra quá nhiều:"
   ]
  },
  {
   "cell_type": "code",
   "execution_count": 99,
   "id": "65b66ba6-fa71-45c8-a804-9163921a4226",
   "metadata": {},
   "outputs": [
    {
     "data": {
      "text/plain": [
       "f1    0.414614\n",
       "f2   -0.684465\n",
       "f3    0.197160\n",
       "dtype: float64"
      ]
     },
     "execution_count": 99,
     "metadata": {},
     "output_type": "execute_result"
    }
   ],
   "source": [
    "factors.corrwith(port)"
   ]
  },
  {
   "cell_type": "markdown",
   "id": "061e727e-bc97-431e-87e6-cabcce289608",
   "metadata": {},
   "source": [
    "Cách tiêu chuẩn để tính toán các yếu tố rủi ro là bằng hồi quy bình phương nhỏ nhất"
   ]
  },
  {
   "cell_type": "markdown",
   "id": "75d9f7ba-6811-42c8-876f-6320854dd78f",
   "metadata": {},
   "source": [
    "ĐOẠN CODE DƯỚI ĐÂY KHÔNG THỰC HIỆN ĐƯỢC, THAY BẰNG ĐOẠN PHÍA DƯỚI NÓ"
   ]
  },
  {
   "cell_type": "code",
   "execution_count": 100,
   "id": "ba08c53e",
   "metadata": {},
   "outputs": [
    {
     "name": "stdout",
     "output_type": "stream",
     "text": [
      "Note: you may need to restart the kernel to use updated packages.\n"
     ]
    },
    {
     "name": "stderr",
     "output_type": "stream",
     "text": [
      "WARNING: Ignoring invalid distribution -andas (c:\\users\\admin\\anaconda3\\lib\\site-packages)\n",
      "WARNING: Ignoring invalid distribution -andas (c:\\users\\admin\\anaconda3\\lib\\site-packages)\n",
      "ERROR: Could not find a version that satisfies the requirement sklearn.linear_model (from versions: none)\n",
      "ERROR: No matching distribution found for sklearn.linear_model\n",
      "WARNING: Ignoring invalid distribution -andas (c:\\users\\admin\\anaconda3\\lib\\site-packages)\n",
      "WARNING: Ignoring invalid distribution -andas (c:\\users\\admin\\anaconda3\\lib\\site-packages)\n",
      "WARNING: Ignoring invalid distribution -andas (c:\\users\\admin\\anaconda3\\lib\\site-packages)\n"
     ]
    }
   ],
   "source": [
    "pip install sklearn.linear_model"
   ]
  },
  {
   "cell_type": "code",
   "execution_count": 101,
   "id": "a3b3a748-ea31-48a1-a701-24bdd9783301",
   "metadata": {},
   "outputs": [],
   "source": [
    "from sklearn.linear_model import LinearRegression"
   ]
  },
  {
   "cell_type": "code",
   "execution_count": 102,
   "id": "766a2b59-ebf2-4c6a-b276-41c5ebebdb2b",
   "metadata": {},
   "outputs": [
    {
     "data": {
      "text/plain": [
       "[0.706374, -1.167801, 0.319738]"
      ]
     },
     "execution_count": 102,
     "metadata": {},
     "output_type": "execute_result"
    }
   ],
   "source": [
    "factors_array = list(np.round(LinearRegression().fit(factors, port).coef_,6))\n",
    "factors_array"
   ]
  },
  {
   "cell_type": "code",
   "execution_count": 103,
   "id": "6555bf61-4e1b-4f66-8215-5080a95ee08a",
   "metadata": {},
   "outputs": [],
   "source": [
    "intercept = LinearRegression().fit( factors, port).intercept_\n",
    "\n",
    "intercept = round(intercept,6)"
   ]
  },
  {
   "cell_type": "code",
   "execution_count": 104,
   "id": "51b215de-8161-4929-92ed-91834073582f",
   "metadata": {},
   "outputs": [],
   "source": [
    "factors_array.append(intercept)\n",
    "index = ['f1','f2','f3','intercept']"
   ]
  },
  {
   "cell_type": "code",
   "execution_count": 105,
   "id": "5f4865f5-e351-4419-bc74-0fff198ddc5e",
   "metadata": {},
   "outputs": [
    {
     "data": {
      "text/plain": [
       "f1           0.706374\n",
       "f2          -1.167801\n",
       "f3           0.319738\n",
       "intercept    0.463244\n",
       "dtype: float64"
      ]
     },
     "execution_count": 105,
     "metadata": {},
     "output_type": "execute_result"
    }
   ],
   "source": [
    "lm = pd.Series(factors_array, index = index)\n",
    "lm"
   ]
  },
  {
   "cell_type": "markdown",
   "id": "e1e4f341",
   "metadata": {},
   "source": [
    "2.2 Decile and Quartile Analysis\n"
   ]
  },
  {
   "cell_type": "markdown",
   "id": "15468893",
   "metadata": {},
   "source": [
    "Phân tích dữ liệu dựa trên số lượng mẫu là một công cụ quan trọng khác để phân tích tài\n",
    "chính. Ví dụ: hiệu suất của danh mục cổ phiếu có thể được chia thành các phần tư (bốn\n",
    "phần có kích thước bằng nhau) dựa trên giá trên thu nhập của mỗi cổ phiếu. Sử dụngpan\n",
    "das.qcut kết hợp với chia nhóm làm cho phân tích lượng tử trở nên đơn giản một cách\n",
    "hợp lý.\n",
    "\n",
    "Ví dụ, hãy xem xét một xu hướng đơn giản sau hoặc chiến lược giao dịch chỉ số S&P 500\n",
    "thông qua quỹ giao dịch hối đoái SPY. Bạn có thể tải xuống lịch sử giá từ Yahoo!Finance:"
   ]
  },
  {
   "cell_type": "code",
   "execution_count": 106,
   "id": "13939718-dd4a-4119-b054-accc64c46e20",
   "metadata": {},
   "outputs": [],
   "source": [
    "from pandas_datareader import data as web\n",
    "data = web.DataReader('SPY','yahoo','2006-01-01')"
   ]
  },
  {
   "cell_type": "code",
   "execution_count": 107,
   "id": "6d22ff3e",
   "metadata": {},
   "outputs": [
    {
     "data": {
      "text/html": [
       "<div>\n",
       "<style scoped>\n",
       "    .dataframe tbody tr th:only-of-type {\n",
       "        vertical-align: middle;\n",
       "    }\n",
       "\n",
       "    .dataframe tbody tr th {\n",
       "        vertical-align: top;\n",
       "    }\n",
       "\n",
       "    .dataframe thead th {\n",
       "        text-align: right;\n",
       "    }\n",
       "</style>\n",
       "<table border=\"1\" class=\"dataframe\">\n",
       "  <thead>\n",
       "    <tr style=\"text-align: right;\">\n",
       "      <th></th>\n",
       "      <th>High</th>\n",
       "      <th>Low</th>\n",
       "      <th>Open</th>\n",
       "      <th>Close</th>\n",
       "      <th>Volume</th>\n",
       "      <th>Adj Close</th>\n",
       "    </tr>\n",
       "    <tr>\n",
       "      <th>Date</th>\n",
       "      <th></th>\n",
       "      <th></th>\n",
       "      <th></th>\n",
       "      <th></th>\n",
       "      <th></th>\n",
       "      <th></th>\n",
       "    </tr>\n",
       "  </thead>\n",
       "  <tbody>\n",
       "    <tr>\n",
       "      <th>2006-01-03</th>\n",
       "      <td>127.000000</td>\n",
       "      <td>124.389999</td>\n",
       "      <td>125.190002</td>\n",
       "      <td>126.699997</td>\n",
       "      <td>73256700.0</td>\n",
       "      <td>91.405464</td>\n",
       "    </tr>\n",
       "    <tr>\n",
       "      <th>2006-01-04</th>\n",
       "      <td>127.489998</td>\n",
       "      <td>126.699997</td>\n",
       "      <td>126.860001</td>\n",
       "      <td>127.300003</td>\n",
       "      <td>51899600.0</td>\n",
       "      <td>91.838326</td>\n",
       "    </tr>\n",
       "    <tr>\n",
       "      <th>2006-01-05</th>\n",
       "      <td>127.589996</td>\n",
       "      <td>126.879997</td>\n",
       "      <td>127.150002</td>\n",
       "      <td>127.379997</td>\n",
       "      <td>47307500.0</td>\n",
       "      <td>91.896027</td>\n",
       "    </tr>\n",
       "    <tr>\n",
       "      <th>2006-01-06</th>\n",
       "      <td>128.580002</td>\n",
       "      <td>127.360001</td>\n",
       "      <td>128.020004</td>\n",
       "      <td>128.440002</td>\n",
       "      <td>62885900.0</td>\n",
       "      <td>92.660774</td>\n",
       "    </tr>\n",
       "    <tr>\n",
       "      <th>2006-01-09</th>\n",
       "      <td>129.059998</td>\n",
       "      <td>128.380005</td>\n",
       "      <td>128.419998</td>\n",
       "      <td>128.770004</td>\n",
       "      <td>43527400.0</td>\n",
       "      <td>92.898827</td>\n",
       "    </tr>\n",
       "    <tr>\n",
       "      <th>...</th>\n",
       "      <td>...</td>\n",
       "      <td>...</td>\n",
       "      <td>...</td>\n",
       "      <td>...</td>\n",
       "      <td>...</td>\n",
       "      <td>...</td>\n",
       "    </tr>\n",
       "    <tr>\n",
       "      <th>2022-11-28</th>\n",
       "      <td>400.809998</td>\n",
       "      <td>395.109985</td>\n",
       "      <td>399.089996</td>\n",
       "      <td>395.910004</td>\n",
       "      <td>67881600.0</td>\n",
       "      <td>395.910004</td>\n",
       "    </tr>\n",
       "    <tr>\n",
       "      <th>2022-11-29</th>\n",
       "      <td>397.299988</td>\n",
       "      <td>393.299988</td>\n",
       "      <td>396.049988</td>\n",
       "      <td>395.230011</td>\n",
       "      <td>52310000.0</td>\n",
       "      <td>395.230011</td>\n",
       "    </tr>\n",
       "    <tr>\n",
       "      <th>2022-11-30</th>\n",
       "      <td>407.679993</td>\n",
       "      <td>393.480011</td>\n",
       "      <td>395.489990</td>\n",
       "      <td>407.679993</td>\n",
       "      <td>144566700.0</td>\n",
       "      <td>407.679993</td>\n",
       "    </tr>\n",
       "    <tr>\n",
       "      <th>2022-12-01</th>\n",
       "      <td>410.000000</td>\n",
       "      <td>404.750000</td>\n",
       "      <td>408.769989</td>\n",
       "      <td>407.380005</td>\n",
       "      <td>76176800.0</td>\n",
       "      <td>407.380005</td>\n",
       "    </tr>\n",
       "    <tr>\n",
       "      <th>2022-12-02</th>\n",
       "      <td>404.089996</td>\n",
       "      <td>402.140015</td>\n",
       "      <td>402.250000</td>\n",
       "      <td>402.779999</td>\n",
       "      <td>15089893.0</td>\n",
       "      <td>402.779999</td>\n",
       "    </tr>\n",
       "  </tbody>\n",
       "</table>\n",
       "<p>4260 rows × 6 columns</p>\n",
       "</div>"
      ],
      "text/plain": [
       "                  High         Low        Open       Close       Volume  \\\n",
       "Date                                                                      \n",
       "2006-01-03  127.000000  124.389999  125.190002  126.699997   73256700.0   \n",
       "2006-01-04  127.489998  126.699997  126.860001  127.300003   51899600.0   \n",
       "2006-01-05  127.589996  126.879997  127.150002  127.379997   47307500.0   \n",
       "2006-01-06  128.580002  127.360001  128.020004  128.440002   62885900.0   \n",
       "2006-01-09  129.059998  128.380005  128.419998  128.770004   43527400.0   \n",
       "...                ...         ...         ...         ...          ...   \n",
       "2022-11-28  400.809998  395.109985  399.089996  395.910004   67881600.0   \n",
       "2022-11-29  397.299988  393.299988  396.049988  395.230011   52310000.0   \n",
       "2022-11-30  407.679993  393.480011  395.489990  407.679993  144566700.0   \n",
       "2022-12-01  410.000000  404.750000  408.769989  407.380005   76176800.0   \n",
       "2022-12-02  404.089996  402.140015  402.250000  402.779999   15089893.0   \n",
       "\n",
       "             Adj Close  \n",
       "Date                    \n",
       "2006-01-03   91.405464  \n",
       "2006-01-04   91.838326  \n",
       "2006-01-05   91.896027  \n",
       "2006-01-06   92.660774  \n",
       "2006-01-09   92.898827  \n",
       "...                ...  \n",
       "2022-11-28  395.910004  \n",
       "2022-11-29  395.230011  \n",
       "2022-11-30  407.679993  \n",
       "2022-12-01  407.380005  \n",
       "2022-12-02  402.779999  \n",
       "\n",
       "[4260 rows x 6 columns]"
      ]
     },
     "execution_count": 107,
     "metadata": {},
     "output_type": "execute_result"
    }
   ],
   "source": [
    "data"
   ]
  },
  {
   "cell_type": "code",
   "execution_count": 108,
   "id": "d2b2575c",
   "metadata": {},
   "outputs": [
    {
     "data": {
      "text/plain": [
       "High         4260\n",
       "Low          4260\n",
       "Open         4260\n",
       "Close        4260\n",
       "Volume       4260\n",
       "Adj Close    4260\n",
       "dtype: int64"
      ]
     },
     "execution_count": 108,
     "metadata": {},
     "output_type": "execute_result"
    }
   ],
   "source": [
    "data.count()\n"
   ]
  },
  {
   "cell_type": "code",
   "execution_count": 109,
   "id": "b7294930",
   "metadata": {},
   "outputs": [
    {
     "data": {
      "text/plain": [
       "High         0\n",
       "Low          0\n",
       "Open         0\n",
       "Close        0\n",
       "Volume       0\n",
       "Adj Close    0\n",
       "dtype: int64"
      ]
     },
     "execution_count": 109,
     "metadata": {},
     "output_type": "execute_result"
    }
   ],
   "source": [
    "data.isnull().sum()"
   ]
  },
  {
   "cell_type": "markdown",
   "id": "d5a6bd84",
   "metadata": {},
   "source": [
    "Bây giờ, chúng ta sẽ tính toán lợi nhuận hàng ngày và một hàm để chuyển đổi lợi nhuận\n",
    "thành tín hiệu xu hướng được hình thành từ tổng di chuyển có độ trễ:\n"
   ]
  },
  {
   "cell_type": "code",
   "execution_count": 110,
   "id": "5790c18e",
   "metadata": {},
   "outputs": [
    {
     "data": {
      "text/plain": [
       "Date\n",
       "2006-01-03     91.405464\n",
       "2006-01-04     91.838326\n",
       "2006-01-05     91.896027\n",
       "2006-01-06     92.660774\n",
       "2006-01-09     92.898827\n",
       "                 ...    \n",
       "2022-11-28    395.910004\n",
       "2022-11-29    395.230011\n",
       "2022-11-30    407.679993\n",
       "2022-12-01    407.380005\n",
       "2022-12-02    402.779999\n",
       "Name: Adj Close, Length: 4260, dtype: float64"
      ]
     },
     "execution_count": 110,
     "metadata": {},
     "output_type": "execute_result"
    }
   ],
   "source": [
    "px = data['Adj Close']\n",
    "px"
   ]
  },
  {
   "cell_type": "code",
   "execution_count": 111,
   "id": "ea6f330e",
   "metadata": {},
   "outputs": [
    {
     "data": {
      "text/plain": [
       "Date\n",
       "2006-01-03         NaN\n",
       "2006-01-04    0.004736\n",
       "2006-01-05    0.000628\n",
       "2006-01-06    0.008322\n",
       "2006-01-09    0.002569\n",
       "                ...   \n",
       "2022-11-28   -0.015957\n",
       "2022-11-29   -0.001718\n",
       "2022-11-30    0.031501\n",
       "2022-12-01   -0.000736\n",
       "2022-12-02   -0.011292\n",
       "Name: Adj Close, Length: 4260, dtype: float64"
      ]
     },
     "execution_count": 111,
     "metadata": {},
     "output_type": "execute_result"
    }
   ],
   "source": [
    "returns = px.pct_change()\n",
    "#Tỷ lệ thay đổi với phần tử trước nó\n",
    "returns"
   ]
  },
  {
   "cell_type": "code",
   "execution_count": 112,
   "id": "d0584acb",
   "metadata": {},
   "outputs": [],
   "source": [
    "def to_index(rets):\n",
    "    index = (1 + rets).cumprod() #tính tích lũy so với phần tử đầu tiên\n",
    "    first_loc = max(index.notnull().argmax() - 1, 0) #argmax: trả về chỉ số của max\n",
    "    index.values[first_loc] = 1   #Gán 1 cho giá trị đầu\n",
    "    return index\n"
   ]
  },
  {
   "cell_type": "code",
   "execution_count": 113,
   "id": "7fd58071",
   "metadata": {},
   "outputs": [
    {
     "data": {
      "text/plain": [
       "Date\n",
       "2006-01-03    1.000000\n",
       "2006-01-04    1.004736\n",
       "2006-01-05    1.005367\n",
       "2006-01-06    1.013733\n",
       "2006-01-09    1.016338\n",
       "                ...   \n",
       "2022-11-28    4.331360\n",
       "2022-11-29    4.323921\n",
       "2022-11-30    4.460127\n",
       "2022-12-01    4.456845\n",
       "2022-12-02    4.406520\n",
       "Name: Adj Close, Length: 4260, dtype: float64"
      ]
     },
     "execution_count": 113,
     "metadata": {},
     "output_type": "execute_result"
    }
   ],
   "source": [
    "to_index(returns)"
   ]
  },
  {
   "cell_type": "code",
   "execution_count": 114,
   "id": "3d994dd7",
   "metadata": {},
   "outputs": [
    {
     "data": {
      "text/plain": [
       "Date\n",
       "2006-01-03         NaN\n",
       "2006-01-04    1.004736\n",
       "2006-01-05    1.005367\n",
       "2006-01-06    1.013733\n",
       "2006-01-09    1.016338\n",
       "                ...   \n",
       "2022-11-28    4.331360\n",
       "2022-11-29    4.323921\n",
       "2022-11-30    4.460127\n",
       "2022-12-01    4.456845\n",
       "2022-12-02    4.406520\n",
       "Name: Adj Close, Length: 4260, dtype: float64"
      ]
     },
     "execution_count": 114,
     "metadata": {},
     "output_type": "execute_result"
    }
   ],
   "source": [
    "(1 + returns).cumprod()"
   ]
  },
  {
   "cell_type": "markdown",
   "id": "4f604b6a",
   "metadata": {},
   "source": [
    "=> hàm to_index() trên tác dụng gán 1 cho giá trị đầu tiên và tính sự thay đổi các phần tử phía sau so với phần tử đầu tiên đó"
   ]
  },
  {
   "cell_type": "code",
   "execution_count": 115,
   "id": "1ea107ce",
   "metadata": {},
   "outputs": [
    {
     "data": {
      "text/plain": [
       "Date\n",
       "2006-01-03         NaN\n",
       "2006-01-04    0.004736\n",
       "2006-01-05    0.000628\n",
       "2006-01-06    0.008322\n",
       "2006-01-09    0.002569\n",
       "                ...   \n",
       "2022-11-28   -0.015957\n",
       "2022-11-29   -0.001718\n",
       "2022-11-30    0.031501\n",
       "2022-12-01   -0.000736\n",
       "2022-12-02   -0.011292\n",
       "Name: Adj Close, Length: 4260, dtype: float64"
      ]
     },
     "execution_count": 115,
     "metadata": {},
     "output_type": "execute_result"
    }
   ],
   "source": [
    "returns"
   ]
  },
  {
   "cell_type": "code",
   "execution_count": 116,
   "id": "6105d058",
   "metadata": {},
   "outputs": [],
   "source": [
    "def trend_signal(rets, lookback, lag):\n",
    "    signal = pd.Series.rolling(rets, lookback, min_periods=lookback - 5).sum()\n",
    "    #rets: khung dữ liệu truyền vào\n",
    "    #min_period: số lượng phần tử tối thiểu để tính tổng cuộn, nếu số phần tử nhỏ hơn thì sẽ là Nan\n",
    "    #lookback: số phần tử cần tính tổng cuộn\n",
    "\n",
    "    #KIỂM TRA:\n",
    "    print(signal[93:])\n",
    "    return signal.shift(lag) #dịch index lên lag phần tử, hoặc dịch value xuống lag phần tử, ở phía bên dưới là 3"
   ]
  },
  {
   "cell_type": "markdown",
   "id": "cadf62cf",
   "metadata": {},
   "source": [
    "Sử dụng chức năng này, chúng ta có thể (một cách đơn giản) tạo và thử nghiệm một\n",
    "chiến lược giao dịch đưa ra tín hiệu xung lượng:"
   ]
  },
  {
   "cell_type": "code",
   "execution_count": 117,
   "id": "415f940d",
   "metadata": {},
   "outputs": [
    {
     "name": "stdout",
     "output_type": "stream",
     "text": [
      "Date\n",
      "2006-05-17         NaN\n",
      "2006-05-18         NaN\n",
      "2006-05-19    0.008878\n",
      "2006-05-22    0.001246\n",
      "2006-05-23   -0.006365\n",
      "                ...   \n",
      "2022-11-28    0.033160\n",
      "2022-11-29    0.032265\n",
      "2022-11-30    0.075190\n",
      "2022-12-01    0.083303\n",
      "2022-12-02    0.077263\n",
      "Name: Adj Close, Length: 4167, dtype: float64\n"
     ]
    },
    {
     "data": {
      "text/plain": [
       "Date\n",
       "2006-01-03         NaN\n",
       "2006-01-04         NaN\n",
       "2006-01-05         NaN\n",
       "2006-01-06         NaN\n",
       "2006-01-09         NaN\n",
       "                ...   \n",
       "2022-11-28    0.063283\n",
       "2022-11-29    0.067696\n",
       "2022-11-30    0.064095\n",
       "2022-12-01    0.033160\n",
       "2022-12-02    0.032265\n",
       "Name: Adj Close, Length: 4260, dtype: float64"
      ]
     },
     "execution_count": 117,
     "metadata": {},
     "output_type": "execute_result"
    }
   ],
   "source": [
    "signal = trend_signal(returns, 100, 3)\n",
    "signal\n",
    "#KIỂM TRA HÀM TRÊN\n",
    "#print(signal[93:])\n"
   ]
  },
  {
   "cell_type": "code",
   "execution_count": 118,
   "id": "e93e4a4c",
   "metadata": {},
   "outputs": [],
   "source": [
    "trade_friday = signal.resample('B').fillna(method='ffill')  #B: Lấy mẫu từ T2 - T6\n"
   ]
  },
  {
   "cell_type": "code",
   "execution_count": 119,
   "id": "44773033",
   "metadata": {},
   "outputs": [],
   "source": [
    "trade_rets = trade_friday.shift(1) * returns"
   ]
  },
  {
   "cell_type": "markdown",
   "id": "fb69d633",
   "metadata": {},
   "source": [
    "Sau đó, chúng tôi có thể chuyển đổi chiến lược trả về thành chỉ mục trả lại và vẽ biểu đồ\n",
    "của chúng (Hình 1):\n"
   ]
  },
  {
   "cell_type": "code",
   "execution_count": 120,
   "id": "080cdac3",
   "metadata": {},
   "outputs": [
    {
     "data": {
      "text/plain": [
       "<AxesSubplot:xlabel='Date'>"
      ]
     },
     "execution_count": 120,
     "metadata": {},
     "output_type": "execute_result"
    },
    {
     "data": {
      "image/png": "[encoded data removed]",
      "text/plain": [
       "<Figure size 720x432 with 1 Axes>"
      ]
     },
     "metadata": {
      "needs_background": "light"
     },
     "output_type": "display_data"
    }
   ],
   "source": [
    "to_index(trade_rets).plot()"
   ]
  },
  {
   "cell_type": "markdown",
   "id": "dc6e6256",
   "metadata": {},
   "source": [
    "Giả sử bạn muốn phân tách hiệu suất chiến lược thành các giai đoạn giao dịch ngày càng\n",
    "ít biến động hơn. Theo dõi độ lệch chuẩn hàng năm theo dõi một năm là một phép đo\n",
    "đơn giản về sự biến động và chúng ta có thể tính toán tỷ lệ Sharpe để đánh giá tỷ lệ phần\n",
    "thưởng trên rủi ro trong các chế độ biến động khác nhau:\n"
   ]
  },
  {
   "cell_type": "code",
   "execution_count": 121,
   "id": "dccd2804",
   "metadata": {},
   "outputs": [
    {
     "data": {
      "text/plain": [
       "Date\n",
       "2006-01-03         NaN\n",
       "2006-01-04         NaN\n",
       "2006-01-05         NaN\n",
       "2006-01-06         NaN\n",
       "2006-01-09         NaN\n",
       "                ...   \n",
       "2022-11-28    0.239531\n",
       "2022-11-29    0.239293\n",
       "2022-11-30    0.240899\n",
       "2022-12-01    0.240751\n",
       "2022-12-02    0.240696\n",
       "Name: Adj Close, Length: 4260, dtype: float64"
      ]
     },
     "execution_count": 121,
     "metadata": {},
     "output_type": "execute_result"
    }
   ],
   "source": [
    "vol = pd.Series.rolling(returns, 250, min_periods=200).std() * np.sqrt(250) #tính độ lệch chuẩn\n",
    "vol"
   ]
  },
  {
   "cell_type": "code",
   "execution_count": 122,
   "id": "b873cd56",
   "metadata": {},
   "outputs": [],
   "source": [
    "def sharpe(rets, ann=250):\n",
    " return rets.mean() / rets.std() * np.sqrt(ann)"
   ]
  },
  {
   "cell_type": "markdown",
   "id": "73d127e6",
   "metadata": {},
   "source": [
    "Bây giờ, phân chia vào tứ phân vị với qcut và tổng hợp sharpe chúng tôi đạt được:"
   ]
  },
  {
   "cell_type": "code",
   "execution_count": 123,
   "id": "a0628381",
   "metadata": {},
   "outputs": [
    {
     "data": {
      "text/plain": [
       "Date\n",
       "2006-01-03               NaN\n",
       "2006-01-04               NaN\n",
       "2006-01-05               NaN\n",
       "2006-01-06               NaN\n",
       "2006-01-09               NaN\n",
       "                   ...      \n",
       "2022-11-28    (0.198, 0.457]\n",
       "2022-11-29    (0.198, 0.457]\n",
       "2022-11-30    (0.198, 0.457]\n",
       "2022-12-01    (0.198, 0.457]\n",
       "2022-12-02    (0.198, 0.457]\n",
       "Name: Adj Close, Length: 4260, dtype: category\n",
       "Categories (4, interval[float64, right]): [(0.066, 0.119] < (0.119, 0.153] < (0.153, 0.198] < (0.198, 0.457]]"
      ]
     },
     "execution_count": 123,
     "metadata": {},
     "output_type": "execute_result"
    }
   ],
   "source": [
    "pd.qcut(vol, 4) #4: tứ phân vị"
   ]
  },
  {
   "cell_type": "code",
   "execution_count": 124,
   "id": "1b2fe153",
   "metadata": {},
   "outputs": [
    {
     "data": {
      "text/plain": [
       "Date\n",
       "2006-01-03         NaN\n",
       "2006-01-04         NaN\n",
       "2006-01-05         NaN\n",
       "2006-01-06         NaN\n",
       "2006-01-09         NaN\n",
       "                ...   \n",
       "2022-11-28   -0.000964\n",
       "2022-11-29   -0.000109\n",
       "2022-11-30    0.002132\n",
       "2022-12-01   -0.000047\n",
       "2022-12-02   -0.000374\n",
       "Name: Adj Close, Length: 4414, dtype: float64"
      ]
     },
     "execution_count": 124,
     "metadata": {},
     "output_type": "execute_result"
    }
   ],
   "source": [
    "trade_rets"
   ]
  },
  {
   "cell_type": "code",
   "execution_count": 125,
   "id": "f7fe15a3",
   "metadata": {},
   "outputs": [
    {
     "data": {
      "text/plain": [
       "<pandas.core.groupby.generic.SeriesGroupBy object at 0x00000205BDDF34C0>"
      ]
     },
     "execution_count": 125,
     "metadata": {},
     "output_type": "execute_result"
    }
   ],
   "source": [
    "trade_rets.groupby(pd.qcut(vol, 4))"
   ]
  },
  {
   "cell_type": "code",
   "execution_count": 126,
   "id": "f3f6ef20",
   "metadata": {},
   "outputs": [
    {
     "data": {
      "text/plain": [
       "Adj Close\n",
       "(0.066, 0.119]    0.296278\n",
       "(0.119, 0.153]   -0.327384\n",
       "(0.153, 0.198]    0.276285\n",
       "(0.198, 0.457]    0.274366\n",
       "Name: Adj Close, dtype: float64"
      ]
     },
     "execution_count": 126,
     "metadata": {},
     "output_type": "execute_result"
    }
   ],
   "source": [
    "trade_rets.groupby(pd.qcut(vol, 4)).agg(sharpe)"
   ]
  },
  {
   "cell_type": "code",
   "execution_count": 127,
   "id": "a33c1a11",
   "metadata": {},
   "outputs": [],
   "source": [
    "#Tỷ lệ Sharpe là lợi nhuận trung bình kiếm được vượt quá tỷ lệ phi rủi ro trên mỗi đơn vị biến động hoặc tổng rủi ro. \n",
    "#Công thức \n",
    "\n",
    "#Tỷ lệ Sharpe = (Rp – Rf)/ SDp\n",
    "\n",
    "#Rp là sự trở lại của danh mục đầu tư\n",
    "#Rf là tỷ lệ không rủi ro\n",
    "#SDp là độ lệch chuẩn của lợi nhuận của danh mục đầu tư\n",
    "# https://www.analyticsvidhya.com/blog/2021/04/portfolio-optimization-using-mpt-in-python/"
   ]
  },
  {
   "cell_type": "markdown",
   "id": "3af65f40",
   "metadata": {},
   "source": [
    "Những kết quả này cho thấy rằng chiến lược hoạt động tốt nhất trong thời kỳ mà sự biến\n",
    "động là cao nhất."
   ]
  },
  {
   "cell_type": "markdown",
   "id": "de3e70df",
   "metadata": {},
   "source": [
    "More Example Applications"
   ]
  },
  {
   "cell_type": "markdown",
   "id": "68a66a33",
   "metadata": {},
   "source": [
    "3.1 Signal Frontier Analysis\n",
    "\n",
    "Phân tích biên giới tín hiệu"
   ]
  },
  {
   "cell_type": "markdown",
   "id": "738d20d1",
   "metadata": {},
   "source": [
    "Trong phần này, tôi sẽ mô tả một danh mục đầu tư động lượng mặt cắt ngang đơn giản\n",
    "và cho thấy cách bạn có thể khám phá một mạng lưới các tham số hóa mô hình. Đầu tiên,\n",
    "tôi sẽ tải giá lịch sử cho một danh mục các cổ phiếu tài chính và công nghệ:"
   ]
  },
  {
   "cell_type": "code",
   "execution_count": 128,
   "id": "bd271740",
   "metadata": {},
   "outputs": [],
   "source": [
    "import pandas_datareader.data as web"
   ]
  },
  {
   "cell_type": "code",
   "execution_count": 129,
   "id": "6f185f9d",
   "metadata": {},
   "outputs": [],
   "source": [
    "names = ['AAPL', 'GOOG', 'MSFT', 'GS', 'MS', 'BAC', 'C'] \n"
   ]
  },
  {
   "cell_type": "code",
   "execution_count": 130,
   "id": "a9218fc6",
   "metadata": {},
   "outputs": [],
   "source": [
    "def get_px(stock, start, end):\n",
    "    return web.get_data_yahoo(stock, start, end)['Adj Close']\n",
    "px = pd.DataFrame({n: get_px(n, '1/1/2009', '6/1/2012') for n in names})\n"
   ]
  },
  {
   "cell_type": "code",
   "execution_count": 131,
   "id": "1a8b3415",
   "metadata": {},
   "outputs": [
    {
     "data": {
      "text/html": [
       "<div>\n",
       "<style scoped>\n",
       "    .dataframe tbody tr th:only-of-type {\n",
       "        vertical-align: middle;\n",
       "    }\n",
       "\n",
       "    .dataframe tbody tr th {\n",
       "        vertical-align: top;\n",
       "    }\n",
       "\n",
       "    .dataframe thead th {\n",
       "        text-align: right;\n",
       "    }\n",
       "</style>\n",
       "<table border=\"1\" class=\"dataframe\">\n",
       "  <thead>\n",
       "    <tr style=\"text-align: right;\">\n",
       "      <th></th>\n",
       "      <th>AAPL</th>\n",
       "      <th>GOOG</th>\n",
       "      <th>MSFT</th>\n",
       "      <th>GS</th>\n",
       "      <th>MS</th>\n",
       "      <th>BAC</th>\n",
       "      <th>C</th>\n",
       "    </tr>\n",
       "    <tr>\n",
       "      <th>Date</th>\n",
       "      <th></th>\n",
       "      <th></th>\n",
       "      <th></th>\n",
       "      <th></th>\n",
       "      <th></th>\n",
       "      <th></th>\n",
       "      <th></th>\n",
       "    </tr>\n",
       "  </thead>\n",
       "  <tbody>\n",
       "    <tr>\n",
       "      <th>2008-12-31</th>\n",
       "      <td>2.598351</td>\n",
       "      <td>7.662529</td>\n",
       "      <td>14.534698</td>\n",
       "      <td>76.541870</td>\n",
       "      <td>12.305163</td>\n",
       "      <td>11.825974</td>\n",
       "      <td>55.394268</td>\n",
       "    </tr>\n",
       "    <tr>\n",
       "      <th>2009-01-02</th>\n",
       "      <td>2.762747</td>\n",
       "      <td>8.003003</td>\n",
       "      <td>15.200123</td>\n",
       "      <td>78.691467</td>\n",
       "      <td>13.033959</td>\n",
       "      <td>12.035952</td>\n",
       "      <td>58.944138</td>\n",
       "    </tr>\n",
       "    <tr>\n",
       "      <th>2009-01-05</th>\n",
       "      <td>2.879346</td>\n",
       "      <td>8.170624</td>\n",
       "      <td>15.342178</td>\n",
       "      <td>80.523575</td>\n",
       "      <td>13.517266</td>\n",
       "      <td>11.741983</td>\n",
       "      <td>58.448792</td>\n",
       "    </tr>\n",
       "    <tr>\n",
       "      <th>2009-01-06</th>\n",
       "      <td>2.831854</td>\n",
       "      <td>8.320313</td>\n",
       "      <td>15.521625</td>\n",
       "      <td>80.460121</td>\n",
       "      <td>15.020891</td>\n",
       "      <td>11.993956</td>\n",
       "      <td>61.585865</td>\n",
       "    </tr>\n",
       "    <tr>\n",
       "      <th>2009-01-07</th>\n",
       "      <td>2.770662</td>\n",
       "      <td>8.020188</td>\n",
       "      <td>14.587034</td>\n",
       "      <td>76.641617</td>\n",
       "      <td>13.885503</td>\n",
       "      <td>11.515203</td>\n",
       "      <td>59.026684</td>\n",
       "    </tr>\n",
       "    <tr>\n",
       "      <th>...</th>\n",
       "      <td>...</td>\n",
       "      <td>...</td>\n",
       "      <td>...</td>\n",
       "      <td>...</td>\n",
       "      <td>...</td>\n",
       "      <td>...</td>\n",
       "      <td>...</td>\n",
       "    </tr>\n",
       "    <tr>\n",
       "      <th>2012-05-25</th>\n",
       "      <td>17.118073</td>\n",
       "      <td>14.733027</td>\n",
       "      <td>23.610363</td>\n",
       "      <td>89.705254</td>\n",
       "      <td>10.601680</td>\n",
       "      <td>6.089034</td>\n",
       "      <td>21.936417</td>\n",
       "    </tr>\n",
       "    <tr>\n",
       "      <th>2012-05-29</th>\n",
       "      <td>17.421898</td>\n",
       "      <td>14.803015</td>\n",
       "      <td>24.016594</td>\n",
       "      <td>91.215248</td>\n",
       "      <td>10.913732</td>\n",
       "      <td>6.335999</td>\n",
       "      <td>22.392221</td>\n",
       "    </tr>\n",
       "    <tr>\n",
       "      <th>2012-05-30</th>\n",
       "      <td>17.631962</td>\n",
       "      <td>14.650835</td>\n",
       "      <td>23.837852</td>\n",
       "      <td>88.185921</td>\n",
       "      <td>10.473660</td>\n",
       "      <td>6.139863</td>\n",
       "      <td>21.546923</td>\n",
       "    </tr>\n",
       "    <tr>\n",
       "      <th>2012-05-31</th>\n",
       "      <td>17.588127</td>\n",
       "      <td>14.467273</td>\n",
       "      <td>23.715984</td>\n",
       "      <td>89.201912</td>\n",
       "      <td>10.689696</td>\n",
       "      <td>6.267779</td>\n",
       "      <td>21.969568</td>\n",
       "    </tr>\n",
       "    <tr>\n",
       "      <th>2012-06-01</th>\n",
       "      <td>17.078495</td>\n",
       "      <td>14.221195</td>\n",
       "      <td>23.114752</td>\n",
       "      <td>86.349686</td>\n",
       "      <td>10.185615</td>\n",
       "      <td>5.986370</td>\n",
       "      <td>21.041393</td>\n",
       "    </tr>\n",
       "  </tbody>\n",
       "</table>\n",
       "<p>862 rows × 7 columns</p>\n",
       "</div>"
      ],
      "text/plain": [
       "                 AAPL       GOOG       MSFT         GS         MS        BAC  \\\n",
       "Date                                                                           \n",
       "2008-12-31   2.598351   7.662529  14.534698  76.541870  12.305163  11.825974   \n",
       "2009-01-02   2.762747   8.003003  15.200123  78.691467  13.033959  12.035952   \n",
       "2009-01-05   2.879346   8.170624  15.342178  80.523575  13.517266  11.741983   \n",
       "2009-01-06   2.831854   8.320313  15.521625  80.460121  15.020891  11.993956   \n",
       "2009-01-07   2.770662   8.020188  14.587034  76.641617  13.885503  11.515203   \n",
       "...               ...        ...        ...        ...        ...        ...   \n",
       "2012-05-25  17.118073  14.733027  23.610363  89.705254  10.601680   6.089034   \n",
       "2012-05-29  17.421898  14.803015  24.016594  91.215248  10.913732   6.335999   \n",
       "2012-05-30  17.631962  14.650835  23.837852  88.185921  10.473660   6.139863   \n",
       "2012-05-31  17.588127  14.467273  23.715984  89.201912  10.689696   6.267779   \n",
       "2012-06-01  17.078495  14.221195  23.114752  86.349686  10.185615   5.986370   \n",
       "\n",
       "                    C  \n",
       "Date                   \n",
       "2008-12-31  55.394268  \n",
       "2009-01-02  58.944138  \n",
       "2009-01-05  58.448792  \n",
       "2009-01-06  61.585865  \n",
       "2009-01-07  59.026684  \n",
       "...               ...  \n",
       "2012-05-25  21.936417  \n",
       "2012-05-29  22.392221  \n",
       "2012-05-30  21.546923  \n",
       "2012-05-31  21.969568  \n",
       "2012-06-01  21.041393  \n",
       "\n",
       "[862 rows x 7 columns]"
      ]
     },
     "execution_count": 131,
     "metadata": {},
     "output_type": "execute_result"
    }
   ],
   "source": [
    "px"
   ]
  },
  {
   "cell_type": "markdown",
   "id": "3c4e4157",
   "metadata": {},
   "source": [
    "Chúng tôi có thể dễ dàng vẽ biểu đồ lợi nhuận tích lũy của mỗi cổ phiếu:\n"
   ]
  },
  {
   "cell_type": "code",
   "execution_count": 132,
   "id": "3dfc6cf6",
   "metadata": {},
   "outputs": [
    {
     "data": {
      "text/html": [
       "<div>\n",
       "<style scoped>\n",
       "    .dataframe tbody tr th:only-of-type {\n",
       "        vertical-align: middle;\n",
       "    }\n",
       "\n",
       "    .dataframe tbody tr th {\n",
       "        vertical-align: top;\n",
       "    }\n",
       "\n",
       "    .dataframe thead th {\n",
       "        text-align: right;\n",
       "    }\n",
       "</style>\n",
       "<table border=\"1\" class=\"dataframe\">\n",
       "  <thead>\n",
       "    <tr style=\"text-align: right;\">\n",
       "      <th></th>\n",
       "      <th>AAPL</th>\n",
       "      <th>GOOG</th>\n",
       "      <th>MSFT</th>\n",
       "      <th>GS</th>\n",
       "      <th>MS</th>\n",
       "      <th>BAC</th>\n",
       "      <th>C</th>\n",
       "    </tr>\n",
       "    <tr>\n",
       "      <th>Date</th>\n",
       "      <th></th>\n",
       "      <th></th>\n",
       "      <th></th>\n",
       "      <th></th>\n",
       "      <th></th>\n",
       "      <th></th>\n",
       "      <th></th>\n",
       "    </tr>\n",
       "  </thead>\n",
       "  <tbody>\n",
       "    <tr>\n",
       "      <th>2008-12-31</th>\n",
       "      <td>2.598351</td>\n",
       "      <td>7.662529</td>\n",
       "      <td>14.534698</td>\n",
       "      <td>76.541870</td>\n",
       "      <td>12.305163</td>\n",
       "      <td>11.825974</td>\n",
       "      <td>55.394268</td>\n",
       "    </tr>\n",
       "    <tr>\n",
       "      <th>2009-01-01</th>\n",
       "      <td>2.598351</td>\n",
       "      <td>7.662529</td>\n",
       "      <td>14.534698</td>\n",
       "      <td>76.541870</td>\n",
       "      <td>12.305163</td>\n",
       "      <td>11.825974</td>\n",
       "      <td>55.394268</td>\n",
       "    </tr>\n",
       "    <tr>\n",
       "      <th>2009-01-02</th>\n",
       "      <td>2.762747</td>\n",
       "      <td>8.003003</td>\n",
       "      <td>15.200123</td>\n",
       "      <td>78.691467</td>\n",
       "      <td>13.033959</td>\n",
       "      <td>12.035952</td>\n",
       "      <td>58.944138</td>\n",
       "    </tr>\n",
       "    <tr>\n",
       "      <th>2009-01-05</th>\n",
       "      <td>2.879346</td>\n",
       "      <td>8.170624</td>\n",
       "      <td>15.342178</td>\n",
       "      <td>80.523575</td>\n",
       "      <td>13.517266</td>\n",
       "      <td>11.741983</td>\n",
       "      <td>58.448792</td>\n",
       "    </tr>\n",
       "    <tr>\n",
       "      <th>2009-01-06</th>\n",
       "      <td>2.831854</td>\n",
       "      <td>8.320313</td>\n",
       "      <td>15.521625</td>\n",
       "      <td>80.460121</td>\n",
       "      <td>15.020891</td>\n",
       "      <td>11.993956</td>\n",
       "      <td>61.585865</td>\n",
       "    </tr>\n",
       "    <tr>\n",
       "      <th>...</th>\n",
       "      <td>...</td>\n",
       "      <td>...</td>\n",
       "      <td>...</td>\n",
       "      <td>...</td>\n",
       "      <td>...</td>\n",
       "      <td>...</td>\n",
       "      <td>...</td>\n",
       "    </tr>\n",
       "    <tr>\n",
       "      <th>2012-05-28</th>\n",
       "      <td>17.118073</td>\n",
       "      <td>14.733027</td>\n",
       "      <td>23.610363</td>\n",
       "      <td>89.705254</td>\n",
       "      <td>10.601680</td>\n",
       "      <td>6.089034</td>\n",
       "      <td>21.936417</td>\n",
       "    </tr>\n",
       "    <tr>\n",
       "      <th>2012-05-29</th>\n",
       "      <td>17.421898</td>\n",
       "      <td>14.803015</td>\n",
       "      <td>24.016594</td>\n",
       "      <td>91.215248</td>\n",
       "      <td>10.913732</td>\n",
       "      <td>6.335999</td>\n",
       "      <td>22.392221</td>\n",
       "    </tr>\n",
       "    <tr>\n",
       "      <th>2012-05-30</th>\n",
       "      <td>17.631962</td>\n",
       "      <td>14.650835</td>\n",
       "      <td>23.837852</td>\n",
       "      <td>88.185921</td>\n",
       "      <td>10.473660</td>\n",
       "      <td>6.139863</td>\n",
       "      <td>21.546923</td>\n",
       "    </tr>\n",
       "    <tr>\n",
       "      <th>2012-05-31</th>\n",
       "      <td>17.588127</td>\n",
       "      <td>14.467273</td>\n",
       "      <td>23.715984</td>\n",
       "      <td>89.201912</td>\n",
       "      <td>10.689696</td>\n",
       "      <td>6.267779</td>\n",
       "      <td>21.969568</td>\n",
       "    </tr>\n",
       "    <tr>\n",
       "      <th>2012-06-01</th>\n",
       "      <td>17.078495</td>\n",
       "      <td>14.221195</td>\n",
       "      <td>23.114752</td>\n",
       "      <td>86.349686</td>\n",
       "      <td>10.185615</td>\n",
       "      <td>5.986370</td>\n",
       "      <td>21.041393</td>\n",
       "    </tr>\n",
       "  </tbody>\n",
       "</table>\n",
       "<p>893 rows × 7 columns</p>\n",
       "</div>"
      ],
      "text/plain": [
       "                 AAPL       GOOG       MSFT         GS         MS        BAC  \\\n",
       "Date                                                                           \n",
       "2008-12-31   2.598351   7.662529  14.534698  76.541870  12.305163  11.825974   \n",
       "2009-01-01   2.598351   7.662529  14.534698  76.541870  12.305163  11.825974   \n",
       "2009-01-02   2.762747   8.003003  15.200123  78.691467  13.033959  12.035952   \n",
       "2009-01-05   2.879346   8.170624  15.342178  80.523575  13.517266  11.741983   \n",
       "2009-01-06   2.831854   8.320313  15.521625  80.460121  15.020891  11.993956   \n",
       "...               ...        ...        ...        ...        ...        ...   \n",
       "2012-05-28  17.118073  14.733027  23.610363  89.705254  10.601680   6.089034   \n",
       "2012-05-29  17.421898  14.803015  24.016594  91.215248  10.913732   6.335999   \n",
       "2012-05-30  17.631962  14.650835  23.837852  88.185921  10.473660   6.139863   \n",
       "2012-05-31  17.588127  14.467273  23.715984  89.201912  10.689696   6.267779   \n",
       "2012-06-01  17.078495  14.221195  23.114752  86.349686  10.185615   5.986370   \n",
       "\n",
       "                    C  \n",
       "Date                   \n",
       "2008-12-31  55.394268  \n",
       "2009-01-01  55.394268  \n",
       "2009-01-02  58.944138  \n",
       "2009-01-05  58.448792  \n",
       "2009-01-06  61.585865  \n",
       "...               ...  \n",
       "2012-05-28  21.936417  \n",
       "2012-05-29  22.392221  \n",
       "2012-05-30  21.546923  \n",
       "2012-05-31  21.969568  \n",
       "2012-06-01  21.041393  \n",
       "\n",
       "[893 rows x 7 columns]"
      ]
     },
     "execution_count": 132,
     "metadata": {},
     "output_type": "execute_result"
    }
   ],
   "source": [
    "#asfreq: chuyển đổi chuỗi thời gian thành tần số xác định, B: business day frequency (T2-T6)\n",
    "px = px.asfreq('B').fillna(method='pad')\n",
    "px"
   ]
  },
  {
   "cell_type": "code",
   "execution_count": 133,
   "id": "594ff532",
   "metadata": {},
   "outputs": [
    {
     "data": {
      "text/html": [
       "<div>\n",
       "<style scoped>\n",
       "    .dataframe tbody tr th:only-of-type {\n",
       "        vertical-align: middle;\n",
       "    }\n",
       "\n",
       "    .dataframe tbody tr th {\n",
       "        vertical-align: top;\n",
       "    }\n",
       "\n",
       "    .dataframe thead th {\n",
       "        text-align: right;\n",
       "    }\n",
       "</style>\n",
       "<table border=\"1\" class=\"dataframe\">\n",
       "  <thead>\n",
       "    <tr style=\"text-align: right;\">\n",
       "      <th></th>\n",
       "      <th>AAPL</th>\n",
       "      <th>GOOG</th>\n",
       "      <th>MSFT</th>\n",
       "      <th>GS</th>\n",
       "      <th>MS</th>\n",
       "      <th>BAC</th>\n",
       "      <th>C</th>\n",
       "    </tr>\n",
       "    <tr>\n",
       "      <th>Date</th>\n",
       "      <th></th>\n",
       "      <th></th>\n",
       "      <th></th>\n",
       "      <th></th>\n",
       "      <th></th>\n",
       "      <th></th>\n",
       "      <th></th>\n",
       "    </tr>\n",
       "  </thead>\n",
       "  <tbody>\n",
       "    <tr>\n",
       "      <th>2008-12-31</th>\n",
       "      <td>NaN</td>\n",
       "      <td>NaN</td>\n",
       "      <td>NaN</td>\n",
       "      <td>NaN</td>\n",
       "      <td>NaN</td>\n",
       "      <td>NaN</td>\n",
       "      <td>NaN</td>\n",
       "    </tr>\n",
       "    <tr>\n",
       "      <th>2009-01-01</th>\n",
       "      <td>0.000000</td>\n",
       "      <td>0.000000</td>\n",
       "      <td>0.000000</td>\n",
       "      <td>0.000000</td>\n",
       "      <td>0.000000</td>\n",
       "      <td>0.000000</td>\n",
       "      <td>0.000000</td>\n",
       "    </tr>\n",
       "    <tr>\n",
       "      <th>2009-01-02</th>\n",
       "      <td>0.063269</td>\n",
       "      <td>0.044434</td>\n",
       "      <td>0.045782</td>\n",
       "      <td>0.028084</td>\n",
       "      <td>0.059227</td>\n",
       "      <td>0.017756</td>\n",
       "      <td>0.064084</td>\n",
       "    </tr>\n",
       "    <tr>\n",
       "      <th>2009-01-05</th>\n",
       "      <td>0.042204</td>\n",
       "      <td>0.020945</td>\n",
       "      <td>0.009346</td>\n",
       "      <td>0.023282</td>\n",
       "      <td>0.037081</td>\n",
       "      <td>-0.024424</td>\n",
       "      <td>-0.008404</td>\n",
       "    </tr>\n",
       "    <tr>\n",
       "      <th>2009-01-06</th>\n",
       "      <td>-0.016494</td>\n",
       "      <td>0.018320</td>\n",
       "      <td>0.011696</td>\n",
       "      <td>-0.000788</td>\n",
       "      <td>0.111237</td>\n",
       "      <td>0.021459</td>\n",
       "      <td>0.053672</td>\n",
       "    </tr>\n",
       "    <tr>\n",
       "      <th>...</th>\n",
       "      <td>...</td>\n",
       "      <td>...</td>\n",
       "      <td>...</td>\n",
       "      <td>...</td>\n",
       "      <td>...</td>\n",
       "      <td>...</td>\n",
       "      <td>...</td>\n",
       "    </tr>\n",
       "    <tr>\n",
       "      <th>2012-05-28</th>\n",
       "      <td>0.000000</td>\n",
       "      <td>0.000000</td>\n",
       "      <td>0.000000</td>\n",
       "      <td>0.000000</td>\n",
       "      <td>0.000000</td>\n",
       "      <td>0.000000</td>\n",
       "      <td>0.000000</td>\n",
       "    </tr>\n",
       "    <tr>\n",
       "      <th>2012-05-29</th>\n",
       "      <td>0.017749</td>\n",
       "      <td>0.004750</td>\n",
       "      <td>0.017206</td>\n",
       "      <td>0.016833</td>\n",
       "      <td>0.029434</td>\n",
       "      <td>0.040559</td>\n",
       "      <td>0.020778</td>\n",
       "    </tr>\n",
       "    <tr>\n",
       "      <th>2012-05-30</th>\n",
       "      <td>0.012057</td>\n",
       "      <td>-0.010280</td>\n",
       "      <td>-0.007442</td>\n",
       "      <td>-0.033211</td>\n",
       "      <td>-0.040323</td>\n",
       "      <td>-0.030956</td>\n",
       "      <td>-0.037750</td>\n",
       "    </tr>\n",
       "    <tr>\n",
       "      <th>2012-05-31</th>\n",
       "      <td>-0.002486</td>\n",
       "      <td>-0.012529</td>\n",
       "      <td>-0.005112</td>\n",
       "      <td>0.011521</td>\n",
       "      <td>0.020627</td>\n",
       "      <td>0.020834</td>\n",
       "      <td>0.019615</td>\n",
       "    </tr>\n",
       "    <tr>\n",
       "      <th>2012-06-01</th>\n",
       "      <td>-0.028976</td>\n",
       "      <td>-0.017009</td>\n",
       "      <td>-0.025351</td>\n",
       "      <td>-0.031975</td>\n",
       "      <td>-0.047156</td>\n",
       "      <td>-0.044898</td>\n",
       "      <td>-0.042248</td>\n",
       "    </tr>\n",
       "  </tbody>\n",
       "</table>\n",
       "<p>893 rows × 7 columns</p>\n",
       "</div>"
      ],
      "text/plain": [
       "                AAPL      GOOG      MSFT        GS        MS       BAC  \\\n",
       "Date                                                                     \n",
       "2008-12-31       NaN       NaN       NaN       NaN       NaN       NaN   \n",
       "2009-01-01  0.000000  0.000000  0.000000  0.000000  0.000000  0.000000   \n",
       "2009-01-02  0.063269  0.044434  0.045782  0.028084  0.059227  0.017756   \n",
       "2009-01-05  0.042204  0.020945  0.009346  0.023282  0.037081 -0.024424   \n",
       "2009-01-06 -0.016494  0.018320  0.011696 -0.000788  0.111237  0.021459   \n",
       "...              ...       ...       ...       ...       ...       ...   \n",
       "2012-05-28  0.000000  0.000000  0.000000  0.000000  0.000000  0.000000   \n",
       "2012-05-29  0.017749  0.004750  0.017206  0.016833  0.029434  0.040559   \n",
       "2012-05-30  0.012057 -0.010280 -0.007442 -0.033211 -0.040323 -0.030956   \n",
       "2012-05-31 -0.002486 -0.012529 -0.005112  0.011521  0.020627  0.020834   \n",
       "2012-06-01 -0.028976 -0.017009 -0.025351 -0.031975 -0.047156 -0.044898   \n",
       "\n",
       "                   C  \n",
       "Date                  \n",
       "2008-12-31       NaN  \n",
       "2009-01-01  0.000000  \n",
       "2009-01-02  0.064084  \n",
       "2009-01-05 -0.008404  \n",
       "2009-01-06  0.053672  \n",
       "...              ...  \n",
       "2012-05-28  0.000000  \n",
       "2012-05-29  0.020778  \n",
       "2012-05-30 -0.037750  \n",
       "2012-05-31  0.019615  \n",
       "2012-06-01 -0.042248  \n",
       "\n",
       "[893 rows x 7 columns]"
      ]
     },
     "execution_count": 133,
     "metadata": {},
     "output_type": "execute_result"
    }
   ],
   "source": [
    "#Tăng trưởng sau so với trước nó\n",
    "rets = px.pct_change()\n",
    "rets"
   ]
  },
  {
   "cell_type": "code",
   "execution_count": 134,
   "id": "84fa0e36",
   "metadata": {},
   "outputs": [
    {
     "data": {
      "text/html": [
       "<div>\n",
       "<style scoped>\n",
       "    .dataframe tbody tr th:only-of-type {\n",
       "        vertical-align: middle;\n",
       "    }\n",
       "\n",
       "    .dataframe tbody tr th {\n",
       "        vertical-align: top;\n",
       "    }\n",
       "\n",
       "    .dataframe thead th {\n",
       "        text-align: right;\n",
       "    }\n",
       "</style>\n",
       "<table border=\"1\" class=\"dataframe\">\n",
       "  <thead>\n",
       "    <tr style=\"text-align: right;\">\n",
       "      <th></th>\n",
       "      <th>AAPL</th>\n",
       "      <th>GOOG</th>\n",
       "      <th>MSFT</th>\n",
       "      <th>GS</th>\n",
       "      <th>MS</th>\n",
       "      <th>BAC</th>\n",
       "      <th>C</th>\n",
       "    </tr>\n",
       "    <tr>\n",
       "      <th>Date</th>\n",
       "      <th></th>\n",
       "      <th></th>\n",
       "      <th></th>\n",
       "      <th></th>\n",
       "      <th></th>\n",
       "      <th></th>\n",
       "      <th></th>\n",
       "    </tr>\n",
       "  </thead>\n",
       "  <tbody>\n",
       "    <tr>\n",
       "      <th>2008-12-31</th>\n",
       "      <td>NaN</td>\n",
       "      <td>NaN</td>\n",
       "      <td>NaN</td>\n",
       "      <td>NaN</td>\n",
       "      <td>NaN</td>\n",
       "      <td>NaN</td>\n",
       "      <td>NaN</td>\n",
       "    </tr>\n",
       "    <tr>\n",
       "      <th>2009-01-01</th>\n",
       "      <td>0.000000</td>\n",
       "      <td>0.000000</td>\n",
       "      <td>0.000000</td>\n",
       "      <td>0.000000</td>\n",
       "      <td>0.000000</td>\n",
       "      <td>0.000000</td>\n",
       "      <td>0.000000</td>\n",
       "    </tr>\n",
       "    <tr>\n",
       "      <th>2009-01-02</th>\n",
       "      <td>0.063269</td>\n",
       "      <td>0.044434</td>\n",
       "      <td>0.045782</td>\n",
       "      <td>0.028084</td>\n",
       "      <td>0.059227</td>\n",
       "      <td>0.017756</td>\n",
       "      <td>0.064084</td>\n",
       "    </tr>\n",
       "    <tr>\n",
       "      <th>2009-01-05</th>\n",
       "      <td>0.108144</td>\n",
       "      <td>0.066309</td>\n",
       "      <td>0.055555</td>\n",
       "      <td>0.052020</td>\n",
       "      <td>0.098504</td>\n",
       "      <td>-0.007102</td>\n",
       "      <td>0.055142</td>\n",
       "    </tr>\n",
       "    <tr>\n",
       "      <th>2009-01-06</th>\n",
       "      <td>0.089866</td>\n",
       "      <td>0.085844</td>\n",
       "      <td>0.067901</td>\n",
       "      <td>0.051191</td>\n",
       "      <td>0.220698</td>\n",
       "      <td>0.014205</td>\n",
       "      <td>0.111773</td>\n",
       "    </tr>\n",
       "    <tr>\n",
       "      <th>...</th>\n",
       "      <td>...</td>\n",
       "      <td>...</td>\n",
       "      <td>...</td>\n",
       "      <td>...</td>\n",
       "      <td>...</td>\n",
       "      <td>...</td>\n",
       "      <td>...</td>\n",
       "    </tr>\n",
       "    <tr>\n",
       "      <th>2012-05-28</th>\n",
       "      <td>5.588051</td>\n",
       "      <td>0.922737</td>\n",
       "      <td>0.624414</td>\n",
       "      <td>0.171976</td>\n",
       "      <td>-0.138436</td>\n",
       "      <td>-0.485114</td>\n",
       "      <td>-0.603995</td>\n",
       "    </tr>\n",
       "    <tr>\n",
       "      <th>2012-05-29</th>\n",
       "      <td>5.704981</td>\n",
       "      <td>0.931871</td>\n",
       "      <td>0.652363</td>\n",
       "      <td>0.191704</td>\n",
       "      <td>-0.113077</td>\n",
       "      <td>-0.464230</td>\n",
       "      <td>-0.595766</td>\n",
       "    </tr>\n",
       "    <tr>\n",
       "      <th>2012-05-30</th>\n",
       "      <td>5.785826</td>\n",
       "      <td>0.912010</td>\n",
       "      <td>0.640065</td>\n",
       "      <td>0.152127</td>\n",
       "      <td>-0.148840</td>\n",
       "      <td>-0.480815</td>\n",
       "      <td>-0.611026</td>\n",
       "    </tr>\n",
       "    <tr>\n",
       "      <th>2012-05-31</th>\n",
       "      <td>5.768956</td>\n",
       "      <td>0.888055</td>\n",
       "      <td>0.631681</td>\n",
       "      <td>0.165400</td>\n",
       "      <td>-0.131284</td>\n",
       "      <td>-0.469999</td>\n",
       "      <td>-0.603396</td>\n",
       "    </tr>\n",
       "    <tr>\n",
       "      <th>2012-06-01</th>\n",
       "      <td>5.572819</td>\n",
       "      <td>0.855940</td>\n",
       "      <td>0.590315</td>\n",
       "      <td>0.128137</td>\n",
       "      <td>-0.172249</td>\n",
       "      <td>-0.493795</td>\n",
       "      <td>-0.620152</td>\n",
       "    </tr>\n",
       "  </tbody>\n",
       "</table>\n",
       "<p>893 rows × 7 columns</p>\n",
       "</div>"
      ],
      "text/plain": [
       "                AAPL      GOOG      MSFT        GS        MS       BAC  \\\n",
       "Date                                                                     \n",
       "2008-12-31       NaN       NaN       NaN       NaN       NaN       NaN   \n",
       "2009-01-01  0.000000  0.000000  0.000000  0.000000  0.000000  0.000000   \n",
       "2009-01-02  0.063269  0.044434  0.045782  0.028084  0.059227  0.017756   \n",
       "2009-01-05  0.108144  0.066309  0.055555  0.052020  0.098504 -0.007102   \n",
       "2009-01-06  0.089866  0.085844  0.067901  0.051191  0.220698  0.014205   \n",
       "...              ...       ...       ...       ...       ...       ...   \n",
       "2012-05-28  5.588051  0.922737  0.624414  0.171976 -0.138436 -0.485114   \n",
       "2012-05-29  5.704981  0.931871  0.652363  0.191704 -0.113077 -0.464230   \n",
       "2012-05-30  5.785826  0.912010  0.640065  0.152127 -0.148840 -0.480815   \n",
       "2012-05-31  5.768956  0.888055  0.631681  0.165400 -0.131284 -0.469999   \n",
       "2012-06-01  5.572819  0.855940  0.590315  0.128137 -0.172249 -0.493795   \n",
       "\n",
       "                   C  \n",
       "Date                  \n",
       "2008-12-31       NaN  \n",
       "2009-01-01  0.000000  \n",
       "2009-01-02  0.064084  \n",
       "2009-01-05  0.055142  \n",
       "2009-01-06  0.111773  \n",
       "...              ...  \n",
       "2012-05-28 -0.603995  \n",
       "2012-05-29 -0.595766  \n",
       "2012-05-30 -0.611026  \n",
       "2012-05-31 -0.603396  \n",
       "2012-06-01 -0.620152  \n",
       "\n",
       "[893 rows x 7 columns]"
      ]
     },
     "execution_count": 134,
     "metadata": {},
     "output_type": "execute_result"
    }
   ],
   "source": [
    "(1 + rets).cumprod() - 1"
   ]
  },
  {
   "cell_type": "code",
   "execution_count": 135,
   "id": "057665dc",
   "metadata": {},
   "outputs": [
    {
     "data": {
      "text/plain": [
       "<AxesSubplot:xlabel='Date'>"
      ]
     },
     "execution_count": 135,
     "metadata": {},
     "output_type": "execute_result"
    },
    {
     "data": {
      "image/png": "[encoded data removed]",
      "text/plain": [
       "<Figure size 720x432 with 1 Axes>"
      ]
     },
     "metadata": {
      "needs_background": "light"
     },
     "output_type": "display_data"
    }
   ],
   "source": [
    "#Tăng trưởng so với ban đầu\n",
    "((1 + rets).cumprod() - 1).plot()\n"
   ]
  },
  {
   "cell_type": "markdown",
   "id": "7b8af7e9",
   "metadata": {},
   "source": [
    "3.2 Future Contract Rolling\n",
    "\n",
    "Hợp đồng trong tương lai"
   ]
  },
  {
   "cell_type": "markdown",
   "id": "c1591c34",
   "metadata": {},
   "source": [
    "Hợp đồng tương lai là một dạng hợp đồng phái sinh phổ biến; đó là một thỏa thuận để\n",
    "nhận một tài sản nhất định (chẳng hạn như dầu, vàng hoặc cổ phiếu của chỉ số FTSE\n",
    "100) vào một ngày cụ thể. Trong thực tế, mô hình hóa và giao dịch các hợp đồng tương\n",
    "lai trên cổ phiếu, tiền tệ ,hàng hóa, trái phiếu và các loại tài sản khác rất phức tạp do tính\n",
    "chất có thời hạn của mỗi hợp đồng. Ví dụ: tại bất kỳ thời điểm nào cho một loại tương\n",
    "lai (chẳng hạn như hợp đồng tương lai bạc hoặc đồng), nhiều hợp đồng với các ngày hết\n",
    "hạn có thể được giao dịch. Trong nhiều trường hợp, hợp đồng tương lai sẽ hết hạn tiếp\n",
    "theo (ở gần hợp đồng) sẽ có tính thanh khoản cao nhất (khối lượng cao nhất và chênh\n",
    "lệch giá mua-bán thấp nhất).\n",
    "\n",
    "Đối với mục đích mô hình hóa và dự báo, có thể dễ dàng hơn nhiều để làm việc với chỉ\n",
    "số hoàn vốn liên tục cho thấy lợi nhuận và thua lỗ liên quan đến việc luôn giữ hợp đồng\n",
    "gần. Chuyển đổi từ hợp đồng hết hạn sang hợp đồng tiếp theo (hoặc xa hơn) được gọi là\n",
    "rolling. Tính toán một chuỗi liên tục trong tương lai từ dữ liệu cá nhân không nhất thiết\n",
    "phải là một bài tập đơn giản và thường đòi hỏi sự hiểu biết sâu sắc hơn về thị trường và\n",
    "cách các công cụ được giao dịch. Ví dụ: trong thực tế, khi nào và bao lâu bạn sẽ giao\n",
    "dịch ra khỏi một hợp đồng sắp hết hạn và vào hợp đồng tiếp theo? Ở đây tôi mô tả một\n",
    "quá trình như vậy.\n",
    "\n",
    "Đầu tiên, tôi sẽ sử dụng giá quy mô cho quỹ giao dịch trao đổi SPY làm đại diện cho\n",
    "chỉ số S&P 500:\n"
   ]
  },
  {
   "cell_type": "code",
   "execution_count": 136,
   "id": "7b21500c",
   "metadata": {},
   "outputs": [
    {
     "data": {
      "text/plain": [
       "Date\n",
       "2017-12-04    2423.903503\n",
       "2017-12-05    2415.185547\n",
       "2017-12-06    2415.644379\n",
       "2017-12-07    2423.260956\n",
       "2017-12-08    2436.475525\n",
       "                 ...     \n",
       "2022-11-28    3959.100037\n",
       "2022-11-29    3952.300110\n",
       "2022-11-30    4076.799927\n",
       "2022-12-01    4073.800049\n",
       "2022-12-02    4029.577942\n",
       "Name: Adj Close, Length: 1259, dtype: float64"
      ]
     },
     "execution_count": 136,
     "metadata": {},
     "output_type": "execute_result"
    }
   ],
   "source": [
    "import pandas_datareader.data as web\n",
    "# Approximate price of S&P 500 index\n",
    "px = web.get_data_yahoo('SPY')['Adj Close'] * 10\n",
    "px"
   ]
  },
  {
   "cell_type": "markdown",
   "id": "2399c918",
   "metadata": {},
   "source": [
    "Bây giờ, một chút thiết lập. Tôi đã đặt một số hợp đồng tương lai và ngày hết hạn của\n",
    "S&P 500 vào một Series:"
   ]
  },
  {
   "cell_type": "code",
   "execution_count": 137,
   "id": "aabcea3f",
   "metadata": {},
   "outputs": [],
   "source": [
    "from datetime import datetime\n",
    "expiry = {'ESU2': datetime(2012, 9, 21),\n",
    "        'ESZ2': datetime(2012, 12, 21)}\n",
    "expiry = pd.Series(expiry).sort_values()"
   ]
  },
  {
   "cell_type": "markdown",
   "id": "309b3d50",
   "metadata": {},
   "source": [
    "expiry sẽ trông như thế này"
   ]
  },
  {
   "cell_type": "code",
   "execution_count": 138,
   "id": "963e52f4",
   "metadata": {},
   "outputs": [
    {
     "data": {
      "text/plain": [
       "ESU2   2012-09-21\n",
       "ESZ2   2012-12-21\n",
       "dtype: datetime64[ns]"
      ]
     },
     "execution_count": 138,
     "metadata": {},
     "output_type": "execute_result"
    }
   ],
   "source": [
    "expiry"
   ]
  },
  {
   "cell_type": "markdown",
   "id": "3a766750",
   "metadata": {},
   "source": [
    "Sau đó, tôi sử dụng Yahoo! Giá tài chính cùng với một bước đi ngẫu nhiên và một số\n",
    "nhiễu để mô phỏng hai hợp đồng trong tương lai:"
   ]
  },
  {
   "cell_type": "code",
   "execution_count": 139,
   "id": "b11e0a2c",
   "metadata": {},
   "outputs": [],
   "source": [
    "np.random.seed(12347)\n",
    "N = 200"
   ]
  },
  {
   "cell_type": "code",
   "execution_count": 140,
   "id": "619087c7",
   "metadata": {},
   "outputs": [
    {
     "data": {
      "text/plain": [
       "array([ 21.  ,  24.75,  10.5 , -17.5 ,   2.  , -16.5 ,  -2.  ,  -4.5 ,\n",
       "        20.  ,   5.75,   0.5 ,  11.5 ,  15.5 ,  -3.  ,  23.25,  16.25,\n",
       "        -3.25,  -8.75,  10.25,  21.25,   6.75,  14.75,   7.5 ,   1.25,\n",
       "       -20.25,  16.5 ,   5.  ,   2.75, -14.5 ,   7.75,   4.5 ,  24.25,\n",
       "       -19.25, -14.75,  12.5 ,   3.  , -10.25,   2.75,  18.  ,  -7.  ,\n",
       "        -2.25,   4.75, -16.  ,   3.25,  12.5 ,   1.  ,  -7.25,   5.5 ,\n",
       "        13.5 ,  19.75,  24.75,  23.5 ,  22.5 ,   2.75, -19.  ,  24.75,\n",
       "       -13.75,   4.5 ,   7.75,   8.  ,  12.  ,  10.25, -13.25,  -5.  ,\n",
       "         7.5 ,  -3.5 ,  19.  ,   7.75, -15.5 ,   1.5 , -16.75, -18.75,\n",
       "       -15.25,  -3.  ,  23.25,  19.25, -16.75, -21.  , -11.75,   2.75,\n",
       "       -17.5 ,  14.75,  -7.25, -10.75,   7.5 ,   9.75, -16.75, -22.25,\n",
       "       -18.25,  15.  ,  -7.75,  21.25,  13.5 ,  -3.25, -16.25,   6.75,\n",
       "       -19.  , -12.5 ,  23.5 ,  15.5 ,  -8.  ,  15.  ,   5.75,   0.  ,\n",
       "       -17.  , -13.5 , -13.5 ,  -8.75, -24.25,  24.  ,  24.25,   6.  ,\n",
       "        -5.5 , -24.  , -19.75, -13.5 ,  -1.25,   4.  ,  -9.75,  -5.5 ,\n",
       "       -12.5 ,  19.5 ,  -5.  , -23.5 , -17.5 ,  -1.75,   8.25,   4.  ,\n",
       "         9.5 , -11.75,  -3.75,  15.75,  -1.  ,  -5.25, -16.  , -21.25,\n",
       "         5.  , -17.25,  10.25,  10.  ,   6.5 ,  19.5 , -16.75,   1.  ,\n",
       "       -15.75, -23.75, -12.75,  22.25,   8.25,  16.75, -12.5 , -19.  ,\n",
       "       -17.  ,  -2.5 ,  23.75,   9.75,  -3.5 ,  14.5 ,  24.5 , -23.  ,\n",
       "       -14.25, -16.5 ,  15.  ,  14.75, -15.5 ,  -9.25,  -0.25, -14.25,\n",
       "        16.5 ,  -4.25, -24.25,  22.75, -19.75, -18.5 ,  12.  , -15.5 ,\n",
       "        13.75, -17.5 ,  17.25,  -8.5 , -13.75, -23.  , -23.25,  22.75,\n",
       "        22.  ,  23.25,  13.75,   7.75,   4.5 , -11.5 ,   0.5 ,  -4.25,\n",
       "        -2.5 ,  -6.75, -18.  ,  15.75, -13.75,   8.  ,  16.5 , -20.  ])"
      ]
     },
     "execution_count": 140,
     "metadata": {},
     "output_type": "execute_result"
    }
   ],
   "source": [
    "walk = (np.random.randint(0, 200, size=N) - 100) * 0.25\n",
    "walk"
   ]
  },
  {
   "cell_type": "code",
   "execution_count": 141,
   "id": "ccd102a0",
   "metadata": {},
   "outputs": [
    {
     "data": {
      "text/plain": [
       "array([ 0.5 , -1.5 ,  0.5 , -0.25,  1.  , -1.25,  1.5 , -0.25,  0.  ,\n",
       "       -2.5 , -1.25, -1.5 ,  0.25,  1.25,  0.75,  1.25,  1.5 ,  0.25,\n",
       "       -1.  ,  2.  , -1.25,  1.25,  0.25,  1.5 ,  0.75, -2.25, -2.5 ,\n",
       "       -1.75,  1.  , -1.75, -2.25, -2.5 , -0.75,  1.75,  0.25, -2.  ,\n",
       "       -0.5 ,  0.5 ,  0.25,  1.5 , -1.5 , -0.5 , -0.25, -1.75,  1.  ,\n",
       "       -2.5 , -1.  ,  1.5 , -0.5 ,  1.5 ,  0.25, -2.25, -0.5 ,  1.25,\n",
       "       -2.5 ,  2.  ,  2.25, -1.  , -0.75,  0.25,  2.25,  0.25,  0.25,\n",
       "        0.5 , -1.75, -2.  ,  0.25, -2.  ,  0.75,  0.25,  0.5 ,  1.75,\n",
       "       -0.75,  0.25, -1.75, -0.5 ,  0.75, -1.25,  0.75, -1.75,  2.  ,\n",
       "       -2.25,  1.25, -0.5 , -0.25, -0.5 , -2.  , -1.5 , -2.25,  1.25,\n",
       "        2.25, -2.25,  0.25, -1.  , -1.  , -2.  , -1.5 ,  2.25, -0.75,\n",
       "        0.  , -1.75, -1.  ,  0.75,  1.75,  2.  , -1.75,  2.  ,  0.5 ,\n",
       "        0.  ,  0.25,  2.  , -0.75, -2.  ,  0.25, -0.75, -0.25, -0.5 ,\n",
       "       -0.25,  1.  , -0.5 ,  2.  ,  1.  , -0.75,  1.25,  0.75,  2.25,\n",
       "       -0.25, -2.5 ,  1.25,  2.  ,  1.25, -0.75,  0.25, -0.25,  1.  ,\n",
       "        0.25, -0.25,  1.25,  1.75, -0.25,  1.25, -1.  , -1.  ,  0.75,\n",
       "       -2.25,  2.  , -0.5 , -2.25, -1.  , -2.5 , -2.5 ,  1.  ,  2.25,\n",
       "        0.75, -0.25,  0.5 , -2.  ,  2.25, -0.5 , -2.5 ,  1.5 ,  1.  ,\n",
       "        1.  ,  1.5 ,  0.  , -1.  , -2.  ,  2.  ,  0.75, -1.  , -0.5 ,\n",
       "       -0.75, -2.  , -0.5 , -1.25,  1.  ,  1.75,  1.25,  1.5 , -1.75,\n",
       "       -0.75,  0.25,  1.  ,  0.5 , -1.75,  0.5 ,  0.75, -0.5 ,  1.75,\n",
       "       -0.5 , -1.5 ,  2.  ,  2.  , -2.5 , -1.  ,  1.75,  2.25,  1.75,\n",
       "       -0.75, -2.25])"
      ]
     },
     "execution_count": 141,
     "metadata": {},
     "output_type": "execute_result"
    }
   ],
   "source": [
    "perturb = (np.random.randint(0, 20, size=N) - 10) * 0.25\n",
    "perturb"
   ]
  },
  {
   "cell_type": "code",
   "execution_count": 142,
   "id": "41ce604f",
   "metadata": {},
   "outputs": [
    {
     "data": {
      "text/plain": [
       "array([ 21.  ,  45.75,  56.25,  38.75,  40.75,  24.25,  22.25,  17.75,\n",
       "        37.75,  43.5 ,  44.  ,  55.5 ,  71.  ,  68.  ,  91.25, 107.5 ,\n",
       "       104.25,  95.5 , 105.75, 127.  , 133.75, 148.5 , 156.  , 157.25,\n",
       "       137.  , 153.5 , 158.5 , 161.25, 146.75, 154.5 , 159.  , 183.25,\n",
       "       164.  , 149.25, 161.75, 164.75, 154.5 , 157.25, 175.25, 168.25,\n",
       "       166.  , 170.75, 154.75, 158.  , 170.5 , 171.5 , 164.25, 169.75,\n",
       "       183.25, 203.  , 227.75, 251.25, 273.75, 276.5 , 257.5 , 282.25,\n",
       "       268.5 , 273.  , 280.75, 288.75, 300.75, 311.  , 297.75, 292.75,\n",
       "       300.25, 296.75, 315.75, 323.5 , 308.  , 309.5 , 292.75, 274.  ,\n",
       "       258.75, 255.75, 279.  , 298.25, 281.5 , 260.5 , 248.75, 251.5 ,\n",
       "       234.  , 248.75, 241.5 , 230.75, 238.25, 248.  , 231.25, 209.  ,\n",
       "       190.75, 205.75, 198.  , 219.25, 232.75, 229.5 , 213.25, 220.  ,\n",
       "       201.  , 188.5 , 212.  , 227.5 , 219.5 , 234.5 , 240.25, 240.25,\n",
       "       223.25, 209.75, 196.25, 187.5 , 163.25, 187.25, 211.5 , 217.5 ,\n",
       "       212.  , 188.  , 168.25, 154.75, 153.5 , 157.5 , 147.75, 142.25,\n",
       "       129.75, 149.25, 144.25, 120.75, 103.25, 101.5 , 109.75, 113.75,\n",
       "       123.25, 111.5 , 107.75, 123.5 , 122.5 , 117.25, 101.25,  80.  ,\n",
       "        85.  ,  67.75,  78.  ,  88.  ,  94.5 , 114.  ,  97.25,  98.25,\n",
       "        82.5 ,  58.75,  46.  ,  68.25,  76.5 ,  93.25,  80.75,  61.75,\n",
       "        44.75,  42.25,  66.  ,  75.75,  72.25,  86.75, 111.25,  88.25,\n",
       "        74.  ,  57.5 ,  72.5 ,  87.25,  71.75,  62.5 ,  62.25,  48.  ,\n",
       "        64.5 ,  60.25,  36.  ,  58.75,  39.  ,  20.5 ,  32.5 ,  17.  ,\n",
       "        30.75,  13.25,  30.5 ,  22.  ,   8.25, -14.75, -38.  , -15.25,\n",
       "         6.75,  30.  ,  43.75,  51.5 ,  56.  ,  44.5 ,  45.  ,  40.75,\n",
       "        38.25,  31.5 ,  13.5 ,  29.25,  15.5 ,  23.5 ,  40.  ,  20.  ])"
      ]
     },
     "execution_count": 142,
     "metadata": {},
     "output_type": "execute_result"
    }
   ],
   "source": [
    "walk = walk.cumsum() #Tính tổng tích lũy\n",
    "walk"
   ]
  },
  {
   "cell_type": "code",
   "execution_count": 143,
   "id": "70e490ab",
   "metadata": {},
   "outputs": [
    {
     "data": {
      "text/plain": [
       "1459"
      ]
     },
     "execution_count": 143,
     "metadata": {},
     "output_type": "execute_result"
    }
   ],
   "source": [
    "len(px) + N"
   ]
  },
  {
   "cell_type": "code",
   "execution_count": 144,
   "id": "81481397",
   "metadata": {},
   "outputs": [
    {
     "data": {
      "text/plain": [
       "Timestamp('2017-12-04 00:00:00')"
      ]
     },
     "execution_count": 144,
     "metadata": {},
     "output_type": "execute_result"
    }
   ],
   "source": [
    "px.index[0]"
   ]
  },
  {
   "cell_type": "code",
   "execution_count": 145,
   "id": "400a1d8f",
   "metadata": {},
   "outputs": [
    {
     "data": {
      "text/plain": [
       "DatetimeIndex(['2017-12-04', '2017-12-05', '2017-12-06', '2017-12-07',\n",
       "               '2017-12-08', '2017-12-11', '2017-12-12', '2017-12-13',\n",
       "               '2017-12-14', '2017-12-15',\n",
       "               ...\n",
       "               '2023-06-23', '2023-06-26', '2023-06-27', '2023-06-28',\n",
       "               '2023-06-29', '2023-06-30', '2023-07-03', '2023-07-04',\n",
       "               '2023-07-05', '2023-07-06'],\n",
       "              dtype='datetime64[ns]', length=1459, freq='B')"
      ]
     },
     "execution_count": 145,
     "metadata": {},
     "output_type": "execute_result"
    }
   ],
   "source": [
    "rng = pd.date_range(px.index[0], periods=len(px) + N, freq='B')\n",
    "rng"
   ]
  },
  {
   "cell_type": "code",
   "execution_count": 146,
   "id": "586da34c",
   "metadata": {},
   "outputs": [
    {
     "data": {
      "text/plain": [
       "(200,)"
      ]
     },
     "execution_count": 146,
     "metadata": {},
     "output_type": "execute_result"
    },
    {
     "data": {
      "text/plain": [
       "array([4050.5779, 4075.3279, 4085.8279, 4068.3279, 4070.3279, 4053.8279,\n",
       "       4051.8279, 4047.3279, 4067.3279, 4073.0779, 4073.5779, 4085.0779,\n",
       "       4100.5779, 4097.5779, 4120.8279, 4137.0779, 4133.8279, 4125.0779,\n",
       "       4135.3279, 4156.5779, 4163.3279, 4178.0779, 4185.5779, 4186.8279,\n",
       "       4166.5779, 4183.0779, 4188.0779, 4190.8279, 4176.3279, 4184.0779,\n",
       "       4188.5779, 4212.8279, 4193.5779, 4178.8279, 4191.3279, 4194.3279,\n",
       "       4184.0779, 4186.8279, 4204.8279, 4197.8279, 4195.5779, 4200.3279,\n",
       "       4184.3279, 4187.5779, 4200.0779, 4201.0779, 4193.8279, 4199.3279,\n",
       "       4212.8279, 4232.5779, 4257.3279, 4280.8279, 4303.3279, 4306.0779,\n",
       "       4287.0779, 4311.8279, 4298.0779, 4302.5779, 4310.3279, 4318.3279,\n",
       "       4330.3279, 4340.5779, 4327.3279, 4322.3279, 4329.8279, 4326.3279,\n",
       "       4345.3279, 4353.0779, 4337.5779, 4339.0779, 4322.3279, 4303.5779,\n",
       "       4288.3279, 4285.3279, 4308.5779, 4327.8279, 4311.0779, 4290.0779,\n",
       "       4278.3279, 4281.0779, 4263.5779, 4278.3279, 4271.0779, 4260.3279,\n",
       "       4267.8279, 4277.5779, 4260.8279, 4238.5779, 4220.3279, 4235.3279,\n",
       "       4227.5779, 4248.8279, 4262.3279, 4259.0779, 4242.8279, 4249.5779,\n",
       "       4230.5779, 4218.0779, 4241.5779, 4257.0779, 4249.0779, 4264.0779,\n",
       "       4269.8279, 4269.8279, 4252.8279, 4239.3279, 4225.8279, 4217.0779,\n",
       "       4192.8279, 4216.8279, 4241.0779, 4247.0779, 4241.5779, 4217.5779,\n",
       "       4197.8279, 4184.3279, 4183.0779, 4187.0779, 4177.3279, 4171.8279,\n",
       "       4159.3279, 4178.8279, 4173.8279, 4150.3279, 4132.8279, 4131.0779,\n",
       "       4139.3279, 4143.3279, 4152.8279, 4141.0779, 4137.3279, 4153.0779,\n",
       "       4152.0779, 4146.8279, 4130.8279, 4109.5779, 4114.5779, 4097.3279,\n",
       "       4107.5779, 4117.5779, 4124.0779, 4143.5779, 4126.8279, 4127.8279,\n",
       "       4112.0779, 4088.3279, 4075.5779, 4097.8279, 4106.0779, 4122.8279,\n",
       "       4110.3279, 4091.3279, 4074.3279, 4071.8279, 4095.5779, 4105.3279,\n",
       "       4101.8279, 4116.3279, 4140.8279, 4117.8279, 4103.5779, 4087.0779,\n",
       "       4102.0779, 4116.8279, 4101.3279, 4092.0779, 4091.8279, 4077.5779,\n",
       "       4094.0779, 4089.8279, 4065.5779, 4088.3279, 4068.5779, 4050.0779,\n",
       "       4062.0779, 4046.5779, 4060.3279, 4042.8279, 4060.0779, 4051.5779,\n",
       "       4037.8279, 4014.8279, 3991.5779, 4014.3279, 4036.3279, 4059.5779,\n",
       "       4073.3279, 4081.0779, 4085.5779, 4074.0779, 4074.5779, 4070.3279,\n",
       "       4067.8279, 4061.0779, 4043.0779, 4058.8279, 4045.0779, 4053.0779,\n",
       "       4069.5779, 4049.5779])"
      ]
     },
     "execution_count": 146,
     "metadata": {},
     "output_type": "execute_result"
    }
   ],
   "source": [
    "(px.values[-1] + walk).shape\n",
    "px.values[-1] + walk"
   ]
  },
  {
   "cell_type": "code",
   "execution_count": 147,
   "id": "9c6dbe73",
   "metadata": {},
   "outputs": [
    {
     "data": {
      "text/plain": [
       "(1259,)"
      ]
     },
     "execution_count": 147,
     "metadata": {},
     "output_type": "execute_result"
    },
    {
     "data": {
      "text/plain": [
       "array([2423.9035, 2415.1855, 2415.6444, ..., 4076.7999, 4073.8   ,\n",
       "       4029.5779])"
      ]
     },
     "execution_count": 147,
     "metadata": {},
     "output_type": "execute_result"
    }
   ],
   "source": [
    "(px.values).shape\n",
    "px.values"
   ]
  },
  {
   "cell_type": "code",
   "execution_count": 148,
   "id": "b380c19c",
   "metadata": {},
   "outputs": [
    {
     "data": {
      "text/plain": [
       "(1459,)"
      ]
     },
     "execution_count": 148,
     "metadata": {},
     "output_type": "execute_result"
    },
    {
     "data": {
      "text/plain": [
       "array([2423.9035, 2415.1855, 2415.6444, ..., 4053.0779, 4069.5779,\n",
       "       4049.5779])"
      ]
     },
     "execution_count": 148,
     "metadata": {},
     "output_type": "execute_result"
    }
   ],
   "source": [
    "near = np.concatenate([px.values, px.values[-1] + walk])\n",
    "near.shape\n",
    "near"
   ]
  },
  {
   "cell_type": "code",
   "execution_count": 149,
   "id": "4f9402b4",
   "metadata": {},
   "outputs": [
    {
     "data": {
      "text/plain": [
       "(1459,)"
      ]
     },
     "execution_count": 149,
     "metadata": {},
     "output_type": "execute_result"
    },
    {
     "data": {
      "text/plain": [
       "array([2423.9035, 2415.1855, 2415.6444, ..., 4054.8279, 4068.8279,\n",
       "       4047.3279])"
      ]
     },
     "execution_count": 149,
     "metadata": {},
     "output_type": "execute_result"
    }
   ],
   "source": [
    "far = np.concatenate([px.values, px.values[-1] + walk + perturb])\n",
    "far.shape\n",
    "far"
   ]
  },
  {
   "cell_type": "code",
   "execution_count": 150,
   "id": "e38b1cce",
   "metadata": {},
   "outputs": [
    {
     "data": {
      "text/html": [
       "<div>\n",
       "<style scoped>\n",
       "    .dataframe tbody tr th:only-of-type {\n",
       "        vertical-align: middle;\n",
       "    }\n",
       "\n",
       "    .dataframe tbody tr th {\n",
       "        vertical-align: top;\n",
       "    }\n",
       "\n",
       "    .dataframe thead th {\n",
       "        text-align: right;\n",
       "    }\n",
       "</style>\n",
       "<table border=\"1\" class=\"dataframe\">\n",
       "  <thead>\n",
       "    <tr style=\"text-align: right;\">\n",
       "      <th></th>\n",
       "      <th>ESU2</th>\n",
       "      <th>ESZ2</th>\n",
       "    </tr>\n",
       "  </thead>\n",
       "  <tbody>\n",
       "    <tr>\n",
       "      <th>2017-12-04</th>\n",
       "      <td>2423.903503</td>\n",
       "      <td>2423.903503</td>\n",
       "    </tr>\n",
       "    <tr>\n",
       "      <th>2017-12-05</th>\n",
       "      <td>2415.185547</td>\n",
       "      <td>2415.185547</td>\n",
       "    </tr>\n",
       "    <tr>\n",
       "      <th>2017-12-06</th>\n",
       "      <td>2415.644379</td>\n",
       "      <td>2415.644379</td>\n",
       "    </tr>\n",
       "    <tr>\n",
       "      <th>2017-12-07</th>\n",
       "      <td>2423.260956</td>\n",
       "      <td>2423.260956</td>\n",
       "    </tr>\n",
       "    <tr>\n",
       "      <th>2017-12-08</th>\n",
       "      <td>2436.475525</td>\n",
       "      <td>2436.475525</td>\n",
       "    </tr>\n",
       "    <tr>\n",
       "      <th>...</th>\n",
       "      <td>...</td>\n",
       "      <td>...</td>\n",
       "    </tr>\n",
       "    <tr>\n",
       "      <th>2023-06-30</th>\n",
       "      <td>4058.827942</td>\n",
       "      <td>4060.577942</td>\n",
       "    </tr>\n",
       "    <tr>\n",
       "      <th>2023-07-03</th>\n",
       "      <td>4045.077942</td>\n",
       "      <td>4047.327942</td>\n",
       "    </tr>\n",
       "    <tr>\n",
       "      <th>2023-07-04</th>\n",
       "      <td>4053.077942</td>\n",
       "      <td>4054.827942</td>\n",
       "    </tr>\n",
       "    <tr>\n",
       "      <th>2023-07-05</th>\n",
       "      <td>4069.577942</td>\n",
       "      <td>4068.827942</td>\n",
       "    </tr>\n",
       "    <tr>\n",
       "      <th>2023-07-06</th>\n",
       "      <td>4049.577942</td>\n",
       "      <td>4047.327942</td>\n",
       "    </tr>\n",
       "  </tbody>\n",
       "</table>\n",
       "<p>1459 rows × 2 columns</p>\n",
       "</div>"
      ],
      "text/plain": [
       "                   ESU2         ESZ2\n",
       "2017-12-04  2423.903503  2423.903503\n",
       "2017-12-05  2415.185547  2415.185547\n",
       "2017-12-06  2415.644379  2415.644379\n",
       "2017-12-07  2423.260956  2423.260956\n",
       "2017-12-08  2436.475525  2436.475525\n",
       "...                 ...          ...\n",
       "2023-06-30  4058.827942  4060.577942\n",
       "2023-07-03  4045.077942  4047.327942\n",
       "2023-07-04  4053.077942  4054.827942\n",
       "2023-07-05  4069.577942  4068.827942\n",
       "2023-07-06  4049.577942  4047.327942\n",
       "\n",
       "[1459 rows x 2 columns]"
      ]
     },
     "execution_count": 150,
     "metadata": {},
     "output_type": "execute_result"
    }
   ],
   "source": [
    "prices = pd.DataFrame({'ESU2': near, 'ESZ2': far}, index=rng)\n",
    "prices"
   ]
  },
  {
   "cell_type": "markdown",
   "id": "ba42b839",
   "metadata": {},
   "source": [
    "prices sau đó có hai chuỗi thời gian cho các hợp đồng khác nhau một lượng ngẫu nhiên:"
   ]
  },
  {
   "cell_type": "code",
   "execution_count": 151,
   "id": "bfbab07e",
   "metadata": {},
   "outputs": [
    {
     "data": {
      "text/html": [
       "<div>\n",
       "<style scoped>\n",
       "    .dataframe tbody tr th:only-of-type {\n",
       "        vertical-align: middle;\n",
       "    }\n",
       "\n",
       "    .dataframe tbody tr th {\n",
       "        vertical-align: top;\n",
       "    }\n",
       "\n",
       "    .dataframe thead th {\n",
       "        text-align: right;\n",
       "    }\n",
       "</style>\n",
       "<table border=\"1\" class=\"dataframe\">\n",
       "  <thead>\n",
       "    <tr style=\"text-align: right;\">\n",
       "      <th></th>\n",
       "      <th>ESU2</th>\n",
       "      <th>ESZ2</th>\n",
       "    </tr>\n",
       "  </thead>\n",
       "  <tbody>\n",
       "    <tr>\n",
       "      <th>2023-06-30</th>\n",
       "      <td>4058.827942</td>\n",
       "      <td>4060.577942</td>\n",
       "    </tr>\n",
       "    <tr>\n",
       "      <th>2023-07-03</th>\n",
       "      <td>4045.077942</td>\n",
       "      <td>4047.327942</td>\n",
       "    </tr>\n",
       "    <tr>\n",
       "      <th>2023-07-04</th>\n",
       "      <td>4053.077942</td>\n",
       "      <td>4054.827942</td>\n",
       "    </tr>\n",
       "    <tr>\n",
       "      <th>2023-07-05</th>\n",
       "      <td>4069.577942</td>\n",
       "      <td>4068.827942</td>\n",
       "    </tr>\n",
       "    <tr>\n",
       "      <th>2023-07-06</th>\n",
       "      <td>4049.577942</td>\n",
       "      <td>4047.327942</td>\n",
       "    </tr>\n",
       "  </tbody>\n",
       "</table>\n",
       "</div>"
      ],
      "text/plain": [
       "                   ESU2         ESZ2\n",
       "2023-06-30  4058.827942  4060.577942\n",
       "2023-07-03  4045.077942  4047.327942\n",
       "2023-07-04  4053.077942  4054.827942\n",
       "2023-07-05  4069.577942  4068.827942\n",
       "2023-07-06  4049.577942  4047.327942"
      ]
     },
     "execution_count": 151,
     "metadata": {},
     "output_type": "execute_result"
    }
   ],
   "source": [
    "prices.tail()"
   ]
  },
  {
   "cell_type": "markdown",
   "id": "416652d8",
   "metadata": {},
   "source": [
    "Một cách để nối các chuỗi thời gian với nhau thành một chuỗi liên tục là xây dựng ma\n",
    "trận trọng số. Các hợp đồng đang hoạt động sẽ có trọng số là 1 cho đến khi ngày hết hạn\n",
    "gần kề. Tại thời điểm đó, bạn phải quyết định một quy ước cuộn. Đây là một hàm tính\n",
    "toán một ma trận trọng số với phân rã tuyến tính trong một số khoảng thời gian dẫn đến\n",
    "hết hạn:\n"
   ]
  },
  {
   "cell_type": "code",
   "execution_count": 152,
   "id": "1a2ab494",
   "metadata": {},
   "outputs": [],
   "source": [
    "def get_roll_weights(start, expiry, items, roll_periods=5):\n",
    " # start : first date to compute weighting DataFrame\n",
    " # expiry : Series of ticker -> expiration dates\n",
    " # items : sequence of contract names\n",
    "    dates = pd.date_range(start, expiry[-1], freq='B')\n",
    "    weights = pd.DataFrame(np.zeros((len(dates), len(items))),\n",
    "                        index=dates, columns=items)\n",
    "    prev_date = weights.index[0]\n",
    "    for i, (item, ex_date) in enumerate(expiry.iteritems()):\n",
    "        if i < len(expiry) - 1:\n",
    "            #ix[] đã được thay bằng loc[]\n",
    "            weights.loc[prev_date:ex_date - pd.offsets.BDay(), item] = 1\n",
    "            roll_rng = pd.date_range(end=ex_date - pd.offsets.BDay(),\n",
    "                                    periods=roll_periods + 1, freq='B')\n",
    "\n",
    "            decay_weights = np.linspace(0, 1, roll_periods + 1)\n",
    "            weights.loc[roll_rng, item] = 1 - decay_weights\n",
    "            weights.loc[roll_rng, expiry.index[i + 1]] = decay_weights\n",
    "        else:\n",
    "            weights.loc[prev_date:, item] = 1\n",
    "    prev_date = ex_date\n",
    "    return weights\n"
   ]
  },
  {
   "cell_type": "markdown",
   "id": "b913733e",
   "metadata": {},
   "source": [
    "Các trọng số trông như thế này xung quanh ESU2 expiry:\n"
   ]
  },
  {
   "cell_type": "code",
   "execution_count": 153,
   "id": "a6494e86",
   "metadata": {},
   "outputs": [
    {
     "data": {
      "text/plain": [
       "Timestamp('2012-12-21 00:00:00')"
      ]
     },
     "execution_count": 153,
     "metadata": {},
     "output_type": "execute_result"
    }
   ],
   "source": [
    "expiry[-1]"
   ]
  },
  {
   "cell_type": "code",
   "execution_count": 154,
   "id": "625a0f8c",
   "metadata": {},
   "outputs": [
    {
     "data": {
      "text/plain": [
       "DatetimeIndex(['2012-06-01', '2012-06-04', '2012-06-05', '2012-06-06',\n",
       "               '2012-06-07', '2012-06-08', '2012-06-11', '2012-06-12',\n",
       "               '2012-06-13', '2012-06-14',\n",
       "               ...\n",
       "               '2012-12-10', '2012-12-11', '2012-12-12', '2012-12-13',\n",
       "               '2012-12-14', '2012-12-17', '2012-12-18', '2012-12-19',\n",
       "               '2012-12-20', '2012-12-21'],\n",
       "              dtype='datetime64[ns]', length=146, freq='B')"
      ]
     },
     "execution_count": 154,
     "metadata": {},
     "output_type": "execute_result"
    }
   ],
   "source": [
    "test_dates = pd.date_range('6/1/2012', expiry[-1], freq='B')\n",
    "test_dates"
   ]
  },
  {
   "cell_type": "code",
   "execution_count": 155,
   "id": "35001231",
   "metadata": {},
   "outputs": [
    {
     "data": {
      "text/plain": [
       "146"
      ]
     },
     "execution_count": 155,
     "metadata": {},
     "output_type": "execute_result"
    }
   ],
   "source": [
    "len(test_dates)"
   ]
  },
  {
   "cell_type": "code",
   "execution_count": 156,
   "id": "f1eec612",
   "metadata": {},
   "outputs": [
    {
     "data": {
      "text/plain": [
       "Index(['ESU2', 'ESZ2'], dtype='object')"
      ]
     },
     "execution_count": 156,
     "metadata": {},
     "output_type": "execute_result"
    },
    {
     "data": {
      "text/plain": [
       "2"
      ]
     },
     "execution_count": 156,
     "metadata": {},
     "output_type": "execute_result"
    }
   ],
   "source": [
    "prices.columns\n",
    "len(prices.columns)"
   ]
  },
  {
   "cell_type": "code",
   "execution_count": 157,
   "id": "3b656d40",
   "metadata": {},
   "outputs": [
    {
     "data": {
      "text/html": [
       "<div>\n",
       "<style scoped>\n",
       "    .dataframe tbody tr th:only-of-type {\n",
       "        vertical-align: middle;\n",
       "    }\n",
       "\n",
       "    .dataframe tbody tr th {\n",
       "        vertical-align: top;\n",
       "    }\n",
       "\n",
       "    .dataframe thead th {\n",
       "        text-align: right;\n",
       "    }\n",
       "</style>\n",
       "<table border=\"1\" class=\"dataframe\">\n",
       "  <thead>\n",
       "    <tr style=\"text-align: right;\">\n",
       "      <th></th>\n",
       "      <th>ESU2</th>\n",
       "      <th>ESZ2</th>\n",
       "    </tr>\n",
       "  </thead>\n",
       "  <tbody>\n",
       "    <tr>\n",
       "      <th>2012-06-01</th>\n",
       "      <td>0.0</td>\n",
       "      <td>0.0</td>\n",
       "    </tr>\n",
       "    <tr>\n",
       "      <th>2012-06-04</th>\n",
       "      <td>0.0</td>\n",
       "      <td>0.0</td>\n",
       "    </tr>\n",
       "    <tr>\n",
       "      <th>2012-06-05</th>\n",
       "      <td>0.0</td>\n",
       "      <td>0.0</td>\n",
       "    </tr>\n",
       "    <tr>\n",
       "      <th>2012-06-06</th>\n",
       "      <td>0.0</td>\n",
       "      <td>0.0</td>\n",
       "    </tr>\n",
       "    <tr>\n",
       "      <th>2012-06-07</th>\n",
       "      <td>0.0</td>\n",
       "      <td>0.0</td>\n",
       "    </tr>\n",
       "    <tr>\n",
       "      <th>...</th>\n",
       "      <td>...</td>\n",
       "      <td>...</td>\n",
       "    </tr>\n",
       "    <tr>\n",
       "      <th>2012-12-17</th>\n",
       "      <td>0.0</td>\n",
       "      <td>0.0</td>\n",
       "    </tr>\n",
       "    <tr>\n",
       "      <th>2012-12-18</th>\n",
       "      <td>0.0</td>\n",
       "      <td>0.0</td>\n",
       "    </tr>\n",
       "    <tr>\n",
       "      <th>2012-12-19</th>\n",
       "      <td>0.0</td>\n",
       "      <td>0.0</td>\n",
       "    </tr>\n",
       "    <tr>\n",
       "      <th>2012-12-20</th>\n",
       "      <td>0.0</td>\n",
       "      <td>0.0</td>\n",
       "    </tr>\n",
       "    <tr>\n",
       "      <th>2012-12-21</th>\n",
       "      <td>0.0</td>\n",
       "      <td>0.0</td>\n",
       "    </tr>\n",
       "  </tbody>\n",
       "</table>\n",
       "<p>146 rows × 2 columns</p>\n",
       "</div>"
      ],
      "text/plain": [
       "            ESU2  ESZ2\n",
       "2012-06-01   0.0   0.0\n",
       "2012-06-04   0.0   0.0\n",
       "2012-06-05   0.0   0.0\n",
       "2012-06-06   0.0   0.0\n",
       "2012-06-07   0.0   0.0\n",
       "...          ...   ...\n",
       "2012-12-17   0.0   0.0\n",
       "2012-12-18   0.0   0.0\n",
       "2012-12-19   0.0   0.0\n",
       "2012-12-20   0.0   0.0\n",
       "2012-12-21   0.0   0.0\n",
       "\n",
       "[146 rows x 2 columns]"
      ]
     },
     "execution_count": 157,
     "metadata": {},
     "output_type": "execute_result"
    }
   ],
   "source": [
    "test_weights = pd.DataFrame(np.zeros((len(test_dates), len(prices.columns))),\n",
    "                        index=test_dates, columns=prices.columns)\n",
    "test_weights"
   ]
  },
  {
   "cell_type": "code",
   "execution_count": 158,
   "id": "2485066b",
   "metadata": {},
   "outputs": [
    {
     "data": {
      "text/plain": [
       "Timestamp('2012-06-01 00:00:00', freq='B')"
      ]
     },
     "execution_count": 158,
     "metadata": {},
     "output_type": "execute_result"
    }
   ],
   "source": [
    "test_prev_date = test_weights.index[0]\n",
    "test_prev_date"
   ]
  },
  {
   "cell_type": "code",
   "execution_count": 159,
   "id": "64ffa914",
   "metadata": {},
   "outputs": [],
   "source": [
    "roll_periods=5\n",
    "for i, (item, ex_date) in enumerate(expiry.iteritems()):\n",
    "    if i < len(expiry) - 1:\n",
    "        #ix[] đã được thay bằng loc[]\n",
    "        test_weights.loc[test_prev_date:ex_date - pd.offsets.BDay(), item] = 1\n",
    "        roll_rng = pd.date_range(end=ex_date - pd.offsets.BDay(),\n",
    "                                periods=roll_periods + 1, freq='B')\n",
    "        decay_weights = np.linspace(0, 1, roll_periods + 1)\n",
    "        test_weights.loc[roll_rng, item] = 1 - decay_weights\n",
    "        test_weights.loc[roll_rng, expiry.index[i + 1]] = decay_weights\n",
    "    else:\n",
    "        test_weights.loc[test_prev_date:, item] = 1"
   ]
  },
  {
   "cell_type": "code",
   "execution_count": 160,
   "id": "1bd6cb9c",
   "metadata": {},
   "outputs": [
    {
     "data": {
      "text/html": [
       "<div>\n",
       "<style scoped>\n",
       "    .dataframe tbody tr th:only-of-type {\n",
       "        vertical-align: middle;\n",
       "    }\n",
       "\n",
       "    .dataframe tbody tr th {\n",
       "        vertical-align: top;\n",
       "    }\n",
       "\n",
       "    .dataframe thead th {\n",
       "        text-align: right;\n",
       "    }\n",
       "</style>\n",
       "<table border=\"1\" class=\"dataframe\">\n",
       "  <thead>\n",
       "    <tr style=\"text-align: right;\">\n",
       "      <th></th>\n",
       "      <th>ESU2</th>\n",
       "      <th>ESZ2</th>\n",
       "    </tr>\n",
       "  </thead>\n",
       "  <tbody>\n",
       "    <tr>\n",
       "      <th>2012-06-01</th>\n",
       "      <td>1.0</td>\n",
       "      <td>1.0</td>\n",
       "    </tr>\n",
       "    <tr>\n",
       "      <th>2012-06-04</th>\n",
       "      <td>1.0</td>\n",
       "      <td>1.0</td>\n",
       "    </tr>\n",
       "    <tr>\n",
       "      <th>2012-06-05</th>\n",
       "      <td>1.0</td>\n",
       "      <td>1.0</td>\n",
       "    </tr>\n",
       "    <tr>\n",
       "      <th>2012-06-06</th>\n",
       "      <td>1.0</td>\n",
       "      <td>1.0</td>\n",
       "    </tr>\n",
       "    <tr>\n",
       "      <th>2012-06-07</th>\n",
       "      <td>1.0</td>\n",
       "      <td>1.0</td>\n",
       "    </tr>\n",
       "    <tr>\n",
       "      <th>...</th>\n",
       "      <td>...</td>\n",
       "      <td>...</td>\n",
       "    </tr>\n",
       "    <tr>\n",
       "      <th>2012-12-17</th>\n",
       "      <td>0.0</td>\n",
       "      <td>1.0</td>\n",
       "    </tr>\n",
       "    <tr>\n",
       "      <th>2012-12-18</th>\n",
       "      <td>0.0</td>\n",
       "      <td>1.0</td>\n",
       "    </tr>\n",
       "    <tr>\n",
       "      <th>2012-12-19</th>\n",
       "      <td>0.0</td>\n",
       "      <td>1.0</td>\n",
       "    </tr>\n",
       "    <tr>\n",
       "      <th>2012-12-20</th>\n",
       "      <td>0.0</td>\n",
       "      <td>1.0</td>\n",
       "    </tr>\n",
       "    <tr>\n",
       "      <th>2012-12-21</th>\n",
       "      <td>0.0</td>\n",
       "      <td>1.0</td>\n",
       "    </tr>\n",
       "  </tbody>\n",
       "</table>\n",
       "<p>146 rows × 2 columns</p>\n",
       "</div>"
      ],
      "text/plain": [
       "            ESU2  ESZ2\n",
       "2012-06-01   1.0   1.0\n",
       "2012-06-04   1.0   1.0\n",
       "2012-06-05   1.0   1.0\n",
       "2012-06-06   1.0   1.0\n",
       "2012-06-07   1.0   1.0\n",
       "...          ...   ...\n",
       "2012-12-17   0.0   1.0\n",
       "2012-12-18   0.0   1.0\n",
       "2012-12-19   0.0   1.0\n",
       "2012-12-20   0.0   1.0\n",
       "2012-12-21   0.0   1.0\n",
       "\n",
       "[146 rows x 2 columns]"
      ]
     },
     "execution_count": 160,
     "metadata": {},
     "output_type": "execute_result"
    }
   ],
   "source": [
    "test_weights"
   ]
  },
  {
   "cell_type": "markdown",
   "id": "08120787",
   "metadata": {},
   "source": [
    "............................."
   ]
  },
  {
   "cell_type": "code",
   "execution_count": 161,
   "id": "de2e6edf",
   "metadata": {},
   "outputs": [],
   "source": [
    "\n",
    "weights = get_roll_weights('6/1/2012', expiry, prices.columns)"
   ]
  },
  {
   "cell_type": "code",
   "execution_count": 162,
   "id": "a9cdcdad",
   "metadata": {},
   "outputs": [
    {
     "data": {
      "text/html": [
       "<div>\n",
       "<style scoped>\n",
       "    .dataframe tbody tr th:only-of-type {\n",
       "        vertical-align: middle;\n",
       "    }\n",
       "\n",
       "    .dataframe tbody tr th {\n",
       "        vertical-align: top;\n",
       "    }\n",
       "\n",
       "    .dataframe thead th {\n",
       "        text-align: right;\n",
       "    }\n",
       "</style>\n",
       "<table border=\"1\" class=\"dataframe\">\n",
       "  <thead>\n",
       "    <tr style=\"text-align: right;\">\n",
       "      <th></th>\n",
       "      <th>ESU2</th>\n",
       "      <th>ESZ2</th>\n",
       "    </tr>\n",
       "  </thead>\n",
       "  <tbody>\n",
       "    <tr>\n",
       "      <th>2012-09-12</th>\n",
       "      <td>1.0</td>\n",
       "      <td>1.0</td>\n",
       "    </tr>\n",
       "    <tr>\n",
       "      <th>2012-09-13</th>\n",
       "      <td>1.0</td>\n",
       "      <td>1.0</td>\n",
       "    </tr>\n",
       "    <tr>\n",
       "      <th>2012-09-14</th>\n",
       "      <td>0.8</td>\n",
       "      <td>1.0</td>\n",
       "    </tr>\n",
       "    <tr>\n",
       "      <th>2012-09-17</th>\n",
       "      <td>0.6</td>\n",
       "      <td>1.0</td>\n",
       "    </tr>\n",
       "    <tr>\n",
       "      <th>2012-09-18</th>\n",
       "      <td>0.4</td>\n",
       "      <td>1.0</td>\n",
       "    </tr>\n",
       "    <tr>\n",
       "      <th>2012-09-19</th>\n",
       "      <td>0.2</td>\n",
       "      <td>1.0</td>\n",
       "    </tr>\n",
       "    <tr>\n",
       "      <th>2012-09-20</th>\n",
       "      <td>0.0</td>\n",
       "      <td>1.0</td>\n",
       "    </tr>\n",
       "    <tr>\n",
       "      <th>2012-09-21</th>\n",
       "      <td>0.0</td>\n",
       "      <td>1.0</td>\n",
       "    </tr>\n",
       "  </tbody>\n",
       "</table>\n",
       "</div>"
      ],
      "text/plain": [
       "            ESU2  ESZ2\n",
       "2012-09-12   1.0   1.0\n",
       "2012-09-13   1.0   1.0\n",
       "2012-09-14   0.8   1.0\n",
       "2012-09-17   0.6   1.0\n",
       "2012-09-18   0.4   1.0\n",
       "2012-09-19   0.2   1.0\n",
       "2012-09-20   0.0   1.0\n",
       "2012-09-21   0.0   1.0"
      ]
     },
     "execution_count": 162,
     "metadata": {},
     "output_type": "execute_result"
    }
   ],
   "source": [
    "weights.loc['2012-09-12':'2012-09-21']\n"
   ]
  },
  {
   "cell_type": "markdown",
   "id": "35b198f5",
   "metadata": {},
   "source": [
    "Cuối cùng, lợi nhuận tương lai được chuyển nhượng chỉ là một tổng trọng số của lợi\n",
    "nhuận hợp đồng:\n"
   ]
  },
  {
   "cell_type": "code",
   "execution_count": 163,
   "id": "a9363eff",
   "metadata": {},
   "outputs": [],
   "source": [
    "rolled_returns = (prices.pct_change() * weights).sum(1)\n"
   ]
  },
  {
   "cell_type": "markdown",
   "id": "38f756cb",
   "metadata": {},
   "source": [
    "3.3 Rolling Correlation and Linear Regression\n",
    "\n",
    "Tương quan cuộn và hồi quy tuyến tính"
   ]
  },
  {
   "cell_type": "markdown",
   "id": "084d541e",
   "metadata": {},
   "source": [
    "Các mô hình động đóng một vai trò quan trọng trong mô hình tài chính vì chúng có\n",
    "thể được sử dụng để mô phỏng các quyết định giao dịch trong một giai đoạn lịch sử. Di\n",
    "chuyển cửa sổ và chức năng chuỗi thời gian có trọng số theo cấp số nhân là một ví dụ về\n",
    "các công cụ được sử dụng cho các mô hình động.\n",
    "\n",
    "Tương quan là một cách để xem xét sự đồng chuyển động giữa những thay đổi trong hai\n",
    "chuỗi thời gian của nội dung. Hàm rolling-cor có thể được gọi với hai chuỗi trả về để tính\n",
    "toán tương quan cửa sổ chuyển động. Đầu tiên, tôi tải một số chuỗi giá từ Yahoo!Finance\n",
    "và tính toán lợi nhuận hàng ngày:"
   ]
  },
  {
   "cell_type": "code",
   "execution_count": 164,
   "id": "4425bbab",
   "metadata": {},
   "outputs": [
    {
     "data": {
      "text/plain": [
       "Date\n",
       "1999-12-31      0.782493\n",
       "2000-01-03      0.851942\n",
       "2000-01-04      0.780115\n",
       "2000-01-05      0.791530\n",
       "2000-01-06      0.723033\n",
       "                 ...    \n",
       "2022-11-28    144.220001\n",
       "2022-11-29    141.169998\n",
       "2022-11-30    148.029999\n",
       "2022-12-01    148.309998\n",
       "2022-12-02    146.009995\n",
       "Name: Adj Close, Length: 5769, dtype: float64"
      ]
     },
     "execution_count": 164,
     "metadata": {},
     "output_type": "execute_result"
    }
   ],
   "source": [
    "aapl = web.get_data_yahoo('AAPL', '2000-01-01')['Adj Close']\n",
    "aapl"
   ]
  },
  {
   "cell_type": "code",
   "execution_count": 165,
   "id": "a1829918",
   "metadata": {},
   "outputs": [
    {
     "data": {
      "text/plain": [
       "Date\n",
       "1999-12-31     36.511276\n",
       "2000-01-03     36.452641\n",
       "2000-01-04     35.221272\n",
       "2000-01-05     35.592636\n",
       "2000-01-06     34.400341\n",
       "                 ...    \n",
       "2022-11-28    241.759995\n",
       "2022-11-29    240.330002\n",
       "2022-11-30    255.139999\n",
       "2022-12-01    254.690002\n",
       "2022-12-02    250.739899\n",
       "Name: Adj Close, Length: 5769, dtype: float64"
      ]
     },
     "execution_count": 165,
     "metadata": {},
     "output_type": "execute_result"
    }
   ],
   "source": [
    "msft = web.get_data_yahoo('MSFT', '2000-01-01')['Adj Close']\n",
    "msft"
   ]
  },
  {
   "cell_type": "code",
   "execution_count": 166,
   "id": "6f6035f9",
   "metadata": {},
   "outputs": [
    {
     "data": {
      "text/plain": [
       "Date\n",
       "1999-12-31         NaN\n",
       "2000-01-03    0.088754\n",
       "2000-01-04   -0.084310\n",
       "2000-01-05    0.014633\n",
       "2000-01-06   -0.086538\n",
       "                ...   \n",
       "2022-11-28   -0.026264\n",
       "2022-11-29   -0.021148\n",
       "2022-11-30    0.048594\n",
       "2022-12-01    0.001892\n",
       "2022-12-02   -0.015508\n",
       "Name: Adj Close, Length: 5769, dtype: float64"
      ]
     },
     "execution_count": 166,
     "metadata": {},
     "output_type": "execute_result"
    }
   ],
   "source": [
    "aapl_rets = aapl.pct_change()\n",
    "aapl_rets\n"
   ]
  },
  {
   "cell_type": "code",
   "execution_count": 167,
   "id": "07cc58c6",
   "metadata": {},
   "outputs": [
    {
     "data": {
      "text/plain": [
       "Date\n",
       "1999-12-31         NaN\n",
       "2000-01-03   -0.001606\n",
       "2000-01-04   -0.033780\n",
       "2000-01-05    0.010544\n",
       "2000-01-06   -0.033498\n",
       "                ...   \n",
       "2022-11-28   -0.023152\n",
       "2022-11-29   -0.005915\n",
       "2022-11-30    0.061624\n",
       "2022-12-01   -0.001764\n",
       "2022-12-02   -0.015509\n",
       "Name: Adj Close, Length: 5769, dtype: float64"
      ]
     },
     "execution_count": 167,
     "metadata": {},
     "output_type": "execute_result"
    }
   ],
   "source": [
    "msft_rets = msft.pct_change()\n",
    "msft_rets"
   ]
  },
  {
   "cell_type": "markdown",
   "id": "d6de3085",
   "metadata": {},
   "source": [
    "Sau đó, tôi tính toán và vẽ biểu đồ tương quan biến động trong một năm:"
   ]
  },
  {
   "cell_type": "code",
   "execution_count": 168,
   "id": "4f77383c",
   "metadata": {},
   "outputs": [
    {
     "data": {
      "text/plain": [
       "pandas.core.series.Series"
      ]
     },
     "execution_count": 168,
     "metadata": {},
     "output_type": "execute_result"
    }
   ],
   "source": [
    "type(msft_rets)"
   ]
  },
  {
   "cell_type": "code",
   "execution_count": 169,
   "id": "13317f42",
   "metadata": {},
   "outputs": [
    {
     "data": {
      "text/plain": [
       "Date\n",
       "1999-12-31         NaN\n",
       "2000-01-03         NaN\n",
       "2000-01-04         NaN\n",
       "2000-01-05         NaN\n",
       "2000-01-06         NaN\n",
       "                ...   \n",
       "2022-11-28    0.819956\n",
       "2022-11-29    0.819295\n",
       "2022-11-30    0.823090\n",
       "2022-12-01    0.822929\n",
       "2022-12-02    0.823320\n",
       "Name: Adj Close, Length: 5769, dtype: float64"
      ]
     },
     "execution_count": 169,
     "metadata": {},
     "output_type": "execute_result"
    }
   ],
   "source": [
    "#Tính tương quan của apple với microsoft\n",
    "aapl_rets.rolling(250).corr(msft_rets)\n",
    "\n",
    "#corr viết tắt: Correlation Coefficient: hệ số tương quan\n",
    "#rolling: cửa sổ cuộn, 250: lấy 250 hệ số tương quan"
   ]
  },
  {
   "cell_type": "code",
   "execution_count": 170,
   "id": "47ba074a",
   "metadata": {},
   "outputs": [
    {
     "data": {
      "text/plain": [
       "<AxesSubplot:xlabel='Date'>"
      ]
     },
     "execution_count": 170,
     "metadata": {},
     "output_type": "execute_result"
    },
    {
     "data": {
      "image/png": "[encoded data removed]",
      "text/plain": [
       "<Figure size 720x432 with 1 Axes>"
      ]
     },
     "metadata": {
      "needs_background": "light"
     },
     "output_type": "display_data"
    }
   ],
   "source": [
    "aapl_rets.rolling(250).corr(msft_rets).plot()\n"
   ]
  },
  {
   "cell_type": "code",
   "execution_count": null,
   "id": "f1b0ab1b",
   "metadata": {},
   "outputs": [],
   "source": []
  },
  {
   "cell_type": "code",
   "execution_count": null,
   "id": "cbc64179",
   "metadata": {},
   "outputs": [],
   "source": []
  },
  {
   "cell_type": "code",
   "execution_count": null,
   "id": "201e3d19",
   "metadata": {},
   "outputs": [],
   "source": []
  }
 ],
 "metadata": {
  "kernelspec": {
   "display_name": "Python 3 (ipykernel)",
   "language": "python",
   "name": "python3"
  },
  "language_info": {
   "codemirror_mode": {
    "name": "ipython",
    "version": 3
   },
   "file_extension": ".py",
   "mimetype": "text/x-python",
   "name": "python",
   "nbconvert_exporter": "python",
   "pygments_lexer": "ipython3",
   "version": "3.9.12"
  },
  "vscode": {
   "interpreter": {
    "hash": "4ba9ba0d213d51775899540e2d5f310a57ffddf17c2c59a1aafdb8cbdb1dbb45"
   }
  }
 },
 "nbformat": 4,
 "nbformat_minor": 5
}
